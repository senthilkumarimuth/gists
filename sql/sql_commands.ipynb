{
 "cells": [
  {
   "cell_type": "markdown",
   "metadata": {},
   "source": [
    "# sample table"
   ]
  },
  {
   "cell_type": "code",
   "execution_count": 1,
   "metadata": {},
   "outputs": [
    {
     "name": "stdout",
     "output_type": "stream",
     "text": [
      "     total_bill   tip     sex smoker   day    time  size\n",
      "0         16.99  1.01  Female     No   Sun  Dinner     2\n",
      "1         10.34  1.66    Male     No   Sun  Dinner     3\n",
      "2         21.01  3.50    Male     No   Sun  Dinner     3\n",
      "3         23.68  3.31    Male     No   Sun  Dinner     2\n",
      "4         24.59  3.61  Female     No   Sun  Dinner     4\n",
      "..          ...   ...     ...    ...   ...     ...   ...\n",
      "239       29.03  5.92    Male     No   Sat  Dinner     3\n",
      "240       27.18  2.00  Female    Yes   Sat  Dinner     2\n",
      "241       22.67  2.00    Male    Yes   Sat  Dinner     2\n",
      "242       17.82  1.75    Male     No   Sat  Dinner     2\n",
      "243       18.78  3.00  Female     No  Thur  Dinner     2\n",
      "\n",
      "[244 rows x 7 columns]\n"
     ]
    }
   ],
   "source": [
    "import seaborn as sb\n",
    "\n",
    "df = sb.load_dataset('tips')\n",
    "conn = \"sqlite:///example\"  \n",
    "df.to_sql(\n",
    "            'tips',            \n",
    "            conn,                \n",
    "            if_exists='replace'\n",
    "           )\n",
    "print(df)"
   ]
  },
  {
   "cell_type": "markdown",
   "metadata": {},
   "source": [
    "# DENSE_RANK()\n",
    "\n",
    "DENSE_RANK() is a window function in SQL that assigns a rank to each row within a partition of a result set. It is similar to the RANK() function, but DENSE_RANK() does not leave gaps in the ranking sequence when there are ties.\n",
    "\n",
    "For example, if two rows are tied for rank 1, the next rank assigned will be 2, not 3. This function is useful for scenarios where you want to rank items without skipping numbers.\n",
    "\n"
   ]
  },
  {
   "cell_type": "code",
   "execution_count": 27,
   "metadata": {},
   "outputs": [
    {
     "data": {
      "text/html": [
       "<div>\n",
       "<style scoped>\n",
       "    .dataframe tbody tr th:only-of-type {\n",
       "        vertical-align: middle;\n",
       "    }\n",
       "\n",
       "    .dataframe tbody tr th {\n",
       "        vertical-align: top;\n",
       "    }\n",
       "\n",
       "    .dataframe thead th {\n",
       "        text-align: right;\n",
       "    }\n",
       "</style>\n",
       "<table border=\"1\" class=\"dataframe\">\n",
       "  <thead>\n",
       "    <tr style=\"text-align: right;\">\n",
       "      <th></th>\n",
       "      <th>total_bill</th>\n",
       "      <th>tip</th>\n",
       "      <th>sex</th>\n",
       "      <th>Rank</th>\n",
       "    </tr>\n",
       "  </thead>\n",
       "  <tbody>\n",
       "    <tr>\n",
       "      <th>0</th>\n",
       "      <td>50</td>\n",
       "      <td>10.00</td>\n",
       "      <td>Male</td>\n",
       "      <td>1</td>\n",
       "    </tr>\n",
       "    <tr>\n",
       "      <th>1</th>\n",
       "      <td>48</td>\n",
       "      <td>6.73</td>\n",
       "      <td>Male</td>\n",
       "      <td>2</td>\n",
       "    </tr>\n",
       "    <tr>\n",
       "      <th>2</th>\n",
       "      <td>48</td>\n",
       "      <td>5.00</td>\n",
       "      <td>Male</td>\n",
       "      <td>2</td>\n",
       "    </tr>\n",
       "    <tr>\n",
       "      <th>3</th>\n",
       "      <td>48</td>\n",
       "      <td>9.00</td>\n",
       "      <td>Male</td>\n",
       "      <td>2</td>\n",
       "    </tr>\n",
       "    <tr>\n",
       "      <th>4</th>\n",
       "      <td>45</td>\n",
       "      <td>3.50</td>\n",
       "      <td>Male</td>\n",
       "      <td>3</td>\n",
       "    </tr>\n",
       "  </tbody>\n",
       "</table>\n",
       "</div>"
      ],
      "text/plain": [
       "   total_bill    tip   sex  Rank\n",
       "0          50  10.00  Male     1\n",
       "1          48   6.73  Male     2\n",
       "2          48   5.00  Male     2\n",
       "3          48   9.00  Male     2\n",
       "4          45   3.50  Male     3"
      ]
     },
     "execution_count": 27,
     "metadata": {},
     "output_type": "execute_result"
    }
   ],
   "source": [
    "import pandas as pd\n",
    "query_result = pd.read_sql(\"\"\"SELECT total_bill, tip, sex, DENSE_RANK() OVER (ORDER BY total_bill DESC) AS Rank\n",
    "            FROM (SELECT CAST(total_bill AS INTEGER) AS total_bill, tip, sex\n",
    "            FROM tips)\"\"\", con=conn)\n",
    "query_result.head()"
   ]
  },
  {
   "cell_type": "markdown",
   "metadata": {},
   "source": [
    "# RANK()\n",
    " \n",
    "RANK() is a window function in SQL that assigns a unique rank to each row within a partition of a result set. Unlike DENSE_RANK(), the RANK() function leaves gaps in the ranking sequence when there are ties. \n",
    "\n",
    "For example, if two rows are tied for rank 1, the next rank assigned will be 3, not 2. This function is useful for scenarios where you want to rank items and acknowledge the gaps created by ties.\n"
   ]
  },
  {
   "cell_type": "code",
   "execution_count": 28,
   "metadata": {},
   "outputs": [
    {
     "data": {
      "text/html": [
       "<div>\n",
       "<style scoped>\n",
       "    .dataframe tbody tr th:only-of-type {\n",
       "        vertical-align: middle;\n",
       "    }\n",
       "\n",
       "    .dataframe tbody tr th {\n",
       "        vertical-align: top;\n",
       "    }\n",
       "\n",
       "    .dataframe thead th {\n",
       "        text-align: right;\n",
       "    }\n",
       "</style>\n",
       "<table border=\"1\" class=\"dataframe\">\n",
       "  <thead>\n",
       "    <tr style=\"text-align: right;\">\n",
       "      <th></th>\n",
       "      <th>total_bill</th>\n",
       "      <th>tip</th>\n",
       "      <th>sex</th>\n",
       "      <th>Rank</th>\n",
       "    </tr>\n",
       "  </thead>\n",
       "  <tbody>\n",
       "    <tr>\n",
       "      <th>0</th>\n",
       "      <td>50</td>\n",
       "      <td>10.00</td>\n",
       "      <td>Male</td>\n",
       "      <td>1</td>\n",
       "    </tr>\n",
       "    <tr>\n",
       "      <th>1</th>\n",
       "      <td>48</td>\n",
       "      <td>6.73</td>\n",
       "      <td>Male</td>\n",
       "      <td>2</td>\n",
       "    </tr>\n",
       "    <tr>\n",
       "      <th>2</th>\n",
       "      <td>48</td>\n",
       "      <td>5.00</td>\n",
       "      <td>Male</td>\n",
       "      <td>2</td>\n",
       "    </tr>\n",
       "    <tr>\n",
       "      <th>3</th>\n",
       "      <td>48</td>\n",
       "      <td>9.00</td>\n",
       "      <td>Male</td>\n",
       "      <td>2</td>\n",
       "    </tr>\n",
       "    <tr>\n",
       "      <th>4</th>\n",
       "      <td>45</td>\n",
       "      <td>3.50</td>\n",
       "      <td>Male</td>\n",
       "      <td>5</td>\n",
       "    </tr>\n",
       "  </tbody>\n",
       "</table>\n",
       "</div>"
      ],
      "text/plain": [
       "   total_bill    tip   sex  Rank\n",
       "0          50  10.00  Male     1\n",
       "1          48   6.73  Male     2\n",
       "2          48   5.00  Male     2\n",
       "3          48   9.00  Male     2\n",
       "4          45   3.50  Male     5"
      ]
     },
     "execution_count": 28,
     "metadata": {},
     "output_type": "execute_result"
    }
   ],
   "source": [
    "import pandas as pd\n",
    "query_result = pd.read_sql(\"\"\"SELECT total_bill, tip, sex, RANK() OVER (ORDER BY total_bill DESC) AS Rank\n",
    "            FROM (SELECT CAST(total_bill AS INTEGER) AS total_bill, tip, sex\n",
    "            FROM tips)\"\"\", con=conn)\n",
    "query_result.head()"
   ]
  },
  {
   "cell_type": "markdown",
   "metadata": {},
   "source": [
    "# AS\n",
    "\n",
    "Using SELECT inside another select"
   ]
  },
  {
   "cell_type": "code",
   "execution_count": 5,
   "metadata": {},
   "outputs": [
    {
     "data": {
      "text/html": [
       "<div>\n",
       "<style scoped>\n",
       "    .dataframe tbody tr th:only-of-type {\n",
       "        vertical-align: middle;\n",
       "    }\n",
       "\n",
       "    .dataframe tbody tr th {\n",
       "        vertical-align: top;\n",
       "    }\n",
       "\n",
       "    .dataframe thead th {\n",
       "        text-align: right;\n",
       "    }\n",
       "</style>\n",
       "<table border=\"1\" class=\"dataframe\">\n",
       "  <thead>\n",
       "    <tr style=\"text-align: right;\">\n",
       "      <th></th>\n",
       "      <th>index</th>\n",
       "      <th>total_bill</th>\n",
       "      <th>tip</th>\n",
       "      <th>sex</th>\n",
       "      <th>smoker</th>\n",
       "      <th>day</th>\n",
       "      <th>time</th>\n",
       "      <th>size</th>\n",
       "    </tr>\n",
       "  </thead>\n",
       "  <tbody>\n",
       "    <tr>\n",
       "      <th>0</th>\n",
       "      <td>0</td>\n",
       "      <td>16.99</td>\n",
       "      <td>1.01</td>\n",
       "      <td>Female</td>\n",
       "      <td>No</td>\n",
       "      <td>Sun</td>\n",
       "      <td>Dinner</td>\n",
       "      <td>2</td>\n",
       "    </tr>\n",
       "    <tr>\n",
       "      <th>1</th>\n",
       "      <td>1</td>\n",
       "      <td>10.34</td>\n",
       "      <td>1.66</td>\n",
       "      <td>Male</td>\n",
       "      <td>No</td>\n",
       "      <td>Sun</td>\n",
       "      <td>Dinner</td>\n",
       "      <td>3</td>\n",
       "    </tr>\n",
       "    <tr>\n",
       "      <th>2</th>\n",
       "      <td>2</td>\n",
       "      <td>21.01</td>\n",
       "      <td>3.50</td>\n",
       "      <td>Male</td>\n",
       "      <td>No</td>\n",
       "      <td>Sun</td>\n",
       "      <td>Dinner</td>\n",
       "      <td>3</td>\n",
       "    </tr>\n",
       "    <tr>\n",
       "      <th>3</th>\n",
       "      <td>3</td>\n",
       "      <td>23.68</td>\n",
       "      <td>3.31</td>\n",
       "      <td>Male</td>\n",
       "      <td>No</td>\n",
       "      <td>Sun</td>\n",
       "      <td>Dinner</td>\n",
       "      <td>2</td>\n",
       "    </tr>\n",
       "    <tr>\n",
       "      <th>4</th>\n",
       "      <td>4</td>\n",
       "      <td>24.59</td>\n",
       "      <td>3.61</td>\n",
       "      <td>Female</td>\n",
       "      <td>No</td>\n",
       "      <td>Sun</td>\n",
       "      <td>Dinner</td>\n",
       "      <td>4</td>\n",
       "    </tr>\n",
       "  </tbody>\n",
       "</table>\n",
       "</div>"
      ],
      "text/plain": [
       "   index  total_bill   tip     sex smoker  day    time  size\n",
       "0      0       16.99  1.01  Female     No  Sun  Dinner     2\n",
       "1      1       10.34  1.66    Male     No  Sun  Dinner     3\n",
       "2      2       21.01  3.50    Male     No  Sun  Dinner     3\n",
       "3      3       23.68  3.31    Male     No  Sun  Dinner     2\n",
       "4      4       24.59  3.61  Female     No  Sun  Dinner     4"
      ]
     },
     "execution_count": 5,
     "metadata": {},
     "output_type": "execute_result"
    }
   ],
   "source": [
    "import pandas as pd\n",
    "\n",
    "query_result = pd.read_sql(\"\"\"SELECT * FROM tips WHERE total_bill IN (SELECT total_bill FROM (SELECT DISTINCT total_bill FROM tips LIMIT 5) AS unique_bills)\"\"\", con=conn)\n",
    "query_result.head()"
   ]
  },
  {
   "cell_type": "markdown",
   "metadata": {},
   "source": [
    "# MINUS OR EXCEPT"
   ]
  },
  {
   "cell_type": "markdown",
   "metadata": {},
   "source": [
    "\n",
    "The `MINUS` operator in SQL is used to return all rows in the first SELECT statement that are not returned by the second SELECT statement. It is supported in some SQL dialects like Oracle. In other databases like PostgreSQL, the equivalent is `EXCEPT`.\n"
   ]
  },
  {
   "cell_type": "code",
   "execution_count": 15,
   "metadata": {},
   "outputs": [
    {
     "name": "stdout",
     "output_type": "stream",
     "text": [
      "   total_bill\n",
      "0       50.81\n",
      "1       48.33\n",
      "2       48.27\n",
      "3       48.17\n",
      "4       45.35\n",
      "5       44.30\n"
     ]
    }
   ],
   "source": [
    "query_result = pd.read_sql(\"\"\"\n",
    "SELECT total_bill FROM (\n",
    "    SELECT DISTINCT total_bill FROM tips ORDER BY total_bill DESC LIMIT 6\n",
    ")\"\"\", conn)\n",
    "print(query_result)"
   ]
  },
  {
   "cell_type": "code",
   "execution_count": 16,
   "metadata": {},
   "outputs": [
    {
     "name": "stdout",
     "output_type": "stream",
     "text": [
      "   total_bill\n",
      "0       50.81\n",
      "1       48.33\n",
      "2       48.27\n",
      "3       48.17\n",
      "4       45.35\n"
     ]
    }
   ],
   "source": [
    "query_result = pd.read_sql(\"\"\"\n",
    "SELECT total_bill FROM (\n",
    "    SELECT DISTINCT total_bill FROM tips ORDER BY total_bill DESC LIMIT 5\n",
    ")\"\"\", conn)\n",
    "print(query_result)"
   ]
  },
  {
   "cell_type": "code",
   "execution_count": 14,
   "metadata": {},
   "outputs": [
    {
     "data": {
      "text/html": [
       "<div>\n",
       "<style scoped>\n",
       "    .dataframe tbody tr th:only-of-type {\n",
       "        vertical-align: middle;\n",
       "    }\n",
       "\n",
       "    .dataframe tbody tr th {\n",
       "        vertical-align: top;\n",
       "    }\n",
       "\n",
       "    .dataframe thead th {\n",
       "        text-align: right;\n",
       "    }\n",
       "</style>\n",
       "<table border=\"1\" class=\"dataframe\">\n",
       "  <thead>\n",
       "    <tr style=\"text-align: right;\">\n",
       "      <th></th>\n",
       "      <th>total_bill</th>\n",
       "    </tr>\n",
       "  </thead>\n",
       "  <tbody>\n",
       "    <tr>\n",
       "      <th>0</th>\n",
       "      <td>44.3</td>\n",
       "    </tr>\n",
       "  </tbody>\n",
       "</table>\n",
       "</div>"
      ],
      "text/plain": [
       "   total_bill\n",
       "0        44.3"
      ]
     },
     "execution_count": 14,
     "metadata": {},
     "output_type": "execute_result"
    }
   ],
   "source": [
    "import pandas as pd\n",
    "\n",
    "# Example: Get all unique total_bill values in tips that are not among the top 5 highest total_bill values\n",
    "query_result = pd.read_sql(\"\"\"\n",
    "SELECT total_bill FROM (\n",
    "    SELECT DISTINCT total_bill FROM tips ORDER BY total_bill DESC LIMIT 6\n",
    ")\n",
    "EXCEPT\n",
    "SELECT total_bill FROM (\n",
    "    SELECT DISTINCT total_bill FROM tips ORDER BY total_bill DESC LIMIT 5\n",
    ")\n",
    "\"\"\", con=conn)\n",
    "query_result.head()\n"
   ]
  },
  {
   "cell_type": "markdown",
   "metadata": {},
   "source": [
    "# UNION"
   ]
  },
  {
   "cell_type": "markdown",
   "metadata": {},
   "source": [
    "The UNION operator in SQL is used to combine the result sets of two or more SELECT statements.\n",
    "It returns all distinct rows selected by either query.\n",
    "Each SELECT statement within the UNION must have the same number of columns, and the columns must have compatible data types.\n",
    "\n",
    "Example:\n",
    "\n",
    "SELECT column1, column2 FROM table1\n",
    "\n",
    "UNION\n",
    "\n",
    "SELECT column1, column2 FROM table2;\n"
   ]
  },
  {
   "cell_type": "code",
   "execution_count": 17,
   "metadata": {},
   "outputs": [
    {
     "name": "stdout",
     "output_type": "stream",
     "text": [
      "   total_bill\n",
      "0       50.81\n",
      "1       48.33\n",
      "2       48.27\n",
      "3       48.17\n",
      "4       45.35\n",
      "5       44.30\n"
     ]
    }
   ],
   "source": [
    "query_result = pd.read_sql(\"\"\"\n",
    "SELECT total_bill FROM (\n",
    "    SELECT DISTINCT total_bill FROM tips ORDER BY total_bill DESC LIMIT 6\n",
    ")\"\"\", conn)\n",
    "print(query_result)"
   ]
  },
  {
   "cell_type": "code",
   "execution_count": 18,
   "metadata": {},
   "outputs": [
    {
     "name": "stdout",
     "output_type": "stream",
     "text": [
      "   total_bill\n",
      "0       50.81\n",
      "1       48.33\n",
      "2       48.27\n",
      "3       48.17\n",
      "4       45.35\n"
     ]
    }
   ],
   "source": [
    "query_result = pd.read_sql(\"\"\"\n",
    "SELECT total_bill FROM (\n",
    "    SELECT DISTINCT total_bill FROM tips ORDER BY total_bill DESC LIMIT 5\n",
    ")\"\"\", conn)\n",
    "print(query_result)"
   ]
  },
  {
   "cell_type": "code",
   "execution_count": 20,
   "metadata": {},
   "outputs": [
    {
     "data": {
      "text/html": [
       "<div>\n",
       "<style scoped>\n",
       "    .dataframe tbody tr th:only-of-type {\n",
       "        vertical-align: middle;\n",
       "    }\n",
       "\n",
       "    .dataframe tbody tr th {\n",
       "        vertical-align: top;\n",
       "    }\n",
       "\n",
       "    .dataframe thead th {\n",
       "        text-align: right;\n",
       "    }\n",
       "</style>\n",
       "<table border=\"1\" class=\"dataframe\">\n",
       "  <thead>\n",
       "    <tr style=\"text-align: right;\">\n",
       "      <th></th>\n",
       "      <th>total_bill</th>\n",
       "    </tr>\n",
       "  </thead>\n",
       "  <tbody>\n",
       "    <tr>\n",
       "      <th>0</th>\n",
       "      <td>44.30</td>\n",
       "    </tr>\n",
       "    <tr>\n",
       "      <th>1</th>\n",
       "      <td>45.35</td>\n",
       "    </tr>\n",
       "    <tr>\n",
       "      <th>2</th>\n",
       "      <td>48.17</td>\n",
       "    </tr>\n",
       "    <tr>\n",
       "      <th>3</th>\n",
       "      <td>48.27</td>\n",
       "    </tr>\n",
       "    <tr>\n",
       "      <th>4</th>\n",
       "      <td>48.33</td>\n",
       "    </tr>\n",
       "    <tr>\n",
       "      <th>5</th>\n",
       "      <td>50.81</td>\n",
       "    </tr>\n",
       "  </tbody>\n",
       "</table>\n",
       "</div>"
      ],
      "text/plain": [
       "   total_bill\n",
       "0       44.30\n",
       "1       45.35\n",
       "2       48.17\n",
       "3       48.27\n",
       "4       48.33\n",
       "5       50.81"
      ]
     },
     "execution_count": 20,
     "metadata": {},
     "output_type": "execute_result"
    }
   ],
   "source": [
    "import pandas as pd\n",
    "\n",
    "# Example: Get all unique total_bill values in tips that are not among the top 5 highest total_bill values\n",
    "query_result = pd.read_sql(\"\"\"\n",
    "SELECT total_bill FROM (\n",
    "    SELECT DISTINCT total_bill FROM tips ORDER BY total_bill DESC LIMIT 6\n",
    ")\n",
    "UNION\n",
    "SELECT total_bill FROM (\n",
    "    SELECT DISTINCT total_bill FROM tips ORDER BY total_bill DESC LIMIT 5\n",
    ")\n",
    "\"\"\", con=conn)\n",
    "query_result"
   ]
  },
  {
   "cell_type": "markdown",
   "metadata": {},
   "source": [
    "# UNION ALL"
   ]
  },
  {
   "cell_type": "markdown",
   "metadata": {},
   "source": [
    "The UNION ALL operator in SQL is used to combine the result sets of two or more SELECT statements.\n",
    "Unlike UNION, UNION ALL does not remove duplicate rows; it returns all rows from each SELECT statement, including duplicates.\n",
    "\n",
    "Example:\n",
    "\n",
    "SELECT column1, column2 FROM table1\n",
    "\n",
    "UNION ALL\n",
    "\n",
    "SELECT column1, column2 FROM table2;\n",
    "\n",
    "This will return all rows from both table1 and table2, including any duplicates.\n"
   ]
  },
  {
   "cell_type": "code",
   "execution_count": 21,
   "metadata": {},
   "outputs": [
    {
     "name": "stdout",
     "output_type": "stream",
     "text": [
      "   total_bill\n",
      "0       50.81\n",
      "1       48.33\n",
      "2       48.27\n",
      "3       48.17\n",
      "4       45.35\n",
      "5       44.30\n"
     ]
    }
   ],
   "source": [
    "query_result = pd.read_sql(\"\"\"\n",
    "SELECT total_bill FROM (\n",
    "    SELECT DISTINCT total_bill FROM tips ORDER BY total_bill DESC LIMIT 6\n",
    ")\"\"\", conn)\n",
    "print(query_result)"
   ]
  },
  {
   "cell_type": "code",
   "execution_count": 22,
   "metadata": {},
   "outputs": [
    {
     "name": "stdout",
     "output_type": "stream",
     "text": [
      "   total_bill\n",
      "0       50.81\n",
      "1       48.33\n",
      "2       48.27\n",
      "3       48.17\n",
      "4       45.35\n"
     ]
    }
   ],
   "source": [
    "query_result = pd.read_sql(\"\"\"\n",
    "SELECT total_bill FROM (\n",
    "    SELECT DISTINCT total_bill FROM tips ORDER BY total_bill DESC LIMIT 5\n",
    ")\"\"\", conn)\n",
    "print(query_result)"
   ]
  },
  {
   "cell_type": "code",
   "execution_count": 23,
   "metadata": {},
   "outputs": [
    {
     "data": {
      "text/html": [
       "<div>\n",
       "<style scoped>\n",
       "    .dataframe tbody tr th:only-of-type {\n",
       "        vertical-align: middle;\n",
       "    }\n",
       "\n",
       "    .dataframe tbody tr th {\n",
       "        vertical-align: top;\n",
       "    }\n",
       "\n",
       "    .dataframe thead th {\n",
       "        text-align: right;\n",
       "    }\n",
       "</style>\n",
       "<table border=\"1\" class=\"dataframe\">\n",
       "  <thead>\n",
       "    <tr style=\"text-align: right;\">\n",
       "      <th></th>\n",
       "      <th>total_bill</th>\n",
       "    </tr>\n",
       "  </thead>\n",
       "  <tbody>\n",
       "    <tr>\n",
       "      <th>0</th>\n",
       "      <td>50.81</td>\n",
       "    </tr>\n",
       "    <tr>\n",
       "      <th>1</th>\n",
       "      <td>48.33</td>\n",
       "    </tr>\n",
       "    <tr>\n",
       "      <th>2</th>\n",
       "      <td>48.27</td>\n",
       "    </tr>\n",
       "    <tr>\n",
       "      <th>3</th>\n",
       "      <td>48.17</td>\n",
       "    </tr>\n",
       "    <tr>\n",
       "      <th>4</th>\n",
       "      <td>45.35</td>\n",
       "    </tr>\n",
       "    <tr>\n",
       "      <th>5</th>\n",
       "      <td>44.30</td>\n",
       "    </tr>\n",
       "    <tr>\n",
       "      <th>6</th>\n",
       "      <td>50.81</td>\n",
       "    </tr>\n",
       "    <tr>\n",
       "      <th>7</th>\n",
       "      <td>48.33</td>\n",
       "    </tr>\n",
       "    <tr>\n",
       "      <th>8</th>\n",
       "      <td>48.27</td>\n",
       "    </tr>\n",
       "    <tr>\n",
       "      <th>9</th>\n",
       "      <td>48.17</td>\n",
       "    </tr>\n",
       "    <tr>\n",
       "      <th>10</th>\n",
       "      <td>45.35</td>\n",
       "    </tr>\n",
       "  </tbody>\n",
       "</table>\n",
       "</div>"
      ],
      "text/plain": [
       "    total_bill\n",
       "0        50.81\n",
       "1        48.33\n",
       "2        48.27\n",
       "3        48.17\n",
       "4        45.35\n",
       "5        44.30\n",
       "6        50.81\n",
       "7        48.33\n",
       "8        48.27\n",
       "9        48.17\n",
       "10       45.35"
      ]
     },
     "execution_count": 23,
     "metadata": {},
     "output_type": "execute_result"
    }
   ],
   "source": [
    "import pandas as pd\n",
    "\n",
    "# Example: Get all unique total_bill values in tips that are not among the top 5 highest total_bill values\n",
    "query_result = pd.read_sql(\"\"\"\n",
    "SELECT total_bill FROM (\n",
    "    SELECT DISTINCT total_bill FROM tips ORDER BY total_bill DESC LIMIT 6\n",
    ")\n",
    "UNION ALL\n",
    "SELECT total_bill FROM (\n",
    "    SELECT DISTINCT total_bill FROM tips ORDER BY total_bill DESC LIMIT 5\n",
    ")\n",
    "\"\"\", con=conn)\n",
    "query_result"
   ]
  },
  {
   "cell_type": "markdown",
   "metadata": {},
   "source": [
    "# windows"
   ]
  },
  {
   "cell_type": "markdown",
   "metadata": {},
   "source": [
    "Window functions in SQL are used to perform calculations across a set of table rows that are somehow related to the current row. \n",
    "Unlike aggregate functions, window functions do not cause rows to become grouped into a single output row; the rows retain their separate identities.\n",
    " \n",
    "Common window functions include **RANK(), DENSE_RANK(), ROW_NUMBER(), SUM(), AVG(), etc.**\n",
    " \n",
    "The general syntax for a window function is:\n",
    " \n",
    "    function_name(column) OVER (\n",
    "\n",
    "       PARTITION BY column1\n",
    "       ORDER BY column2\n",
    "\n",
    "    )\n",
    " \n",
    " - PARTITION BY divides the result set into partitions to which the window function is applied.\n",
    " - ORDER BY defines the logical order of the rows within each partition.\n",
    " \n",
    " Example:\n",
    "\n",
    "    SELECT\n",
    "\n",
    "       total_bill,\n",
    "\n",
    "       RANK() OVER (ORDER BY total_bill DESC) AS bill_rank\n",
    "\n",
    "    FROM tips;\n",
    " \n",
    "This assigns a rank to each row based on the total_bill value in descending order.\n",
    "\n"
   ]
  },
  {
   "cell_type": "code",
   "execution_count": 2,
   "metadata": {},
   "outputs": [
    {
     "data": {
      "text/html": [
       "<div>\n",
       "<style scoped>\n",
       "    .dataframe tbody tr th:only-of-type {\n",
       "        vertical-align: middle;\n",
       "    }\n",
       "\n",
       "    .dataframe tbody tr th {\n",
       "        vertical-align: top;\n",
       "    }\n",
       "\n",
       "    .dataframe thead th {\n",
       "        text-align: right;\n",
       "    }\n",
       "</style>\n",
       "<table border=\"1\" class=\"dataframe\">\n",
       "  <thead>\n",
       "    <tr style=\"text-align: right;\">\n",
       "      <th></th>\n",
       "      <th>total_bill</th>\n",
       "      <th>tip</th>\n",
       "      <th>sex</th>\n",
       "      <th>Rank</th>\n",
       "    </tr>\n",
       "  </thead>\n",
       "  <tbody>\n",
       "    <tr>\n",
       "      <th>0</th>\n",
       "      <td>50</td>\n",
       "      <td>10.00</td>\n",
       "      <td>Male</td>\n",
       "      <td>1</td>\n",
       "    </tr>\n",
       "    <tr>\n",
       "      <th>1</th>\n",
       "      <td>48</td>\n",
       "      <td>6.73</td>\n",
       "      <td>Male</td>\n",
       "      <td>2</td>\n",
       "    </tr>\n",
       "    <tr>\n",
       "      <th>2</th>\n",
       "      <td>48</td>\n",
       "      <td>5.00</td>\n",
       "      <td>Male</td>\n",
       "      <td>2</td>\n",
       "    </tr>\n",
       "    <tr>\n",
       "      <th>3</th>\n",
       "      <td>48</td>\n",
       "      <td>9.00</td>\n",
       "      <td>Male</td>\n",
       "      <td>2</td>\n",
       "    </tr>\n",
       "    <tr>\n",
       "      <th>4</th>\n",
       "      <td>45</td>\n",
       "      <td>3.50</td>\n",
       "      <td>Male</td>\n",
       "      <td>5</td>\n",
       "    </tr>\n",
       "  </tbody>\n",
       "</table>\n",
       "</div>"
      ],
      "text/plain": [
       "   total_bill    tip   sex  Rank\n",
       "0          50  10.00  Male     1\n",
       "1          48   6.73  Male     2\n",
       "2          48   5.00  Male     2\n",
       "3          48   9.00  Male     2\n",
       "4          45   3.50  Male     5"
      ]
     },
     "execution_count": 2,
     "metadata": {},
     "output_type": "execute_result"
    }
   ],
   "source": [
    "import pandas as pd\n",
    "query_result = pd.read_sql(\"\"\"SELECT total_bill, tip, sex, RANK() OVER (ORDER BY total_bill DESC) AS Rank\n",
    "            FROM (SELECT CAST(total_bill AS INTEGER) AS total_bill, tip, sex\n",
    "            FROM tips)\"\"\", con=conn)\n",
    "query_result.head()"
   ]
  },
  {
   "cell_type": "markdown",
   "metadata": {},
   "source": [
    "# Row_number\n"
   ]
  },
  {
   "cell_type": "markdown",
   "metadata": {},
   "source": [
    "The ROW_NUMBER() window function assigns a unique sequential integer to rows within a result set, starting at 1 for the first row in each partition.\n",
    " "
   ]
  },
  {
   "cell_type": "code",
   "execution_count": 3,
   "metadata": {},
   "outputs": [
    {
     "data": {
      "text/html": [
       "<div>\n",
       "<style scoped>\n",
       "    .dataframe tbody tr th:only-of-type {\n",
       "        vertical-align: middle;\n",
       "    }\n",
       "\n",
       "    .dataframe tbody tr th {\n",
       "        vertical-align: top;\n",
       "    }\n",
       "\n",
       "    .dataframe thead th {\n",
       "        text-align: right;\n",
       "    }\n",
       "</style>\n",
       "<table border=\"1\" class=\"dataframe\">\n",
       "  <thead>\n",
       "    <tr style=\"text-align: right;\">\n",
       "      <th></th>\n",
       "      <th>total_bill</th>\n",
       "      <th>tip</th>\n",
       "      <th>sex</th>\n",
       "      <th>row_num</th>\n",
       "    </tr>\n",
       "  </thead>\n",
       "  <tbody>\n",
       "    <tr>\n",
       "      <th>0</th>\n",
       "      <td>50</td>\n",
       "      <td>10.00</td>\n",
       "      <td>Male</td>\n",
       "      <td>1</td>\n",
       "    </tr>\n",
       "    <tr>\n",
       "      <th>1</th>\n",
       "      <td>48</td>\n",
       "      <td>6.73</td>\n",
       "      <td>Male</td>\n",
       "      <td>2</td>\n",
       "    </tr>\n",
       "    <tr>\n",
       "      <th>2</th>\n",
       "      <td>48</td>\n",
       "      <td>5.00</td>\n",
       "      <td>Male</td>\n",
       "      <td>3</td>\n",
       "    </tr>\n",
       "    <tr>\n",
       "      <th>3</th>\n",
       "      <td>48</td>\n",
       "      <td>9.00</td>\n",
       "      <td>Male</td>\n",
       "      <td>4</td>\n",
       "    </tr>\n",
       "    <tr>\n",
       "      <th>4</th>\n",
       "      <td>45</td>\n",
       "      <td>3.50</td>\n",
       "      <td>Male</td>\n",
       "      <td>5</td>\n",
       "    </tr>\n",
       "  </tbody>\n",
       "</table>\n",
       "</div>"
      ],
      "text/plain": [
       "   total_bill    tip   sex  row_num\n",
       "0          50  10.00  Male        1\n",
       "1          48   6.73  Male        2\n",
       "2          48   5.00  Male        3\n",
       "3          48   9.00  Male        4\n",
       "4          45   3.50  Male        5"
      ]
     },
     "execution_count": 3,
     "metadata": {},
     "output_type": "execute_result"
    }
   ],
   "source": [
    "import pandas as pd\n",
    "query_result = pd.read_sql(\"\"\"\n",
    "    SELECT total_bill, tip, sex, ROW_NUMBER() OVER (ORDER BY total_bill DESC) AS row_num\n",
    "    FROM (SELECT CAST(total_bill AS INTEGER) AS total_bill, tip, sex FROM tips)\n",
    "\"\"\", con=conn)\n",
    "query_result.head()"
   ]
  }
 ],
 "metadata": {
  "kernelspec": {
   "display_name": ".venv",
   "language": "python",
   "name": "python3"
  },
  "language_info": {
   "codemirror_mode": {
    "name": "ipython",
    "version": 3
   },
   "file_extension": ".py",
   "mimetype": "text/x-python",
   "name": "python",
   "nbconvert_exporter": "python",
   "pygments_lexer": "ipython3",
   "version": "3.10.9"
  }
 },
 "nbformat": 4,
 "nbformat_minor": 2
}
