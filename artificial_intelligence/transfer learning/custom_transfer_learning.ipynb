{
 "cells": [
  {
   "cell_type": "markdown",
   "id": "f565184e-d1b7-4e4a-a16b-62c25fdd0147",
   "metadata": {},
   "source": [
    "Transfer learning is a machine learning technique where a model trained on one task is reused or adapted as a starting point for a related task. Instead of training a model from scratch, transfer learning leverages knowledge learned from one domain to improve performance on another domain, especially when the target domain has limited labeled data."
   ]
  },
  {
   "cell_type": "code",
   "execution_count": 4,
   "id": "51b0e39a-1d51-410e-bff7-75d41e27a067",
   "metadata": {},
   "outputs": [],
   "source": [
    "import tensorflow as tf\n",
    "from tensorflow.keras.applications import VGG16\n",
    "from tensorflow.keras.layers import Dense, Flatten\n",
    "from tensorflow.keras.models import Model"
   ]
  },
  {
   "cell_type": "code",
   "execution_count": 5,
   "id": "0f1a6ba6-b3eb-47cf-911d-f661e2bae6fd",
   "metadata": {},
   "outputs": [
    {
     "name": "stdout",
     "output_type": "stream",
     "text": [
      "Downloading data from https://storage.googleapis.com/tensorflow/keras-applications/vgg16/vgg16_weights_tf_dim_ordering_tf_kernels_notop.h5\n",
      "58889256/58889256 [==============================] - 46s 1us/step\n"
     ]
    }
   ],
   "source": [
    "# Load pre-trained VGG16 model without including the top (fully connected) layers\n",
    "base_model = VGG16(weights='imagenet', include_top=False, input_shape=(224, 224, 3))\n"
   ]
  },
  {
   "cell_type": "markdown",
   "id": "17a25df9-eb4d-4532-8591-c4e17b694c6c",
   "metadata": {},
   "source": [
    "![title](img/new41.jpg)\r\n"
   ]
  },
  {
   "cell_type": "code",
   "execution_count": null,
   "id": "d5a7d92b-b29c-42eb-93f5-c583766ee8b1",
   "metadata": {},
   "outputs": [],
   "source": [
    "\n",
    "# Freeze the weights of the pre-trained layers\n",
    "for layer in base_model.layers:\n",
    "    layer.trainable = False\n",
    "\n",
    "# Add custom top layers for the new task\n",
    "x = Flatten()(base_model.output)\n",
    "x = Dense(256, activation='relu')(x)\n",
    "output = Dense(num_classes, activation='softmax')(x)\n",
    "\n",
    "# Create a new model by combining the base model with custom top layers\n",
    "model = Model(inputs=base_model.input, outputs=output)\n",
    "\n",
    "# Compile and train the model on the new task\n",
    "model.compile(optimizer='adam', loss='categorical_crossentropy', metrics=['accuracy'])\n",
    "model.fit(train_data, train_labels, epochs=1, validation_data=(val_data, val_labels))"
   ]
  },
  {
   "cell_type": "markdown",
   "id": "07513672-b1fd-4f89-8986-4e6fd0cd2ca2",
   "metadata": {},
   "source": [
    "You can use your data to train using the above code."
   ]
  },
  {
   "cell_type": "code",
   "execution_count": null,
   "id": "a6dbc7f8-e559-4080-a10b-6bf081705147",
   "metadata": {},
   "outputs": [],
   "source": []
  }
 ],
 "metadata": {
  "kernelspec": {
   "display_name": "my_common_env",
   "language": "python",
   "name": "myenv"
  },
  "language_info": {
   "codemirror_mode": {
    "name": "ipython",
    "version": 3
   },
   "file_extension": ".py",
   "mimetype": "text/x-python",
   "name": "python",
   "nbconvert_exporter": "python",
   "pygments_lexer": "ipython3",
   "version": "3.10.9"
  }
 },
 "nbformat": 4,
 "nbformat_minor": 5
}
