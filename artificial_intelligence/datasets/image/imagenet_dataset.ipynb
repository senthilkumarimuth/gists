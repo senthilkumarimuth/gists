{
 "cells": [
  {
   "cell_type": "markdown",
   "id": "a8261463-16b9-4cbc-98fa-f1ed4ff09251",
   "metadata": {},
   "source": [
    "ImageNet is a large-scale dataset commonly used for training and evaluating computer vision models. It consists of over 14 million images covering more than 20,000 categories or classes"
   ]
  },
  {
   "cell_type": "markdown",
   "id": "fa0e50a2-993f-4ec4-b3eb-acdac6013184",
   "metadata": {},
   "source": [
    "The ImageNet dataset contains images of fixed size of 224*224 and have RGB channels. So, we have a tensor of (224, 224, 3) as our input."
   ]
  },
  {
   "cell_type": "markdown",
   "id": "15a5dc1c-a031-4691-8ca0-29664035e43b",
   "metadata": {},
   "source": [
    "Pre-trained models on ImageNet, such as VGG, ResNet, Inception, and EfficientNet, are often used as starting points for transfer learning in various computer vision applications. "
   ]
  },
  {
   "cell_type": "code",
   "execution_count": null,
   "id": "dd35645e-7fa6-419c-a091-54595571d75e",
   "metadata": {},
   "outputs": [],
   "source": []
  }
 ],
 "metadata": {
  "kernelspec": {
   "display_name": "my_common_env",
   "language": "python",
   "name": "myenv"
  },
  "language_info": {
   "codemirror_mode": {
    "name": "ipython",
    "version": 3
   },
   "file_extension": ".py",
   "mimetype": "text/x-python",
   "name": "python",
   "nbconvert_exporter": "python",
   "pygments_lexer": "ipython3",
   "version": "3.10.9"
  }
 },
 "nbformat": 4,
 "nbformat_minor": 5
}
