{
 "cells": [
  {
   "cell_type": "markdown",
   "id": "04fee2da",
   "metadata": {},
   "source": [
    "# Improving performance of LLMs"
   ]
  },
  {
   "cell_type": "markdown",
   "id": "eb7553b3",
   "metadata": {},
   "source": [
    "- Use of right embedding size\n",
    "   - Large sized embedding tends to perform better than small embedding."
   ]
  },
  {
   "cell_type": "code",
   "execution_count": null,
   "id": "e767d060",
   "metadata": {},
   "outputs": [],
   "source": []
  }
 ],
 "metadata": {
  "language_info": {
   "name": "python"
  }
 },
 "nbformat": 4,
 "nbformat_minor": 5
}
