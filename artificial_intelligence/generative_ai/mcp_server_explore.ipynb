{
 "cells": [
  {
   "cell_type": "code",
   "execution_count": 7,
   "metadata": {},
   "outputs": [
    {
     "name": "stdout",
     "output_type": "stream",
     "text": [
      "Requirement already satisfied: mcp[cli] in c:\\users\\senthil.marimuthu\\onedrive - htc global services, inc\\self\\gists\\.venv\\lib\\site-packages (1.4.1)\n",
      "Requirement already satisfied: anyio>=4.5 in c:\\users\\senthil.marimuthu\\onedrive - htc global services, inc\\self\\gists\\.venv\\lib\\site-packages (from mcp[cli]) (4.8.0)\n",
      "Requirement already satisfied: httpx-sse>=0.4 in c:\\users\\senthil.marimuthu\\onedrive - htc global services, inc\\self\\gists\\.venv\\lib\\site-packages (from mcp[cli]) (0.4.0)\n",
      "Requirement already satisfied: httpx>=0.27 in c:\\users\\senthil.marimuthu\\onedrive - htc global services, inc\\self\\gists\\.venv\\lib\\site-packages (from mcp[cli]) (0.27.2)\n",
      "Requirement already satisfied: pydantic-settings>=2.5.2 in c:\\users\\senthil.marimuthu\\onedrive - htc global services, inc\\self\\gists\\.venv\\lib\\site-packages (from mcp[cli]) (2.8.1)\n",
      "Requirement already satisfied: pydantic<3.0.0,>=2.7.2 in c:\\users\\senthil.marimuthu\\onedrive - htc global services, inc\\self\\gists\\.venv\\lib\\site-packages (from mcp[cli]) (2.9.2)\n",
      "Requirement already satisfied: sse-starlette>=1.6.1 in c:\\users\\senthil.marimuthu\\onedrive - htc global services, inc\\self\\gists\\.venv\\lib\\site-packages (from mcp[cli]) (2.2.1)\n",
      "Requirement already satisfied: starlette>=0.27 in c:\\users\\senthil.marimuthu\\onedrive - htc global services, inc\\self\\gists\\.venv\\lib\\site-packages (from mcp[cli]) (0.41.3)\n",
      "Requirement already satisfied: uvicorn>=0.23.1 in c:\\users\\senthil.marimuthu\\onedrive - htc global services, inc\\self\\gists\\.venv\\lib\\site-packages (from mcp[cli]) (0.32.1)\n",
      "Requirement already satisfied: python-dotenv>=1.0.0 in c:\\users\\senthil.marimuthu\\onedrive - htc global services, inc\\self\\gists\\.venv\\lib\\site-packages (from mcp[cli]) (1.0.1)\n",
      "Collecting typer>=0.12.4 (from mcp[cli])\n",
      "  Downloading typer-0.15.2-py3-none-any.whl.metadata (15 kB)\n",
      "Requirement already satisfied: exceptiongroup>=1.0.2 in c:\\users\\senthil.marimuthu\\onedrive - htc global services, inc\\self\\gists\\.venv\\lib\\site-packages (from anyio>=4.5->mcp[cli]) (1.2.2)\n",
      "Requirement already satisfied: idna>=2.8 in c:\\users\\senthil.marimuthu\\onedrive - htc global services, inc\\self\\gists\\.venv\\lib\\site-packages (from anyio>=4.5->mcp[cli]) (3.10)\n",
      "Requirement already satisfied: sniffio>=1.1 in c:\\users\\senthil.marimuthu\\onedrive - htc global services, inc\\self\\gists\\.venv\\lib\\site-packages (from anyio>=4.5->mcp[cli]) (1.3.1)\n",
      "Requirement already satisfied: typing_extensions>=4.5 in c:\\users\\senthil.marimuthu\\onedrive - htc global services, inc\\self\\gists\\.venv\\lib\\site-packages (from anyio>=4.5->mcp[cli]) (4.12.2)\n",
      "Requirement already satisfied: certifi in c:\\users\\senthil.marimuthu\\onedrive - htc global services, inc\\self\\gists\\.venv\\lib\\site-packages (from httpx>=0.27->mcp[cli]) (2024.8.30)\n",
      "Requirement already satisfied: httpcore==1.* in c:\\users\\senthil.marimuthu\\onedrive - htc global services, inc\\self\\gists\\.venv\\lib\\site-packages (from httpx>=0.27->mcp[cli]) (1.0.5)\n",
      "Requirement already satisfied: h11<0.15,>=0.13 in c:\\users\\senthil.marimuthu\\onedrive - htc global services, inc\\self\\gists\\.venv\\lib\\site-packages (from httpcore==1.*->httpx>=0.27->mcp[cli]) (0.14.0)\n",
      "Requirement already satisfied: annotated-types>=0.6.0 in c:\\users\\senthil.marimuthu\\onedrive - htc global services, inc\\self\\gists\\.venv\\lib\\site-packages (from pydantic<3.0.0,>=2.7.2->mcp[cli]) (0.7.0)\n",
      "Requirement already satisfied: pydantic-core==2.23.4 in c:\\users\\senthil.marimuthu\\onedrive - htc global services, inc\\self\\gists\\.venv\\lib\\site-packages (from pydantic<3.0.0,>=2.7.2->mcp[cli]) (2.23.4)\n",
      "Requirement already satisfied: click>=8.0.0 in c:\\users\\senthil.marimuthu\\onedrive - htc global services, inc\\self\\gists\\.venv\\lib\\site-packages (from typer>=0.12.4->mcp[cli]) (8.1.7)\n",
      "Collecting shellingham>=1.3.0 (from typer>=0.12.4->mcp[cli])\n",
      "  Using cached shellingham-1.5.4-py2.py3-none-any.whl.metadata (3.5 kB)\n",
      "Requirement already satisfied: rich>=10.11.0 in c:\\users\\senthil.marimuthu\\onedrive - htc global services, inc\\self\\gists\\.venv\\lib\\site-packages (from typer>=0.12.4->mcp[cli]) (13.8.1)\n",
      "Requirement already satisfied: colorama in c:\\users\\senthil.marimuthu\\onedrive - htc global services, inc\\self\\gists\\.venv\\lib\\site-packages (from click>=8.0.0->typer>=0.12.4->mcp[cli]) (0.4.6)\n",
      "Requirement already satisfied: markdown-it-py>=2.2.0 in c:\\users\\senthil.marimuthu\\onedrive - htc global services, inc\\self\\gists\\.venv\\lib\\site-packages (from rich>=10.11.0->typer>=0.12.4->mcp[cli]) (3.0.0)\n",
      "Requirement already satisfied: pygments<3.0.0,>=2.13.0 in c:\\users\\senthil.marimuthu\\onedrive - htc global services, inc\\self\\gists\\.venv\\lib\\site-packages (from rich>=10.11.0->typer>=0.12.4->mcp[cli]) (2.18.0)\n",
      "Requirement already satisfied: mdurl~=0.1 in c:\\users\\senthil.marimuthu\\onedrive - htc global services, inc\\self\\gists\\.venv\\lib\\site-packages (from markdown-it-py>=2.2.0->rich>=10.11.0->typer>=0.12.4->mcp[cli]) (0.1.2)\n",
      "Downloading typer-0.15.2-py3-none-any.whl (45 kB)\n",
      "Using cached shellingham-1.5.4-py2.py3-none-any.whl (9.8 kB)\n",
      "Installing collected packages: shellingham, typer\n",
      "Successfully installed shellingham-1.5.4 typer-0.15.2\n"
     ]
    },
    {
     "name": "stderr",
     "output_type": "stream",
     "text": [
      "\n",
      "[notice] A new release of pip is available: 24.2 -> 25.0.1\n",
      "[notice] To update, run: python.exe -m pip install --upgrade pip\n"
     ]
    }
   ],
   "source": [
    "!pip install mcp[cli]"
   ]
  },
  {
   "cell_type": "markdown",
   "metadata": {},
   "source": [
    "based on: https://github.com/modelcontextprotocol/python-sdk"
   ]
  },
  {
   "cell_type": "markdown",
   "metadata": {},
   "source": [
    "create server for tool and resource"
   ]
  },
  {
   "cell_type": "code",
   "execution_count": 5,
   "metadata": {},
   "outputs": [],
   "source": [
    "# server.py\n",
    "from mcp.server.fastmcp import FastMCP\n",
    "\n",
    "# Create an MCP server\n",
    "mcp = FastMCP(\"Demo\")\n",
    "\n",
    "\n",
    "# Add an addition tool\n",
    "@mcp.tool()\n",
    "def add(a: int, b: int) -> int:\n",
    "    \"\"\"Add two numbers\"\"\"\n",
    "    return a + b\n",
    "\n",
    "\n",
    "# Add a dynamic greeting resource\n",
    "@mcp.resource(\"greeting://{name}\")\n",
    "def get_greeting(name: str) -> str:\n",
    "    \"\"\"Get a personalized greeting\"\"\"\n",
    "    return f\"Hello, {name}!\""
   ]
  },
  {
   "cell_type": "markdown",
   "metadata": {},
   "source": [
    "To the above in MCP exploror  Use terminal\n",
    "!mcp dev mcp_server_explore.py"
   ]
  },
  {
   "cell_type": "markdown",
   "metadata": {},
   "source": []
  }
 ],
 "metadata": {
  "kernelspec": {
   "display_name": ".venv",
   "language": "python",
   "name": "python3"
  },
  "language_info": {
   "codemirror_mode": {
    "name": "ipython",
    "version": 3
   },
   "file_extension": ".py",
   "mimetype": "text/x-python",
   "name": "python",
   "nbconvert_exporter": "python",
   "pygments_lexer": "ipython3",
   "version": "3.10.9"
  }
 },
 "nbformat": 4,
 "nbformat_minor": 2
}
