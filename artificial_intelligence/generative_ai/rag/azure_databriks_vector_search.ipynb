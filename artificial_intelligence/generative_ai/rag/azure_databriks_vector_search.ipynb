{
 "cells": [
  {
   "cell_type": "code",
   "execution_count": 0,
   "metadata": {
    "application/vnd.databricks.v1+cell": {
     "cellMetadata": {
      "byteLimit": 2048000,
      "rowLimit": 10000
     },
     "inputWidgets": {},
     "nuid": "80b72c63-5980-4cf0-8fe0-f66de8e753ad",
     "showTitle": false,
     "tableResultSettingsMap": {},
     "title": ""
    }
   },
   "outputs": [
    {
     "output_type": "stream",
     "name": "stdout",
     "output_type": "stream",
     "text": [
      "\u001B[43mNote: you may need to restart the kernel using dbutils.library.restartPython() to use updated packages.\u001B[0m\nCollecting databricks-vectorsearch\n  Downloading databricks_vectorsearch-0.57-py3-none-any.whl (16 kB)\nRequirement already satisfied: protobuf<6,>=3.12.0 in /databricks/python3/lib/python3.10/site-packages (from databricks-vectorsearch) (3.19.4)\nCollecting deprecation>=2\n  Downloading deprecation-2.1.0-py2.py3-none-any.whl (11 kB)\nCollecting mlflow-skinny<4,>=2.11.3\n  Downloading mlflow_skinny-3.1.1-py3-none-any.whl (1.9 MB)\n     ━━━━━━━━━━━━━━━━━━━━━━━━━━━━━━━━━━━━━━━━ 1.9/1.9 MB 7.2 MB/s eta 0:00:00\nRequirement already satisfied: requests>=2 in /databricks/python3/lib/python3.10/site-packages (from databricks-vectorsearch) (2.28.1)\nRequirement already satisfied: packaging in /databricks/python3/lib/python3.10/site-packages (from deprecation>=2->databricks-vectorsearch) (21.3)\nCollecting fastapi<1\n  Downloading fastapi-0.116.1-py3-none-any.whl (95 kB)\n     ━━━━━━━━━━━━━━━━━━━━━━━━━━━━━━━━━━━━━━━━ 95.6/95.6 kB 15.2 MB/s eta 0:00:00\nCollecting pydantic<3,>=1.10.8\n  Downloading pydantic-2.11.7-py3-none-any.whl (444 kB)\n     ━━━━━━━━━━━━━━━━━━━━━━━━━━━━━━━━━━━━━━ 444.8/444.8 kB 37.7 MB/s eta 0:00:00\nCollecting sqlparse<1,>=0.4.0\n  Downloading sqlparse-0.5.3-py3-none-any.whl (44 kB)\n     ━━━━━━━━━━━━━━━━━━━━━━━━━━━━━━━━━━━━━━━━ 44.4/44.4 kB 5.5 MB/s eta 0:00:00\nCollecting cachetools<7,>=5.0.0\n  Downloading cachetools-6.1.0-py3-none-any.whl (11 kB)\nRequirement already satisfied: typing-extensions<5,>=4.0.0 in /databricks/python3/lib/python3.10/site-packages (from mlflow-skinny<4,>=2.11.3->databricks-vectorsearch) (4.3.0)\nCollecting uvicorn<1\n  Downloading uvicorn-0.35.0-py3-none-any.whl (66 kB)\n     ━━━━━━━━━━━━━━━━━━━━━━━━━━━━━━━━━━━━━━━━ 66.4/66.4 kB 7.4 MB/s eta 0:00:00\nCollecting pyyaml<7,>=5.1\n  Downloading PyYAML-6.0.2-cp310-cp310-manylinux_2_17_x86_64.manylinux2014_x86_64.whl (751 kB)\n     ━━━━━━━━━━━━━━━━━━━━━━━━━━━━━━━━━━━━━━ 751.2/751.2 kB 44.1 MB/s eta 0:00:00\nCollecting gitpython<4,>=3.1.9\n  Downloading GitPython-3.1.44-py3-none-any.whl (207 kB)\n     ━━━━━━━━━━━━━━━━━━━━━━━━━━━━━━━━━━━━━━ 207.6/207.6 kB 21.0 MB/s eta 0:00:00\nCollecting opentelemetry-sdk<3,>=1.9.0\n  Downloading opentelemetry_sdk-1.35.0-py3-none-any.whl (119 kB)\n     ━━━━━━━━━━━━━━━━━━━━━━━━━━━━━━━━━━━━━━ 119.4/119.4 kB 10.4 MB/s eta 0:00:00\nRequirement already satisfied: importlib_metadata!=4.7.0,<9,>=3.7.0 in /usr/lib/python3/dist-packages (from mlflow-skinny<4,>=2.11.3->databricks-vectorsearch) (4.6.4)\nCollecting databricks-sdk<1,>=0.20.0\n  Downloading databricks_sdk-0.59.0-py3-none-any.whl (676 kB)\n     ━━━━━━━━━━━━━━━━━━━━━━━━━━━━━━━━━━━━━━ 676.2/676.2 kB 41.5 MB/s eta 0:00:00\nCollecting opentelemetry-api<3,>=1.9.0\n  Downloading opentelemetry_api-1.35.0-py3-none-any.whl (65 kB)\n     ━━━━━━━━━━━━━━━━━━━━━━━━━━━━━━━━━━━━━━━━ 65.6/65.6 kB 9.5 MB/s eta 0:00:00\nRequirement already satisfied: click<9,>=7.0 in /databricks/python3/lib/python3.10/site-packages (from mlflow-skinny<4,>=2.11.3->databricks-vectorsearch) (8.0.4)\nCollecting cloudpickle<4\n  Downloading cloudpickle-3.1.1-py3-none-any.whl (20 kB)\nRequirement already satisfied: certifi>=2017.4.17 in /databricks/python3/lib/python3.10/site-packages (from requests>=2->databricks-vectorsearch) (2022.9.14)\nRequirement already satisfied: charset-normalizer<3,>=2 in /databricks/python3/lib/python3.10/site-packages (from requests>=2->databricks-vectorsearch) (2.0.4)\nRequirement already satisfied: urllib3<1.27,>=1.21.1 in /databricks/python3/lib/python3.10/site-packages (from requests>=2->databricks-vectorsearch) (1.26.11)\nRequirement already satisfied: idna<4,>=2.5 in /databricks/python3/lib/python3.10/site-packages (from requests>=2->databricks-vectorsearch) (3.3)\nCollecting google-auth~=2.0\n  Downloading google_auth-2.40.3-py2.py3-none-any.whl (216 kB)\n     ━━━━━━━━━━━━━━━━━━━━━━━━━━━━━━━━━━━━━━ 216.1/216.1 kB 14.8 MB/s eta 0:00:00\nCollecting typing-extensions<5,>=4.0.0\n  Downloading typing_extensions-4.14.1-py3-none-any.whl (43 kB)\n     ━━━━━━━━━━━━━━━━━━━━━━━━━━━━━━━━━━━━━━━━ 43.9/43.9 kB 5.7 MB/s eta 0:00:00\nCollecting starlette<0.48.0,>=0.40.0\n  Downloading starlette-0.47.2-py3-none-any.whl (72 kB)\n     ━━━━━━━━━━━━━━━━━━━━━━━━━━━━━━━━━━━━━━━━ 73.0/73.0 kB 9.9 MB/s eta 0:00:00\nCollecting gitdb<5,>=4.0.1\n  Downloading gitdb-4.0.12-py3-none-any.whl (62 kB)\n     ━━━━━━━━━━━━━━━━━━━━━━━━━━━━━━━━━━━━━━━━ 62.8/62.8 kB 8.3 MB/s eta 0:00:00\nCollecting importlib_metadata!=4.7.0,<9,>=3.7.0\n  Downloading importlib_metadata-8.7.0-py3-none-any.whl (27 kB)\nCollecting zipp>=3.20\n  Downloading zipp-3.23.0-py3-none-any.whl (10 kB)\nCollecting opentelemetry-semantic-conventions==0.56b0\n  Downloading opentelemetry_semantic_conventions-0.56b0-py3-none-any.whl (201 kB)\n     ━━━━━━━━━━━━━━━━━━━━━━━━━━━━━━━━━━━━━━ 201.6/201.6 kB 25.0 MB/s eta 0:00:00\nRequirement already satisfied: pyparsing!=3.0.5,>=2.0.2 in /databricks/python3/lib/python3.10/site-packages (from packaging->deprecation>=2->databricks-vectorsearch) (3.0.9)\nCollecting pydantic-core==2.33.2\n  Downloading pydantic_core-2.33.2-cp310-cp310-manylinux_2_17_x86_64.manylinux2014_x86_64.whl (2.0 MB)\n     ━━━━━━━━━━━━━━━━━━━━━━━━━━━━━━━━━━━━━━━━ 2.0/2.0 MB 28.1 MB/s eta 0:00:00\nCollecting typing-inspection>=0.4.0\n  Downloading typing_inspection-0.4.1-py3-none-any.whl (14 kB)\nCollecting annotated-types>=0.6.0\n  Downloading annotated_types-0.7.0-py3-none-any.whl (13 kB)\nCollecting h11>=0.8\n  Downloading h11-0.16.0-py3-none-any.whl (37 kB)\nCollecting smmap<6,>=3.0.1\n  Downloading smmap-5.0.2-py3-none-any.whl (24 kB)\nCollecting cachetools<7,>=5.0.0\n  Downloading cachetools-5.5.2-py3-none-any.whl (10 kB)\nCollecting pyasn1-modules>=0.2.1\n  Downloading pyasn1_modules-0.4.2-py3-none-any.whl (181 kB)\n     ━━━━━━━━━━━━━━━━━━━━━━━━━━━━━━━━━━━━━━ 181.3/181.3 kB 25.0 MB/s eta 0:00:00\nCollecting rsa<5,>=3.1.4\n  Downloading rsa-4.9.1-py3-none-any.whl (34 kB)\nCollecting anyio<5,>=3.6.2\n  Downloading anyio-4.9.0-py3-none-any.whl (100 kB)\n     ━━━━━━━━━━━━━━━━━━━━━━━━━━━━━━━━━━━━━━ 100.9/100.9 kB 14.5 MB/s eta 0:00:00\nCollecting exceptiongroup>=1.0.2\n  Downloading exceptiongroup-1.3.0-py3-none-any.whl (16 kB)\nCollecting sniffio>=1.1\n  Downloading sniffio-1.3.1-py3-none-any.whl (10 kB)\nCollecting pyasn1<0.7.0,>=0.6.1\n  Downloading pyasn1-0.6.1-py3-none-any.whl (83 kB)\n     ━━━━━━━━━━━━━━━━━━━━━━━━━━━━━━━━━━━━━━━━ 83.1/83.1 kB 11.4 MB/s eta 0:00:00\nInstalling collected packages: zipp, typing-extensions, sqlparse, sniffio, smmap, pyyaml, pyasn1, h11, cloudpickle, cachetools, annotated-types, uvicorn, typing-inspection, rsa, pydantic-core, pyasn1-modules, importlib_metadata, gitdb, exceptiongroup, deprecation, pydantic, opentelemetry-api, google-auth, gitpython, anyio, starlette, opentelemetry-semantic-conventions, databricks-sdk, opentelemetry-sdk, fastapi, mlflow-skinny, databricks-vectorsearch\n  Attempting uninstall: zipp\n    Found existing installation: zipp 1.0.0\n    Not uninstalling zipp at /usr/lib/python3/dist-packages, outside environment /local_disk0/.ephemeral_nfs/envs/pythonEnv-a768efab-cd15-4d7e-9231-8c8420f5d812\n    Can't uninstall 'zipp'. No files were found to uninstall.\n  Attempting uninstall: typing-extensions\n    Found existing installation: typing_extensions 4.3.0\n    Not uninstalling typing-extensions at /databricks/python3/lib/python3.10/site-packages, outside environment /local_disk0/.ephemeral_nfs/envs/pythonEnv-a768efab-cd15-4d7e-9231-8c8420f5d812\n    Can't uninstall 'typing_extensions'. No files were found to uninstall.\n  Attempting uninstall: importlib_metadata\n    Found existing installation: importlib-metadata 4.6.4\n    Not uninstalling importlib-metadata at /usr/lib/python3/dist-packages, outside environment /local_disk0/.ephemeral_nfs/envs/pythonEnv-a768efab-cd15-4d7e-9231-8c8420f5d812\n    Can't uninstall 'importlib-metadata'. No files were found to uninstall.\n  Attempting uninstall: pydantic\n    Found existing installation: pydantic 1.10.6\n    Not uninstalling pydantic at /databricks/python3/lib/python3.10/site-packages, outside environment /local_disk0/.ephemeral_nfs/envs/pythonEnv-a768efab-cd15-4d7e-9231-8c8420f5d812\n    Can't uninstall 'pydantic'. No files were found to uninstall.\n  Attempting uninstall: databricks-sdk\n    Found existing installation: databricks-sdk 0.1.6\n    Not uninstalling databricks-sdk at /databricks/python3/lib/python3.10/site-packages, outside environment /local_disk0/.ephemeral_nfs/envs/pythonEnv-a768efab-cd15-4d7e-9231-8c8420f5d812\n    Can't uninstall 'databricks-sdk'. No files were found to uninstall.\nSuccessfully installed annotated-types-0.7.0 anyio-4.9.0 cachetools-5.5.2 cloudpickle-3.1.1 databricks-sdk-0.59.0 databricks-vectorsearch-0.57 deprecation-2.1.0 exceptiongroup-1.3.0 fastapi-0.116.1 gitdb-4.0.12 gitpython-3.1.44 google-auth-2.40.3 h11-0.16.0 importlib_metadata-8.7.0 mlflow-skinny-3.1.1 opentelemetry-api-1.35.0 opentelemetry-sdk-1.35.0 opentelemetry-semantic-conventions-0.56b0 pyasn1-0.6.1 pyasn1-modules-0.4.2 pydantic-2.11.7 pydantic-core-2.33.2 pyyaml-6.0.2 rsa-4.9.1 smmap-5.0.2 sniffio-1.3.1 sqlparse-0.5.3 starlette-0.47.2 typing-extensions-4.14.1 typing-inspection-0.4.1 uvicorn-0.35.0 zipp-3.23.0\n\u001B[43mNote: you may need to restart the kernel using dbutils.library.restartPython() to use updated packages.\u001B[0m\n"
     ]
    }
   ],
   "source": [
    "%pip install databricks-vectorsearch\n",
    "dbutils.library.restartPython()"
   ]
  },
  {
   "cell_type": "code",
   "execution_count": 0,
   "metadata": {
    "application/vnd.databricks.v1+cell": {
     "cellMetadata": {
      "byteLimit": 2048000,
      "rowLimit": 10000
     },
     "inputWidgets": {},
     "nuid": "a5f05f69-1097-4230-a3c8-d15e69513106",
     "showTitle": false,
     "tableResultSettingsMap": {},
     "title": ""
    }
   },
   "outputs": [
    {
     "output_type": "execute_result",
     "data": {
      "text/plain": [
       "DataFrame[]"
      ]
     },
     "execution_count": 1,
     "metadata": {},
     "output_type": "execute_result"
    }
   ],
   "source": [
    "spark.sql(\"\"\"\n",
    "CREATE TABLE telemetry.lwrca.document_table (\n",
    "    id STRING,\n",
    "    document STRING\n",
    ")\n",
    "USING DELTA\n",
    "\"\"\")"
   ]
  },
  {
   "cell_type": "code",
   "execution_count": 0,
   "metadata": {
    "application/vnd.databricks.v1+cell": {
     "cellMetadata": {
      "byteLimit": 2048000,
      "rowLimit": 10000
     },
     "inputWidgets": {},
     "nuid": "f3955ecf-6c44-4e00-bc3f-052ec054cd9a",
     "showTitle": false,
     "tableResultSettingsMap": {},
     "title": ""
    }
   },
   "outputs": [
    {
     "output_type": "display_data",
     "data": {
      "text/html": [
       "<style scoped>\n",
       "  .table-result-container {\n",
       "    max-height: 300px;\n",
       "    overflow: auto;\n",
       "  }\n",
       "  table, th, td {\n",
       "    border: 1px solid black;\n",
       "    border-collapse: collapse;\n",
       "  }\n",
       "  th, td {\n",
       "    padding: 5px;\n",
       "  }\n",
       "  th {\n",
       "    text-align: left;\n",
       "  }\n",
       "</style><div class='table-result-container'><table class='table-result'><thead style='background-color: white'><tr><th>id</th><th>document</th></tr></thead><tbody><tr><td>3</td><td>Delta Lake provides ACID transactions for Spark.</td></tr><tr><td>5</td><td>Python is widely used for data science.</td></tr><tr><td>1</td><td>Databricks simplifies big data and AI.</td></tr><tr><td>2</td><td>Azure Cognitive Search enables powerful search capabilities.</td></tr><tr><td>4</td><td>Vector search is essential for semantic retrieval.</td></tr></tbody></table></div>"
      ]
     },
     "metadata": {
      "application/vnd.databricks.v1+output": {
       "addedWidgets": {},
       "aggData": [],
       "aggError": "",
       "aggOverflow": false,
       "aggSchema": [],
       "aggSeriesLimitReached": false,
       "aggType": "",
       "arguments": {},
       "columnCustomDisplayInfos": {},
       "data": [
        [
         "3",
         "Delta Lake provides ACID transactions for Spark."
        ],
        [
         "5",
         "Python is widely used for data science."
        ],
        [
         "1",
         "Databricks simplifies big data and AI."
        ],
        [
         "2",
         "Azure Cognitive Search enables powerful search capabilities."
        ],
        [
         "4",
         "Vector search is essential for semantic retrieval."
        ]
       ],
       "datasetInfos": [],
       "dbfsResultPath": null,
       "isJsonSchema": true,
       "metadata": {},
       "overflow": false,
       "plotOptions": {
        "customPlotOptions": {},
        "displayType": "table",
        "pivotAggregation": null,
        "pivotColumns": null,
        "xColumns": null,
        "yColumns": null
       },
       "removedWidgets": [],
       "schema": [
        {
         "metadata": "{}",
         "name": "id",
         "type": "\"string\""
        },
        {
         "metadata": "{}",
         "name": "document",
         "type": "\"string\""
        }
       ],
       "type": "table"
      }
     },
     "output_type": "display_data"
    }
   ],
   "source": [
    "data = [\n",
    "    (\"1\", \"Databricks simplifies big data and AI.\"),\n",
    "    (\"2\", \"Azure Cognitive Search enables powerful search capabilities.\"),\n",
    "    (\"3\", \"Delta Lake provides ACID transactions for Spark.\"),\n",
    "    (\"4\", \"Vector search is essential for semantic retrieval.\"),\n",
    "    (\"5\", \"Python is widely used for data science.\")\n",
    "]\n",
    "\n",
    "df = spark.createDataFrame(data, [\"id\", \"document\"])\n",
    "df.write.format(\"delta\").mode(\"append\").saveAsTable(\"telemetry.lwrca.document_table\")\n",
    "display(spark.table(\"telemetry.lwrca.document_table\"))"
   ]
  },
  {
   "cell_type": "code",
   "execution_count": 0,
   "metadata": {
    "application/vnd.databricks.v1+cell": {
     "cellMetadata": {
      "byteLimit": 2048000,
      "rowLimit": 10000
     },
     "inputWidgets": {},
     "nuid": "0d87ef09-bbc6-4902-9348-b7a92dfeef35",
     "showTitle": false,
     "tableResultSettingsMap": {},
     "title": ""
    }
   },
   "outputs": [
    {
     "output_type": "execute_result",
     "data": {
      "text/plain": [
       "DataFrame[]"
      ]
     },
     "execution_count": 1,
     "metadata": {},
     "output_type": "execute_result"
    }
   ],
   "source": [
    "spark.sql(\"\"\"\n",
    "ALTER TABLE telemetry.lwrca.document_table SET TBLPROPERTIES (delta.enableChangeDataFeed = true)\n",
    "\"\"\")"
   ]
  },
  {
   "cell_type": "code",
   "execution_count": 0,
   "metadata": {
    "application/vnd.databricks.v1+cell": {
     "cellMetadata": {
      "byteLimit": 2048000,
      "rowLimit": 10000
     },
     "inputWidgets": {},
     "nuid": "6da2b926-c998-4b53-950d-dc989b1ecea8",
     "showTitle": false,
     "tableResultSettingsMap": {},
     "title": ""
    }
   },
   "outputs": [
    {
     "output_type": "stream",
     "name": "stdout",
     "output_type": "stream",
     "text": [
      "[NOTICE] Using a notebook authentication token. Recommended for development only. For improved performance, please use Service Principal based authentication. To disable this message, pass disable_notice=True.\n"
     ]
    }
   ],
   "source": [
    "from databricks.vector_search.client import VectorSearchClient\n",
    "\n",
    "vsc = VectorSearchClient()"
   ]
  },
  {
   "cell_type": "code",
   "execution_count": 0,
   "metadata": {
    "application/vnd.databricks.v1+cell": {
     "cellMetadata": {
      "byteLimit": 2048000,
      "rowLimit": 10000
     },
     "inputWidgets": {},
     "nuid": "b70779f5-2195-46c9-9dbf-dce128eceba7",
     "showTitle": false,
     "tableResultSettingsMap": {},
     "title": ""
    }
   },
   "outputs": [
    {
     "output_type": "stream",
     "name": "stdout",
     "output_type": "stream",
     "text": [
      "Help on class VectorSearchClient in module databricks.vector_search.client:\n\nclass VectorSearchClient(builtins.object)\n |  VectorSearchClient(workspace_url=None, personal_access_token=None, service_principal_client_id=None, service_principal_client_secret=None, azure_tenant_id=None, azure_login_id='2ff814a6-3304-4ab8-85cb-cd0e6f879c1d', disable_notice=False, credential_strategy=None)\n |  \n |  A client for interacting with the Vector Search service.\n |  \n |  This client provides methods for managing endpoints and indexes in the Vector Search service.\n |  \n |  Methods defined here:\n |  \n |  __init__(self, workspace_url=None, personal_access_token=None, service_principal_client_id=None, service_principal_client_secret=None, azure_tenant_id=None, azure_login_id='2ff814a6-3304-4ab8-85cb-cd0e6f879c1d', disable_notice=False, credential_strategy=None)\n |      Initialize the VectorSearchClient.\n |      \n |      :param str workspace_url: The URL of the workspace.\n |      :param str personal_access_token: The personal access token for authentication.\n |      :param str service_principal_client_id: The client ID of the service principal for authentication.\n |      :param str service_principal_client_secret: The client secret of the service principal for authentication.\n |      :param str azure_tenant_id: The tenant ID of Azure for authentication.\n |      :param str azure_login_id: The login ID of Azure for authentication (aka Databricks Azure Application ID).\n |                                 Default to AZURE_PUBLIC.\n |                                 See all login IDs in https://github.com/databricks/databricks-sdk-py/blob/main/databricks/sdk/environments.py\n |      :param bool disable_notice: Whether to disable the notice message.\n |      :param CredentialStrategy credential_strategy: Credential Strategy used to authenticate Vector Search Client\n |  \n |  create_delta_sync_index(self, endpoint_name, index_name, primary_key, source_table_name, pipeline_type, embedding_dimension=None, embedding_vector_column=None, embedding_source_column=None, embedding_model_endpoint_name=None, sync_computed_embeddings=False, columns_to_sync=None)\n |      Create a delta sync index.\n |      \n |      :param str columns_to_sync: The columns that would be synced to the vector index with the primary key and vector column always being synced. If the field is not defined, all columns will be synced.\n |      :param str endpoint_name: The name of the endpoint.\n |      :param str index_name: The name of the index.\n |      :param str primary_key: The primary key of the index.\n |      :param str source_table_name: The name of the source table.\n |      :param str pipeline_type: The type of the pipeline. Must be CONTINUOUS or TRIGGERED.\n |      :param int embedding_dimension: The dimension of the embedding vector.\n |      :param str embedding_vector_column: The name of the embedding vector column.\n |      :param str embedding_source_column: The name of the embedding source column.\n |      :param str embedding_model_endpoint_name: The name of the embedding model endpoint.\n |      :param bool sync_computed_embeddings: Whether to automatically sync the vector index contents and computed embeddings to a new UC table,\n |                                           table name will be ${index_name}_writeback_table.\n |  \n |  create_delta_sync_index_and_wait(self, endpoint_name, index_name, primary_key, source_table_name, pipeline_type, embedding_dimension=None, embedding_vector_column=None, embedding_source_column=None, embedding_model_endpoint_name=None, sync_computed_embeddings=False, columns_to_sync=None, verbose=False, timeout=datetime.timedelta(days=1))\n |      Create a delta sync index and wait for it to be ready.\n |      \n |      :param str columns_to_sync: The columns that would be synced to the vector index with the primary key and vector column always being synced. If the field is not defined, all columns will be synced.\n |      :param str endpoint_name: The name of the endpoint.\n |      :param str index_name: The name of the index.\n |      :param str primary_key: The primary key of the index.\n |      :param str source_table_name: The name of the source table.\n |      :param str pipeline_type: The type of the pipeline. Must be CONTINUOUS or TRIGGERED.\n |      :param int embedding_dimension: The dimension of the embedding vector.\n |      :param str embedding_vector_column: The name of the embedding vector column.\n |      :param str embedding_source_column: The name of the embedding source column.\n |      :param str embedding_model_endpoint_name: The name of the embedding model endpoint.\n |      :param bool verbose: Whether to print status messages.\n |      :param datetime.timedelta timeout: The time allowed until we timeout with an Exception.\n |      :param bool sync_computed_embeddings: Whether to automatically sync the vector index contents and computed embeddings to a new UC table,\n |                                           table name will be ${index_name}_writeback_table.\n |  \n |  create_direct_access_index(self, endpoint_name, index_name, primary_key, embedding_dimension, embedding_vector_column, schema, embedding_model_endpoint_name=None)\n |      Create a direct access index.\n |      \n |      :param str endpoint_name: The name of the endpoint.\n |      :param str index_name: The name of the index.\n |      :param str primary_key: The primary key of the index.\n |      :param int embedding_dimension: The dimension of the embedding vector.\n |      :param str embedding_vector_column: The name of the embedding vector column.\n |      :param dict schema: The schema of the index.\n |      :param str embedding_model_endpoint_name: The name of the optional embedding model endpoint to use when querying.\n |  \n |  create_endpoint(self, name, endpoint_type='STANDARD', budget_policy_id=None)\n |      Create an endpoint.\n |      \n |      :param str name: The name of the endpoint.\n |      :param str endpoint_type: The type of the endpoint. Must be STANDARD or ENTERPRISE.\n |      :param str budget_policy_id: The id of the budget policy to assign to the endpoint.\n |  \n |  create_endpoint_and_wait(self, name, endpoint_type='STANDARD', budget_policy_id=None, verbose=False, timeout=datetime.timedelta(seconds=3600))\n |      Create an endpoint and wait for it to be online.\n |      \n |      :param str name: The name of the endpoint.\n |      :param str endpoint_type: The type of the endpoint. Must be STANDARD or ENTERPRISE.\n |      :param str budget_policy_id: The id of the budget policy to assign to the endpoint.\n |      :param bool verbose: Whether to print status messages.\n |      :param datetime.timedelta timeout: The time allowed until we timeout with an Exception.\n |  \n |  delete_endpoint(self, name)\n |      Delete an endpoint.\n |      \n |      :param str name: The name of the endpoint.\n |  \n |  delete_index(self, endpoint_name=None, index_name=None)\n |      Delete an index.\n |      \n |      :param Option[str] endpoint_name: The optional name of the endpoint.\n |      :param str index_name: The name of the index.\n |  \n |  get_endpoint(self, name)\n |      Get an endpoint.\n |      \n |      :param str name: The name of the endpoint.\n |  \n |  get_index(self, endpoint_name=None, index_name=None)\n |      Get an index.\n |      \n |      :param Option[str] endpoint_name: The optional name of the endpoint.\n |      :param str index_name: The name of the index.\n |  \n |  list_endpoints(self)\n |      List all endpoints.\n |  \n |  list_indexes(self, name)\n |      List all indexes for an endpoint.\n |      \n |      :param str name: The name of the endpoint.\n |  \n |  update_endpoint_budget_policy(self, name, budget_policy_id)\n |      Update an endpoint's budget policy.\n |      \n |      :param str name: The name of the endpoint.\n |      :param str budget_policy_id: The id of the budget policy to assign to the endpoint.\n |  \n |  validate(self, disable_notice=False)\n |  \n |  wait_for_endpoint(self, name, verbose=False, timeout=datetime.timedelta(seconds=3600))\n |      Wait for an endpoint to be online.\n |      \n |      :param str name: The name of the endpoint.\n |      :param bool verbose: Whether to print status messages.\n |      :param datetime.timedelta timeout: The time allowed until we timeout with an Exception.\n |  \n |  ----------------------------------------------------------------------\n |  Data descriptors defined here:\n |  \n |  __dict__\n |      dictionary for instance variables (if defined)\n |  \n |  __weakref__\n |      list of weak references to the object (if defined)\n\n"
     ]
    }
   ],
   "source": [
    "help(VectorSearchClient)"
   ]
  },
  {
   "cell_type": "code",
   "execution_count": 0,
   "metadata": {
    "application/vnd.databricks.v1+cell": {
     "cellMetadata": {
      "byteLimit": 2048000,
      "rowLimit": 10000
     },
     "inputWidgets": {},
     "nuid": "597431b9-753d-4359-8633-6f468bd180ec",
     "showTitle": false,
     "tableResultSettingsMap": {},
     "title": ""
    }
   },
   "outputs": [
    {
     "output_type": "stream",
     "name": "stdout",
     "output_type": "stream",
     "text": [
      "Available endpoints: {}\n"
     ]
    }
   ],
   "source": [
    "endpoints = vsc.list_endpoints()\n",
    "print(\"Available endpoints:\", endpoints)"
   ]
  },
  {
   "cell_type": "code",
   "execution_count": 0,
   "metadata": {
    "application/vnd.databricks.v1+cell": {
     "cellMetadata": {
      "byteLimit": 2048000,
      "rowLimit": 10000
     },
     "inputWidgets": {},
     "nuid": "a168ff2b-b64e-43a4-b1ee-db03ccb4e0c0",
     "showTitle": false,
     "tableResultSettingsMap": {},
     "title": ""
    }
   },
   "outputs": [],
   "source": [
    "vector_search_endpoint_name = \"vector-search-demo-endpoint\""
   ]
  },
  {
   "cell_type": "code",
   "execution_count": 0,
   "metadata": {
    "application/vnd.databricks.v1+cell": {
     "cellMetadata": {
      "byteLimit": 2048000,
      "rowLimit": 10000
     },
     "inputWidgets": {},
     "nuid": "98c8b3de-8301-4841-8ac4-c9e23d96e4ee",
     "showTitle": false,
     "tableResultSettingsMap": {},
     "title": ""
    }
   },
   "outputs": [
    {
     "output_type": "execute_result",
     "data": {
      "text/plain": [
       "{'name': 'vector-search-demo-endpoint',\n",
       " 'creator': 'senthilkumar.marimuthu@tvsmotor.com',\n",
       " 'creation_timestamp': 1753070384426,\n",
       " 'last_updated_timestamp': 1753070384426,\n",
       " 'endpoint_type': 'STANDARD',\n",
       " 'last_updated_user': 'senthilkumar.marimuthu@tvsmotor.com',\n",
       " 'id': 'c9feecdc-1bf1-4e0c-b7f9-dd2e14eb5dea',\n",
       " 'endpoint_status': {'state': 'PROVISIONING'},\n",
       " 'num_indexes': 0}"
      ]
     },
     "execution_count": 9,
     "metadata": {},
     "output_type": "execute_result"
    }
   ],
   "source": [
    "vsc.create_endpoint(\n",
    "    name=vector_search_endpoint_name,\n",
    "    endpoint_type=\"STANDARD\" # or \"STORAGE_OPTIMIZED\"\n",
    ")"
   ]
  },
  {
   "cell_type": "code",
   "execution_count": 0,
   "metadata": {
    "application/vnd.databricks.v1+cell": {
     "cellMetadata": {
      "byteLimit": 2048000,
      "rowLimit": 10000
     },
     "inputWidgets": {},
     "nuid": "e97e6df0-3e3c-4204-a5ed-d5e6ec20352c",
     "showTitle": false,
     "tableResultSettingsMap": {},
     "title": ""
    }
   },
   "outputs": [
    {
     "output_type": "execute_result",
     "data": {
      "text/plain": [
       "{'name': 'vector-search-demo-endpoint',\n",
       " 'creator': 'senthilkumar.marimuthu@tvsmotor.com',\n",
       " 'creation_timestamp': 1753070384426,\n",
       " 'last_updated_timestamp': 1753070384426,\n",
       " 'endpoint_type': 'STANDARD',\n",
       " 'last_updated_user': 'senthilkumar.marimuthu@tvsmotor.com',\n",
       " 'id': 'c9feecdc-1bf1-4e0c-b7f9-dd2e14eb5dea',\n",
       " 'endpoint_status': {'state': 'PROVISIONING'},\n",
       " 'num_indexes': 0}"
      ]
     },
     "execution_count": 11,
     "metadata": {},
     "output_type": "execute_result"
    }
   ],
   "source": [
    "endpoint = vsc.get_endpoint(\n",
    "  name=vector_search_endpoint_name)\n",
    "endpoint"
   ]
  },
  {
   "cell_type": "code",
   "execution_count": 0,
   "metadata": {
    "application/vnd.databricks.v1+cell": {
     "cellMetadata": {
      "byteLimit": 2048000,
      "rowLimit": 10000
     },
     "inputWidgets": {},
     "nuid": "2d9513bd-f874-4447-aa62-54fdf2c8c360",
     "showTitle": false,
     "tableResultSettingsMap": {},
     "title": ""
    }
   },
   "outputs": [],
   "source": [
    "# Vector index\n",
    "vs_index = \"en_wiki_index\"\n",
    "vs_index_fullname = f\"telemetry.lwrca.{vs_index}\"\n",
    "\n",
    "embedding_model_endpoint = \"databricks-gte-large-en\""
   ]
  },
  {
   "cell_type": "code",
   "execution_count": 0,
   "metadata": {
    "application/vnd.databricks.v1+cell": {
     "cellMetadata": {
      "byteLimit": 2048000,
      "rowLimit": 10000
     },
     "inputWidgets": {},
     "nuid": "e92b4e60-582b-4244-9550-253eb69fb49e",
     "showTitle": false,
     "tableResultSettingsMap": {},
     "title": ""
    }
   },
   "outputs": [
    {
     "output_type": "execute_result",
     "data": {
      "text/plain": [
       "{'name': 'telemetry.lwrca.en_wiki_index',\n",
       " 'endpoint_name': 'vector-search-demo-endpoint',\n",
       " 'primary_key': 'id',\n",
       " 'index_type': 'DELTA_SYNC',\n",
       " 'delta_sync_index_spec': {'source_table': 'telemetry.lwrca.document_table',\n",
       "  'embedding_source_columns': [{'name': 'document',\n",
       "    'embedding_model_endpoint_name': 'databricks-gte-large-en'}],\n",
       "  'pipeline_type': 'TRIGGERED',\n",
       "  'pipeline_id': '54f00dd7-6270-4307-96dd-4dfb080e3243'},\n",
       " 'status': {'detailed_state': 'PROVISIONING_INDEX',\n",
       "  'message': 'Delta sync Index creation is pending. Check latest status: https://adb-1948512269941134.14.azuredatabricks.net/explore/data/telemetry/lwrca/en_wiki_index',\n",
       "  'indexed_row_count': 0,\n",
       "  'ready': False,\n",
       "  'index_url': 'adb-1948512269941134.14.azuredatabricks.net/api/2.0/vector-search/indexes/telemetry.lwrca.en_wiki_index'},\n",
       " 'creator': 'senthilkumar.marimuthu@tvsmotor.com',\n",
       " 'endpoint_type': 'STANDARD'}"
      ]
     },
     "execution_count": 39,
     "metadata": {},
     "output_type": "execute_result"
    }
   ],
   "source": [
    "index = vsc.create_delta_sync_index(\n",
    "  endpoint_name=vector_search_endpoint_name,\n",
    "  source_table_name='telemetry.lwrca.document_table',\n",
    "  index_name=vs_index_fullname,\n",
    "  pipeline_type='TRIGGERED',\n",
    "  primary_key=\"id\",\n",
    "  embedding_source_column=\"document\",\n",
    "  embedding_model_endpoint_name=embedding_model_endpoint\n",
    ")\n",
    "index.describe()"
   ]
  },
  {
   "cell_type": "code",
   "execution_count": 0,
   "metadata": {
    "application/vnd.databricks.v1+cell": {
     "cellMetadata": {
      "byteLimit": 2048000,
      "rowLimit": 10000
     },
     "inputWidgets": {},
     "nuid": "ce860479-5c84-451a-8cd1-a8df2788475a",
     "showTitle": false,
     "tableResultSettingsMap": {},
     "title": ""
    }
   },
   "outputs": [],
   "source": [
    "#vs_index_fullname = \"telemetry.lwrca.sample_doc_vectors_index\""
   ]
  },
  {
   "cell_type": "code",
   "execution_count": 0,
   "metadata": {
    "application/vnd.databricks.v1+cell": {
     "cellMetadata": {
      "byteLimit": 2048000,
      "rowLimit": 10000
     },
     "inputWidgets": {},
     "nuid": "7b7ccac5-be98-4945-8f91-0efb7a9fd660",
     "showTitle": false,
     "tableResultSettingsMap": {},
     "title": ""
    }
   },
   "outputs": [
    {
     "output_type": "execute_result",
     "data": {
      "text/plain": [
       "{'name': 'telemetry.lwrca.en_wiki_index',\n",
       " 'endpoint_name': 'vector-search-demo-endpoint',\n",
       " 'primary_key': 'id',\n",
       " 'index_type': 'DELTA_SYNC',\n",
       " 'delta_sync_index_spec': {'source_table': 'telemetry.lwrca.document_table',\n",
       "  'embedding_source_columns': [{'name': 'document',\n",
       "    'embedding_model_endpoint_name': 'databricks-gte-large-en'}],\n",
       "  'pipeline_type': 'TRIGGERED',\n",
       "  'pipeline_id': '54f00dd7-6270-4307-96dd-4dfb080e3243'},\n",
       " 'status': {'detailed_state': 'ONLINE_TRIGGERED_UPDATE',\n",
       "  'message': 'Index is online but is currently is in the process of re-syncing initial data. Check latest status: https://adb-1948512269941134.14.azuredatabricks.net/explore/data/telemetry/lwrca/en_wiki_index',\n",
       "  'indexed_row_count': 5,\n",
       "  'triggered_update_status': {'last_processed_commit_version': 2,\n",
       "   'last_processed_commit_timestamp': '2025-07-21T03:41:31Z',\n",
       "   'triggered_update_progress': {'latest_version_currently_processing': 2,\n",
       "    'num_synced_rows': 5,\n",
       "    'total_rows_to_sync': 5,\n",
       "    'sync_progress_completion': 1.0,\n",
       "    'estimated_completion_time_seconds': 0.0,\n",
       "    'pipeline_metrics': {'total_sync_time_per_row_ms': 368.8,\n",
       "     'ingestion_metrics': {'ingestion_time_per_row_ms': 31.6,\n",
       "      'ingestion_batch_size': 50},\n",
       "     'embedding_metrics': {'embedding_generation_time_per_row_ms': 173.8,\n",
       "      'embedding_generation_batch_size': 32}}}},\n",
       "  'ready': True,\n",
       "  'index_url': 'adb-1948512269941134.14.azuredatabricks.net/api/2.0/vector-search/indexes/telemetry.lwrca.en_wiki_index'},\n",
       " 'creator': 'senthilkumar.marimuthu@tvsmotor.com',\n",
       " 'endpoint_type': 'STANDARD'}"
      ]
     },
     "execution_count": 41,
     "metadata": {},
     "output_type": "execute_result"
    }
   ],
   "source": [
    "index = vsc.get_index(endpoint_name=vector_search_endpoint_name, index_name=vs_index_fullname)\n",
    "\n",
    "index.describe()"
   ]
  },
  {
   "cell_type": "code",
   "execution_count": 0,
   "metadata": {
    "application/vnd.databricks.v1+cell": {
     "cellMetadata": {
      "byteLimit": 2048000,
      "rowLimit": 10000
     },
     "inputWidgets": {},
     "nuid": "f4f7ee60-cb16-4e97-ae9e-f3e65888dce9",
     "showTitle": false,
     "tableResultSettingsMap": {},
     "title": ""
    }
   },
   "outputs": [
    {
     "output_type": "stream",
     "name": "stdout",
     "output_type": "stream",
     "text": [
      "Index is ONLINE\n"
     ]
    },
    {
     "output_type": "execute_result",
     "data": {
      "text/plain": [
       "{'name': 'telemetry.lwrca.en_wiki_index',\n",
       " 'endpoint_name': 'vector-search-demo-endpoint',\n",
       " 'primary_key': 'id',\n",
       " 'index_type': 'DELTA_SYNC',\n",
       " 'delta_sync_index_spec': {'source_table': 'telemetry.lwrca.document_table',\n",
       "  'embedding_source_columns': [{'name': 'document',\n",
       "    'embedding_model_endpoint_name': 'databricks-gte-large-en'}],\n",
       "  'pipeline_type': 'TRIGGERED',\n",
       "  'pipeline_id': '54f00dd7-6270-4307-96dd-4dfb080e3243'},\n",
       " 'status': {'detailed_state': 'ONLINE_NO_PENDING_UPDATE',\n",
       "  'message': 'Index creation succeeded. Check latest status: https://adb-1948512269941134.14.azuredatabricks.net/explore/data/telemetry/lwrca/en_wiki_index',\n",
       "  'indexed_row_count': 5,\n",
       "  'triggered_update_status': {'last_processed_commit_version': 2,\n",
       "   'last_processed_commit_timestamp': '2025-07-21T03:41:31Z'},\n",
       "  'ready': True,\n",
       "  'index_url': 'adb-1948512269941134.14.azuredatabricks.net/api/2.0/vector-search/indexes/telemetry.lwrca.en_wiki_index'},\n",
       " 'creator': 'senthilkumar.marimuthu@tvsmotor.com',\n",
       " 'endpoint_type': 'STANDARD'}"
      ]
     },
     "execution_count": 44,
     "metadata": {},
     "output_type": "execute_result"
    }
   ],
   "source": [
    "import time\n",
    "while not index.describe().get('status').get('detailed_state').startswith('ONLINE'):\n",
    "\n",
    "    print(\"Waiting for index to be ONLINE...\")\n",
    "    time.sleep(5)\n",
    "print(\"Index is ONLINE\")\n",
    "index.describe()"
   ]
  },
  {
   "cell_type": "code",
   "execution_count": 0,
   "metadata": {
    "application/vnd.databricks.v1+cell": {
     "cellMetadata": {
      "byteLimit": 2048000,
      "rowLimit": 10000
     },
     "inputWidgets": {},
     "nuid": "930ea6e8-2a31-48ca-ad55-edafd7bff819",
     "showTitle": false,
     "tableResultSettingsMap": {},
     "title": ""
    }
   },
   "outputs": [
    {
     "output_type": "stream",
     "name": "stdout",
     "output_type": "stream",
     "text": [
      "[NOTICE] Using a notebook authentication token. Recommended for development only. For improved performance, please use Service Principal based authentication. To disable this message, pass disable_notice=True.\n"
     ]
    },
    {
     "output_type": "execute_result",
     "data": {
      "text/plain": [
       "{'manifest': {'column_count': 2,\n",
       "  'columns': [{'name': 'document'}, {'name': 'score'}]},\n",
       " 'result': {'row_count': 2,\n",
       "  'data_array': [['Python is widely used for data science.', 0.0034594734],\n",
       "   ['Databricks simplifies big data and AI.', 0.0021118384]]},\n",
       " 'debug_info': {'response_time': 1494.0,\n",
       "  'ann_time': 18.0,\n",
       "  'embedding_gen_time': 1470.0}}"
      ]
     },
     "execution_count": 50,
     "metadata": {},
     "output_type": "execute_result"
    }
   ],
   "source": [
    "results = index.similarity_search(\n",
    "  query_text=\"python used widely\",\n",
    "  columns=['document'],\n",
    "  num_results=2)\n",
    "\n",
    "results"
   ]
  }
 ],
 "metadata": {
  "application/vnd.databricks.v1+notebook": {
   "computePreferences": null,
   "dashboards": [],
   "environmentMetadata": {
    "base_environment": "",
    "environment_version": "2"
   },
   "inputWidgetPreferences": null,
   "language": "python",
   "notebookMetadata": {
    "pythonIndentUnit": 4
   },
   "notebookName": "Untitled Notebook 2025-07-21 08:45:08",
   "widgets": {}
  },
  "language_info": {
   "name": "python"
  }
 },
 "nbformat": 4,
 "nbformat_minor": 0
}