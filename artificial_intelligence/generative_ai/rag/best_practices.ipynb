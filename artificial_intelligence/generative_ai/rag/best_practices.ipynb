{
 "cells": [
  {
   "cell_type": "markdown",
   "metadata": {},
   "source": [
    "# Updating vector databases"
   ]
  },
  {
   "cell_type": "markdown",
   "metadata": {
    "vscode": {
     "languageId": "plaintext"
    }
   },
   "source": [
    "We can use below methods to update or delete\n",
    "\n",
    "Update an existing document\n",
    "updated_doc = \"This is the updated document.\"\n",
    "updated_vector = model.encode(updated_doc)\n",
    "\n",
    "Delete old vector\n",
    "vector_store.delete(doc_id=\"doc123\")\n",
    "\n",
    "Insert the updated document\n",
    "vector_store.add(doc_id=\"doc123\", vector=updated_vector, metadata={\"content\": updated_doc})\n"
   ]
  },
  {
   "cell_type": "markdown",
   "metadata": {},
   "source": [
    "# Dynamic Update of documents"
   ]
  },
  {
   "cell_type": "markdown",
   "metadata": {},
   "source": [
    "If documents change dynamically (e.g., in real-time), you can implement a monitoring system (e.g., Kafka, file watchers) that triggers updates in the vector store when documents are added, updated, or deleted."
   ]
  },
  {
   "cell_type": "markdown",
   "metadata": {},
   "source": []
  }
 ],
 "metadata": {
  "language_info": {
   "name": "python"
  }
 },
 "nbformat": 4,
 "nbformat_minor": 2
}
