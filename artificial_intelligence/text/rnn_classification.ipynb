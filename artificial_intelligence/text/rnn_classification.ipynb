{
 "cells": [
  {
   "cell_type": "code",
   "execution_count": 1,
   "id": "a7d023ce-2a14-4e69-b907-5a1d489d66ae",
   "metadata": {},
   "outputs": [
    {
     "name": "stdout",
     "output_type": "stream",
     "text": [
      "WARNING:tensorflow:From C:\\Python\\lib\\site-packages\\keras\\src\\losses.py:2976: The name tf.losses.sparse_softmax_cross_entropy is deprecated. Please use tf.compat.v1.losses.sparse_softmax_cross_entropy instead.\n",
      "\n",
      "WARNING:tensorflow:From C:\\Python\\lib\\site-packages\\keras\\src\\backend.py:873: The name tf.get_default_graph is deprecated. Please use tf.compat.v1.get_default_graph instead.\n",
      "\n",
      "WARNING:tensorflow:From C:\\Python\\lib\\site-packages\\keras\\src\\optimizers\\__init__.py:309: The name tf.train.Optimizer is deprecated. Please use tf.compat.v1.train.Optimizer instead.\n",
      "\n",
      "Epoch 1/5\n",
      "WARNING:tensorflow:From C:\\Python\\lib\\site-packages\\keras\\src\\utils\\tf_utils.py:492: The name tf.ragged.RaggedTensorValue is deprecated. Please use tf.compat.v1.ragged.RaggedTensorValue instead.\n",
      "\n",
      "WARNING:tensorflow:From C:\\Python\\lib\\site-packages\\keras\\src\\engine\\base_layer_utils.py:384: The name tf.executing_eagerly_outside_functions is deprecated. Please use tf.compat.v1.executing_eagerly_outside_functions instead.\n",
      "\n",
      "157/157 [==============================] - 14s 62ms/step - loss: 0.6771 - accuracy: 0.5645 - val_loss: 0.6494 - val_accuracy: 0.6104\n",
      "Epoch 2/5\n",
      "157/157 [==============================] - 10s 64ms/step - loss: 0.4542 - accuracy: 0.7986 - val_loss: 0.4487 - val_accuracy: 0.7956\n",
      "Epoch 3/5\n",
      "157/157 [==============================] - 10s 62ms/step - loss: 0.2204 - accuracy: 0.9175 - val_loss: 0.4886 - val_accuracy: 0.7820\n",
      "Epoch 4/5\n",
      "157/157 [==============================] - 12s 74ms/step - loss: 0.0883 - accuracy: 0.9763 - val_loss: 0.4894 - val_accuracy: 0.8236\n",
      "Epoch 5/5\n",
      "157/157 [==============================] - 9s 57ms/step - loss: 0.0295 - accuracy: 0.9955 - val_loss: 0.5741 - val_accuracy: 0.8234\n"
     ]
    },
    {
     "data": {
      "text/plain": [
       "<keras.src.callbacks.History at 0x2acdc93ddb0>"
      ]
     },
     "execution_count": 1,
     "metadata": {},
     "output_type": "execute_result"
    }
   ],
   "source": [
    "import numpy as np\n",
    "import tensorflow as tf\n",
    "from tensorflow.keras import layers, models\n",
    "from tensorflow.keras.datasets import imdb\n",
    "from tensorflow.keras.preprocessing.sequence import pad_sequences\n",
    "\n",
    "# Load the IMDb dataset\n",
    "vocab_size = 10000  # Vocabulary size\n",
    "max_len = 100  # Maximum sequence length\n",
    "(x_train, y_train), (x_test, y_test) = imdb.load_data(num_words=vocab_size)\n",
    "\n",
    "# Pad sequences to ensure uniform length\n",
    "x_train = pad_sequences(x_train, maxlen=max_len)\n",
    "x_test = pad_sequences(x_test, maxlen=max_len)\n",
    "\n",
    "# Define the RNN model\n",
    "model = models.Sequential([\n",
    "    layers.Embedding(vocab_size, 32, input_length=max_len),  # Embedding layer\n",
    "    layers.SimpleRNN(32),  # Simple RNN layer with 32 units\n",
    "    layers.Dense(1, activation='sigmoid')  # Output layer with sigmoid activation for binary classification\n",
    "])\n",
    "\n",
    "# Compile the model\n",
    "model.compile(optimizer='adam', loss='binary_crossentropy', metrics=['accuracy'])\n",
    "\n",
    "# Train the model\n",
    "model.fit(x_train, y_train, epochs=5, batch_size=128, validation_split=0.2)\n"
   ]
  },
  {
   "cell_type": "code",
   "execution_count": 6,
   "id": "4396306d-499c-4ee8-99c1-bd6121b1289e",
   "metadata": {},
   "outputs": [
    {
     "name": "stdout",
     "output_type": "stream",
     "text": [
      "1/1 [==============================] - 0s 79ms/step\n"
     ]
    },
    {
     "data": {
      "text/plain": [
       "array([[0.01519523]], dtype=float32)"
      ]
     },
     "execution_count": 6,
     "metadata": {},
     "output_type": "execute_result"
    }
   ],
   "source": [
    "model.predict([x_test[0].reshape(1, -1)])"
   ]
  },
  {
   "cell_type": "markdown",
   "id": "3e0493f7-731d-4d7b-90bb-f401814d175c",
   "metadata": {},
   "source": [
    "the output is close to 0, hence it is class 0"
   ]
  },
  {
   "cell_type": "markdown",
   "id": "899ce9ba-e996-4bd3-82dc-b46b41dd878f",
   "metadata": {},
   "source": [
    "Thus using the layer call SimpleRNN, we can implement text classification"
   ]
  },
  {
   "cell_type": "code",
   "execution_count": null,
   "id": "ffa75030-ce58-4d62-ac82-68fe485e8d23",
   "metadata": {},
   "outputs": [],
   "source": []
  }
 ],
 "metadata": {
  "kernelspec": {
   "display_name": "Python 3 (ipykernel)",
   "language": "python",
   "name": "python3"
  },
  "language_info": {
   "codemirror_mode": {
    "name": "ipython",
    "version": 3
   },
   "file_extension": ".py",
   "mimetype": "text/x-python",
   "name": "python",
   "nbconvert_exporter": "python",
   "pygments_lexer": "ipython3",
   "version": "3.10.9"
  }
 },
 "nbformat": 4,
 "nbformat_minor": 5
}
