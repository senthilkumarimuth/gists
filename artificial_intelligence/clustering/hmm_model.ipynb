{
 "cells": [
  {
   "cell_type": "code",
   "execution_count": 1,
   "id": "13f6658f-a88d-425b-be4d-9d64c02f06b9",
   "metadata": {},
   "outputs": [
    {
     "name": "stdout",
     "output_type": "stream",
     "text": [
      "Collecting hmmlearnNote: you may need to restart the kernel to use updated packages.\n",
      "\n",
      "  Downloading hmmlearn-0.3.2-cp310-cp310-win_amd64.whl.metadata (3.0 kB)\n",
      "Requirement already satisfied: numpy>=1.10 in c:\\self\\gists\\common_env\\lib\\site-packages (from hmmlearn) (1.23.5)\n",
      "Requirement already satisfied: scikit-learn!=0.22.0,>=0.16 in c:\\self\\gists\\common_env\\lib\\site-packages (from hmmlearn) (1.1.3)\n",
      "Requirement already satisfied: scipy>=0.19 in c:\\self\\gists\\common_env\\lib\\site-packages (from hmmlearn) (1.10.1)\n",
      "Requirement already satisfied: joblib>=1.0.0 in c:\\self\\gists\\common_env\\lib\\site-packages (from scikit-learn!=0.22.0,>=0.16->hmmlearn) (1.2.0)\n",
      "Requirement already satisfied: threadpoolctl>=2.0.0 in c:\\self\\gists\\common_env\\lib\\site-packages (from scikit-learn!=0.22.0,>=0.16->hmmlearn) (3.1.0)\n",
      "Downloading hmmlearn-0.3.2-cp310-cp310-win_amd64.whl (124 kB)\n",
      "   ---------------------------------------- 0.0/124.5 kB ? eta -:--:--\n",
      "   ------------ -------------------------- 41.0/124.5 kB 653.6 kB/s eta 0:00:01\n",
      "   ---------------------------------------  122.9/124.5 kB 1.4 MB/s eta 0:00:01\n",
      "   -------------------------------------- 124.5/124.5 kB 914.1 kB/s eta 0:00:00\n",
      "Installing collected packages: hmmlearn\n",
      "Successfully installed hmmlearn-0.3.2\n"
     ]
    },
    {
     "name": "stderr",
     "output_type": "stream",
     "text": [
      "\n",
      "[notice] A new release of pip is available: 23.3.2 -> 24.0\n",
      "[notice] To update, run: python.exe -m pip install --upgrade pip\n"
     ]
    }
   ],
   "source": [
    "pip install hmmlearn"
   ]
  },
  {
   "cell_type": "code",
   "execution_count": 2,
   "id": "d502a3e4-1e8f-4f81-a41f-905c2538dd48",
   "metadata": {},
   "outputs": [
    {
     "name": "stderr",
     "output_type": "stream",
     "text": [
      "Fitting a model with 7 free scalar parameters with only 5 data points will result in a degenerate solution.\n"
     ]
    },
    {
     "name": "stdout",
     "output_type": "stream",
     "text": [
      "[1 1 0 0 0]\n"
     ]
    }
   ],
   "source": [
    "import numpy as np\n",
    "from hmmlearn import hmm\n",
    "\n",
    "# Ice Cream Sales dataset (example)\n",
    "# Replace this with your actual dataset\n",
    "ice_cream_sales = np.array([20, 25, 30, 35, 30]).reshape(-1, 1)\n",
    "\n",
    "# Define and train the model\n",
    "model = hmm.GaussianHMM(n_components=2)\n",
    "model.fit(ice_cream_sales)\n",
    "\n",
    "# Predict the most likely sequence of hidden states\n",
    "hidden_states = model.predict(ice_cream_sales)\n",
    "print(hidden_states)\n"
   ]
  }
 ],
 "metadata": {
  "kernelspec": {
   "display_name": "my_common_env",
   "language": "python",
   "name": "myenv"
  },
  "language_info": {
   "codemirror_mode": {
    "name": "ipython",
    "version": 3
   },
   "file_extension": ".py",
   "mimetype": "text/x-python",
   "name": "python",
   "nbconvert_exporter": "python",
   "pygments_lexer": "ipython3",
   "version": "3.10.9"
  }
 },
 "nbformat": 4,
 "nbformat_minor": 5
}
