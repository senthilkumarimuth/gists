{
 "cells": [
  {
   "cell_type": "code",
   "execution_count": 3,
   "metadata": {},
   "outputs": [],
   "source": [
    "from llama_parse import LlamaParse"
   ]
  },
  {
   "cell_type": "code",
   "execution_count": 4,
   "metadata": {},
   "outputs": [],
   "source": [
    "parser = LlamaParse(api_key=\"llx-H4GGCIVeZWs8Gu9FaQCUpDTgs9Igs96521FbJnI9sz8Ix4fX\", result_type=\"markdown\")"
   ]
  },
  {
   "cell_type": "code",
   "execution_count": 6,
   "metadata": {},
   "outputs": [
    {
     "name": "stdout",
     "output_type": "stream",
     "text": [
      "Started parsing the file under job_id 7a2386f5-9b39-40fc-a460-8e861634375a\n",
      "..."
     ]
    }
   ],
   "source": [
    "import nest_asyncio\n",
    "nest_asyncio.apply()\n",
    "documents = parser.load_data(\"./UD1-220224-122107-v2_test.pdf\")"
   ]
  },
  {
   "cell_type": "code",
   "execution_count": 9,
   "metadata": {},
   "outputs": [
    {
     "data": {
      "text/plain": [
       "'# 1.6.4 Parking Screen\\n\\nStatus: REDRAFT\\n\\nNeed Information: YES\\n\\nNeed Final Screens: YES\\n\\nTap on the hard key on the right side to enter the parking mode. You will be displayed the screen in illustration no. while your TVS X is parked. Tap on the hard key again to exit the parking mode.\\n\\n10.00 AM\\n\\n05 km/h\\n\\nRev\\n\\nTRIPA\\n85.4 km\\nPARKING\\nRANGE\\n110 km\\nIn Parking Mode, you can use the Hard keys to switch between Forward and Reverse directions. The on-screen arrow will change accordingly to show your current selection direction along with a text at the bottom showing FWD or REV.\\n\\n# The screen displays the following information:\\n\\n|Item|Description|\\n|---|---|\\n|1. Time|Current time in your preferred unit|\\n|2. Direction Arrow|If you press the forward key the arrow will be directed upwards. If you press the reverse key the arrow will be directed downwards.|\\n|3. Speed|Indicates the speed of the vehicle in forward or reverse direction|\\n|4. Trip Distance|If you started a trip, the reading displays the total distance covered in the trip. If you did not start a trip, it will give you the odometer value.|'"
      ]
     },
     "execution_count": 9,
     "metadata": {},
     "output_type": "execute_result"
    }
   ],
   "source": [
    "documents[30].text"
   ]
  }
 ],
 "metadata": {
  "kernelspec": {
   "display_name": ".venv",
   "language": "python",
   "name": "python3"
  },
  "language_info": {
   "codemirror_mode": {
    "name": "ipython",
    "version": 3
   },
   "file_extension": ".py",
   "mimetype": "text/x-python",
   "name": "python",
   "nbconvert_exporter": "python",
   "pygments_lexer": "ipython3",
   "version": "3.10.9"
  }
 },
 "nbformat": 4,
 "nbformat_minor": 2
}
