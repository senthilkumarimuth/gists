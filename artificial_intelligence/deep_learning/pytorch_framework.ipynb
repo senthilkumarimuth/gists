{
 "cells": [
  {
   "cell_type": "markdown",
   "metadata": {},
   "source": [
    "# how to create custom pytorch loss & metric functions?"
   ]
  },
  {
   "cell_type": "code",
   "execution_count": 1,
   "metadata": {},
   "outputs": [
    {
     "name": "stdout",
     "output_type": "stream",
     "text": [
      "Custom Loss: 1.8411\n",
      "Custom Metric: 1.1970\n"
     ]
    }
   ],
   "source": [
    "import torch\n",
    "import torch.nn as nn\n",
    "\n",
    "class CustomLoss(nn.Module):\n",
    "    def __init__(self, weight=0.5):\n",
    "        super().__init__()\n",
    "        self.weight = weight\n",
    "\n",
    "    def forward(self, pred, target):\n",
    "        return self.weight * torch.mean(\n",
    "            (pred - target)**2)\n",
    "\n",
    "def custom_metric(pred, target):\n",
    "    return torch.mean(torch.abs(pred - target))\n",
    "\n",
    "# Sample data\n",
    "pred = torch.randn(5, 3)\n",
    "target = torch.randn(5, 3)\n",
    "\n",
    "# Use custom loss\n",
    "criterion = CustomLoss(weight=0.7)\n",
    "loss = criterion(pred, target)\n",
    "print(f\"Custom Loss: {loss.item():.4f}\")\n",
    "\n",
    "# Use custom metric\n",
    "metric_value = custom_metric(pred, target)\n",
    "print(f\"Custom Metric: {metric_value.item():.4f}\")"
   ]
  }
 ],
 "metadata": {
  "kernelspec": {
   "display_name": ".venv",
   "language": "python",
   "name": "python3"
  },
  "language_info": {
   "codemirror_mode": {
    "name": "ipython",
    "version": 3
   },
   "file_extension": ".py",
   "mimetype": "text/x-python",
   "name": "python",
   "nbconvert_exporter": "python",
   "pygments_lexer": "ipython3",
   "version": "3.10.9"
  }
 },
 "nbformat": 4,
 "nbformat_minor": 2
}
