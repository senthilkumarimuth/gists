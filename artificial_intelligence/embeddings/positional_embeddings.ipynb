{
 "cells": [
  {
   "cell_type": "markdown",
   "id": "a067ad7f",
   "metadata": {},
   "source": [
    " ## Positional Embeddings in Deep Learning\n",
    " \n",
    " **What are Positional Embeddings?**  \n",
    " In models like Transformers, there is no built-in understanding of the order of tokens in a sequence, since the model processes all tokens in parallel. Positional embeddings are additional learned vectors that encode the position of each token in the sequence, allowing the model to understand word order.\n",
    "## How Do Positional Embeddings Work?\n",
    " Each token in a sequence gets a corresponding positional embedding (either learned or sinusoidal) added to its word embedding. This combined embedding is then fed to the model so it can capture both the word’s identity and its position in the sentence.\n",
    "\n",
    "  \n",
    "  ### Step-by-Step: How Positional Embeddings Work\n",
    "  \n",
    "  1. **Tokenization**: Break the input sequence into individual tokens (words or subwords).\n",
    "  2. **Word Embedding Lookup**: Convert each token into a word embedding vector using an embedding matrix.\n",
    "  3. **Generate Positional Embeddings**: For each position in the sequence, create a positional embedding (can be either fixed, like sinusoidal, or learned).\n",
    "  4. **Combine Embeddings**: Add the positional embedding to the word embedding for each token. This merged vector now encodes both meaning and position.\n",
    "  5. **Feed to Model**: Supply the combined embeddings as input to the deep learning model (e.g., a Transformer).\n",
    "  6. **Model Learns Sequence Information**: During training, the model learns to utilize both the word content and position to understand sequence meaning.\n",
    "\n",
    "### Types of Positional Embeddings\n",
    "\n",
    "Two primary approaches exist for generating $ \\mathbf{p}_i $:\n",
    "\n",
    "Learned Positional Embeddings:\n",
    "\n",
    "These are trainable parameters initialized randomly and optimized during model training, similar to word embeddings. A matrix $ \\mathbf{P} \\in \\mathbb{R}^{n \\times d} $ is learned, where each row corresponds to a position. This method is flexible and effective for fixed-length sequences but may not generalize well to longer sequences unseen during training.\n",
    "\n",
    "Sinusoidal Positional Encodings (Fixed):\n",
    "\n",
    "Introduced in the original Transformer paper (\"Attention Is All You Need\"), these use deterministic trigonometric functions to encode positions. For position $ pos $ and dimension $ i $ (0 to $ d/2 - 1 $), the components are:\n",
    "$$p_{pos, 2i} = \\sin\\left( \\frac{pos}{10000^{2i/d}} \\right), \\quad p_{pos, 2i+1} = \\cos\\left( \\frac{pos}{10000^{2i/d}} \\right)$$\n",
    "This creates periodic patterns with varying wavelengths, allowing the model to easily compute relative positions (e.g., via linear transformations). Sinusoidal encodings are advantageous for extrapolation to longer sequences, as they do not require retraining.\n",
    " \n",
    "### Use Cases:  \n",
    " - Natural Language Processing (NLP): For tasks such as machine translation, question answering, and text summarization where sequence order is important.\n",
    " - Computer Vision: In Vision Transformers (ViTs), positional embeddings are used to encode patch positions.\n",
    " - Speech and Time-Series Analysis: Applied wherever sequential data order matters.\n",
    " \n",
    " ### Pros and Cons\n",
    " **Pros:**  \n",
    " - Helps models handle sequence data without recurrence.\n",
    " - Enables parallel processing of input sequences.\n",
    " - Flexible: learned or fixed (sinusoidal or other functions) implementations.\n",
    " \n",
    " **Cons:**  \n",
    " - May not generalize well to sequences longer than those seen during training (especially for learned embeddings).\n",
    " - Absolute positional encoding may not capture relative distances as effectively.\n",
    " - Requires additional computation and parameters.\n"
   ]
  }
 ],
 "metadata": {
  "language_info": {
   "name": "python"
  }
 },
 "nbformat": 4,
 "nbformat_minor": 5
}
