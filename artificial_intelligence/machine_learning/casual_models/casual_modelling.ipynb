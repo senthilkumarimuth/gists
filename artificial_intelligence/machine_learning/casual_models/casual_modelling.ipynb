{
 "cells": [
  {
   "cell_type": "markdown",
   "id": "d4554a8c",
   "metadata": {},
   "source": [
    "## what is causal model?\n",
    "\n",
    " A \"causal model\" is a framework or mathematical model used to describe and analyze cause-and-effect relationships between variables. In machine learning and statistics, causal models help us understand how changes in one variable (the cause) can directly affect another variable (the effect), beyond mere correlation. These models are essential for tasks like predicting the outcome of interventions, policy analysis, and scientific discovery.\n"
   ]
  },
  {
   "cell_type": "markdown",
   "id": "b2a9030d",
   "metadata": {},
   "source": [
    "### Assumptions\n",
    "\n",
    "Common assumptions in causal modeling:\n",
    " \n",
    " 1. **Causal Sufficiency**: All relevant confounders (common causes of treatment and outcome) are measured and included in the model.\n",
    " 2. **No Unmeasured Confounding**: There are no hidden variables that affect both the treatment and the outcome.\n",
    " 3. **Consistency**: The observed outcome under the actual treatment received is the same as the potential outcome under that treatment.\n",
    " 4. **Positivity (Overlap)**: Every unit has a positive probability of receiving each level of the treatment, given the confounders.\n",
    " 5. **Correct Model Specification**: The functional form of the relationships between variables is correctly specified.\n",
    " 6. **Stable Unit Treatment Value Assumption (SUTVA)**: The treatment of one unit does not affect the outcome of another unit (no interference).\n",
    " \n",
    " These assumptions are crucial for identifying and estimating causal effects from data.\n"
   ]
  },
  {
   "cell_type": "markdown",
   "id": "a939fe25",
   "metadata": {},
   "source": [
    "\n",
    "\n",
    "#### What is confounding?\n",
    " \n",
    "**Confounding** occurs when a third variable, known as a confounder, influences both the treatment (or exposure) and the outcome, creating a spurious association between them. In other words, a confounder is a variable that can make it appear as though there is a causal relationship between the treatment and the outcome, when in fact the observed association is (at least partly) due to the confounder.\n",
    " \n",
    "For example, suppose we want to study whether drinking coffee (treatment) causes heart disease (outcome). If age is related to both coffee consumption and heart disease risk, then age is a confounder. Failing to account for age could lead to incorrect conclusions about the effect of coffee on heart disease.\n",
    " \n",
    "In causal modeling, it is crucial to identify and adjust for confounders to estimate the true causal effect of a treatment or intervention.\n"
   ]
  },
  {
   "cell_type": "markdown",
   "id": "cae57820",
   "metadata": {
    "vscode": {
     "languageId": "plaintext"
    }
   },
   "source": [
    "### Use cases\n",
    "\n",
    "Example use cases of causal models in machine learning\n",
    "\n",
    " 1. Healthcare: Estimating the effect of a new drug or treatment on patient outcomes, accounting for confounding variables.\n",
    " 2. Economics: Predicting the impact of policy changes (e.g., tax reforms) on employment or economic growth.\n",
    " 3. Marketing: Understanding how a marketing campaign causally affects sales, separating true effect from correlation.\n",
    " 4. Social Sciences: Studying the causal impact of education on income or social mobility.\n",
    " 5. Recommendation Systems: Determining whether showing a user a particular item causes them to make a purchase, rather than just being correlated.\n",
    " 6. A/B Testing: Analyzing the causal effect of website changes on user engagement or conversion rates.\n",
    " 7. Public Policy: Evaluating the effectiveness of interventions (e.g., vaccination programs) on public health outcomes.\n",
    "\n",
    " These use cases highlight how causal models go beyond correlation to answer \"what if\" and \"why\" questions, enabling better decision-making.\n"
   ]
  },
  {
   "cell_type": "code",
   "execution_count": null,
   "id": "7d553695",
   "metadata": {},
   "outputs": [
    {
     "name": "stdout",
     "output_type": "stream",
     "text": [
      "Naive estimate (ignoring confounder Z):\n",
      "                            OLS Regression Results                            \n",
      "==============================================================================\n",
      "Dep. Variable:                      Y   R-squared:                       0.734\n",
      "Model:                            OLS   Adj. R-squared:                  0.733\n",
      "Method:                 Least Squares   F-statistic:                     2750.\n",
      "Date:                Wed, 03 Sep 2025   Prob (F-statistic):          5.05e-289\n",
      "Time:                        15:35:05   Log-Likelihood:                -1937.6\n",
      "No. Observations:                1000   AIC:                             3879.\n",
      "Df Residuals:                     998   BIC:                             3889.\n",
      "Df Model:                           1                                         \n",
      "Covariance Type:            nonrobust                                         \n",
      "==============================================================================\n",
      "                 coef    std err          t      P>|t|      [0.025      0.975]\n",
      "------------------------------------------------------------------------------\n",
      "const         -0.0096      0.053     -0.180      0.857      -0.114       0.095\n",
      "X              2.5519      0.049     52.441      0.000       2.456       2.647\n",
      "==============================================================================\n",
      "Omnibus:                        3.384   Durbin-Watson:                   2.021\n",
      "Prob(Omnibus):                  0.184   Jarque-Bera (JB):                2.862\n",
      "Skew:                           0.025   Prob(JB):                        0.239\n",
      "Kurtosis:                       2.743   Cond. No.                         1.12\n",
      "==============================================================================\n",
      "\n",
      "Notes:\n",
      "[1] Standard Errors assume that the covariance matrix of the errors is correctly specified.\n",
      "\n",
      "Adjusted estimate (controlling for confounder Z):\n",
      "                            OLS Regression Results                            \n",
      "==============================================================================\n",
      "Dep. Variable:                      Y   R-squared:                       0.909\n",
      "Model:                            OLS   Adj. R-squared:                  0.909\n",
      "Method:                 Least Squares   F-statistic:                     4972.\n",
      "Date:                Wed, 03 Sep 2025   Prob (F-statistic):               0.00\n",
      "Time:                        15:35:05   Log-Likelihood:                -1401.5\n",
      "No. Observations:                1000   AIC:                             2809.\n",
      "Df Residuals:                     997   BIC:                             2824.\n",
      "Df Model:                           2                                         \n",
      "Covariance Type:            nonrobust                                         \n",
      "==============================================================================\n",
      "                 coef    std err          t      P>|t|      [0.025      0.975]\n",
      "------------------------------------------------------------------------------\n",
      "const          0.0061      0.031      0.197      0.844      -0.055       0.067\n",
      "X              1.9898      0.031     63.691      0.000       1.929       2.051\n",
      "Z              1.5269      0.035     43.776      0.000       1.458       1.595\n",
      "==============================================================================\n",
      "Omnibus:                        1.860   Durbin-Watson:                   2.022\n",
      "Prob(Omnibus):                  0.394   Jarque-Bera (JB):                1.756\n",
      "Skew:                           0.060   Prob(JB):                        0.416\n",
      "Kurtosis:                       3.167   Cond. No.                         1.58\n",
      "==============================================================================\n",
      "\n",
      "Notes:\n",
      "[1] Standard Errors assume that the covariance matrix of the errors is correctly specified.\n"
     ]
    }
   ],
   "source": [
    "# Example: Estimating the causal effect of a treatment using the backdoor adjustment (with simulated data)\n",
    "\n",
    "import numpy as np\n",
    "import pandas as pd\n",
    "import statsmodels.api as sm\n",
    "\n",
    "# Simulate data for a simple causal model:\n",
    "# Z (confounder) -> X (treatment) -> Y (outcome)\n",
    "# Z also affects Y directly (confounding)\n",
    "\n",
    "np.random.seed(42)\n",
    "n = 1000\n",
    "\n",
    "# Simulate confounder Z\n",
    "Z = np.random.normal(0, 1, n)\n",
    "\n",
    "# Simulate treatment X, affected by Z\n",
    "X = 0.5 * Z + np.random.normal(0, 1, n)\n",
    "\n",
    "# Simulate outcome Y, affected by both X and Z\n",
    "Y = 2.0 * X + 1.5 * Z + np.random.normal(0, 1, n)\n",
    "\n",
    "# Create a DataFrame\n",
    "df = pd.DataFrame({'Z': Z, 'X': X, 'Y': Y})\n",
    "\n",
    "# Naive regression: Estimate effect of X on Y without adjusting for Z (ignores confounding)\n",
    "naive_model = sm.OLS(df['Y'], sm.add_constant(df['X'])).fit()\n",
    "print(\"Naive estimate (ignoring confounder Z):\")\n",
    "print(naive_model.summary())\n",
    "\n",
    "# Proper regression: Adjust for confounder Z (backdoor adjustment)\n",
    "adjusted_model = sm.OLS(df['Y'], sm.add_constant(df[['X', 'Z']])).fit()\n",
    "print(\"\\nAdjusted estimate (controlling for confounder Z):\")\n",
    "print(adjusted_model.summary())\n",
    "\n",
    "# How to interpret the results:\n",
    "# - Look at the coefficient for 'X' in both models.\n",
    "# - In the naive model, the coefficient for X represents the *association* between X and Y,\n",
    "#   which may be biased due to confounding by Z.\n",
    "# - In the adjusted model, the coefficient for X represents the *causal effect* of X on Y,\n",
    "#   because we have controlled for the confounder Z.\n",
    "# - The closer the adjusted coefficient is to the true simulated value (2.0), the better.\n",
    "# - The p-value for X tells you whether the effect is statistically significant.\n",
    "# - The coefficient for Z in the adjusted model should be close to its true effect (1.5).\n",
    "# - Always interpret the adjusted model's X coefficient as the estimated average causal effect\n",
    "#   of the treatment (X) on the outcome (Y), assuming all confounders are properly controlled.\n",
    "\n"
   ]
  },
  {
   "cell_type": "markdown",
   "id": "a0a15b58",
   "metadata": {},
   "source": [
    "### Pros\n",
    "\n",
    "- Allows for estimation of causal effects rather than just associations.\n",
    " - Enables answering \"what if\" (counterfactual) questions.\n",
    " - Supports better decision-making in policy, medicine, business, etc.\n",
    " - Can control for confounding variables to reduce bias.\n",
    " - Provides a framework for understanding mechanisms and pathways.\n",
    " - Facilitates generalization of findings to new settings (external validity).\n"
   ]
  },
  {
   "cell_type": "markdown",
   "id": "90974d2b",
   "metadata": {},
   "source": [
    "### Cons\n",
    "\n",
    "- Requires strong assumptions (e.g., no unmeasured confounding) that may not hold in practice.\n",
    " - Causal inference methods can be sensitive to model misspecification.\n",
    " - Data collection for all relevant variables (especially confounders) can be difficult or expensive.\n",
    " - Results can be biased if important confounders are omitted.\n",
    " - Interpretation of causal effects may be challenging in complex systems.\n",
    " - Some methods require large sample sizes for reliable estimation.\n",
    " - Not all causal questions can be answered from observational data alone.\n"
   ]
  }
 ],
 "metadata": {
  "kernelspec": {
   "display_name": ".venv",
   "language": "python",
   "name": "python3"
  },
  "language_info": {
   "codemirror_mode": {
    "name": "ipython",
    "version": 3
   },
   "file_extension": ".py",
   "mimetype": "text/x-python",
   "name": "python",
   "nbconvert_exporter": "python",
   "pygments_lexer": "ipython3",
   "version": "3.10.9"
  }
 },
 "nbformat": 4,
 "nbformat_minor": 5
}
