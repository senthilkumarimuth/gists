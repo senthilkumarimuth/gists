{
 "cells": [
  {
   "cell_type": "markdown",
   "id": "286060a7",
   "metadata": {},
   "source": [
    "**What is the difference between Logic and Fuzzy Logic?**\n",
    "\n",
    "- **Logic** (often called classical or Boolean logic) is based on precise, binary reasoning. In classical logic, statements are <span style=\"color: red;\">__either completely true or completely false (i.e., values are 1 or 0).__</span> This approach works well for problems that can be clearly defined with exact rules and boundaries.\n",
    "\n",
    "- **Fuzzy Logic** extends classical logic by allowing for degrees of truth. Instead of only true or false, statements can have a <span style=\"color: red;\">__value anywhere between 0 and 1, representing partial truth.__</span> Fuzzy logic is useful for dealing with uncertainty, vagueness, and situations where information is imprecise—such as describing something as \"warm\" or \"tall.\" It is widely used in control systems, decision-making, and artificial intelligence to model real-world situations more naturally.\n"
   ]
  },
  {
   "cell_type": "markdown",
   "id": "43dde28a",
   "metadata": {},
   "source": [
    "**What is Deterministic and Stochastic?**\n",
    "- **Deterministic** refers to processes or systems where the outcome is completely determined by the initial conditions and rules. <span style=\"color: red;\">__Given the same input, a deterministic system will always produce the same output.__</span> There is no randomness involved. For example, traditional computer programs and mathematical equations are deterministic.\n",
    "- **Stochastic** refers to processes or systems that <span style=\"color: red;\">__involve randomness or probability.__</span> The outcome is not fully predictable, even if the initial conditions are known, because there is some element of chance. Examples include rolling dice, weather patterns, and many machine learning algorithms that use random sampling or probabilistic models.\n"
   ]
  },
  {
   "cell_type": "markdown",
   "id": "0da29bce",
   "metadata": {},
   "source": [
    "**What is Soft and Hard Computing?**\n",
    "\n",
    "- **Hard Computing** refers to traditional computing methods that are based on precise, <span style=\"color: red;\">__deterministic logic and algorithms.__</span> It requires exact input data and produces exact outputs. Examples include classical logic, binary arithmetic, and conventional programming.\n",
    "\n",
    "- **Soft Computing** is <span style=\"color: red;\">__stochastic__</span> i.e it is an approach that deals with approximate models and gives solutions to complex real-world problems where precision is not always possible. It incorporates techniques like fuzzy logic, neural networks, genetic algorithms, and probabilistic reasoning, allowing for tolerance of imprecision and uncertainty.\n"
   ]
  },
  {
   "cell_type": "markdown",
   "id": "70ab0cc4",
   "metadata": {},
   "source": [
    "**What is Artificial Intelligence (AI)?**\n",
    "\n",
    "Artificial Intelligence (AI) is a branch of computer science focused on creating systems or machines that can perform tasks that typically require human intelligence. These tasks include learning from experience, understanding natural language, recognizing patterns, solving problems, and making decisions.\n",
    "\n",
    "AI encompasses a variety of techniques and approaches, such as machine learning, deep learning, natural language processing, robotics, and expert systems. The goal of AI is to develop systems that can <span style=\"color: red;\">__mimic or simulate intelligent behavior, enabling computers to perform complex tasks in a way that appears \"smart\" or human-like.__</span>\n"
   ]
  },
  {
   "cell_type": "markdown",
   "id": "0def25c7",
   "metadata": {},
   "source": [
    "**What is Machine Learning?**\n",
    "\n",
    "Machine Learning is a subset of artificial intelligence (AI) that focuses on building systems that can learn from data and improve their performance over time without being explicitly programmed. Instead of following fixed rules, machine learning algorithms identify patterns and relationships in data to make predictions, classifications, or decisions.\n",
    "\n",
    "There are different types of machine learning, including:\n",
    "- **Supervised Learning:** The algorithm learns from labeled data, where the correct output is provided for each example.\n",
    "- **Unsupervised Learning:** The algorithm finds patterns or groupings in data without labeled outputs.\n",
    "- **Reinforcement Learning:** The algorithm learns by interacting with an environment and receiving feedback in the form of rewards or penalties.\n",
    "\n",
    "Machine learning is widely used in applications such as image and speech recognition, recommendation systems, fraud detection, and more.\n"
   ]
  },
  {
   "cell_type": "markdown",
   "id": "c34b1a31",
   "metadata": {},
   "source": [
    "**What is Data Science?**\n",
    "\n",
    "Data Science is an interdisciplinary field that uses scientific methods, algorithms, processes, and systems to extract knowledge and insights from structured and unstructured data. It combines techniques from statistics, computer science, mathematics, and domain expertise to analyze and interpret complex data.\n",
    "\n",
    "Data Science involves several key steps, including data collection, cleaning, exploration, analysis, modeling, and visualization. The goal is to uncover patterns, make predictions, and support decision-making in a wide range of applications such as business, healthcare, finance, and more.\n",
    "\n",
    "Data Science often leverages tools and techniques from machine learning, artificial intelligence, and big data technologies to handle large and complex datasets.\n"
   ]
  },
  {
   "cell_type": "markdown",
   "id": "d859e0ed",
   "metadata": {},
   "source": [
    "**Difference Between Data Science and Machine Learning**\n",
    "\n",
    "- **Data Science** is a broad, interdisciplinary field that focuses on extracting knowledge and insights from data using a combination of statistics, mathematics, programming, and domain expertise. It covers the entire data pipeline, including data collection, cleaning, exploration, analysis, visualization, and interpretation to support decision-making.\n",
    "\n",
    "- **Machine Learning** is a subset of artificial intelligence and a specialized area within data science. It involves developing algorithms and models that enable computers to learn from data and make predictions or decisions without being explicitly programmed.\n",
    "\n",
    "**Key Differences:**\n",
    "- Data science encompasses the whole process of working with data, while machine learning specifically focuses on building predictive models and algorithms.\n",
    "- Data science uses a variety of tools and techniques (including machine learning) for data analysis, whereas machine learning is mainly concerned with model training, evaluation, and prediction.\n",
    "- Data scientists may use machine learning as one of many tools to analyze data, but their work also involves tasks like data wrangling, visualization, and communicating results.\n",
    "\n",
    "In summary, machine learning is a core component of data science, but data science is a broader field that includes many other skills and processes beyond just machine learning.\n"
   ]
  },
  {
   "cell_type": "markdown",
   "id": "0cd3537b",
   "metadata": {},
   "source": [
    "**Churn rate**\n",
    "\n",
    "Customer Churn Rate = (Customers beginning of month – Customers end of month) / Customers beginning of month\n",
    "\n",
    "(500-450)/500 = 50/500 = 10%"
   ]
  },
  {
   "cell_type": "markdown",
   "id": "37aabf7c",
   "metadata": {},
   "source": [
    "**What is categorical variable?**\n",
    "\n",
    "Categorical variables are qalitative values than quantitave. And other wise called as labels.\n",
    "\n",
    "There are broadly two types of categorical variables:\n",
    "- 1. Nominal Variable: A nominal variable has <span style=\"color: red;\">__no natural ordering to its categories.__</span> They have two or more categories. For example, Marital Status (Single, Married, Divorcee); Gender (Male, Female, Transgender), etc.\n",
    "- 2. Ordinal Variable: A variable for which the categories <span style=\"color: red;\">__can be placed in an order.__</span> For example, Customer Satisfaction (Excellent, Very Good, Good, Average, Bad), and so on\n"
   ]
  },
  {
   "cell_type": "markdown",
   "id": "52572726",
   "metadata": {},
   "source": [
    "**What is cardinality?**\n",
    "\n",
    "Cardinality refers to the <span style=\"color: red;\">__uniqueness of data values contained in a column.__</span> High cardinality means that the column contains a large percentage of totally unique values. Low cardinality means that the column contains a lot of “repeats” in its data range."
   ]
  },
  {
   "cell_type": "markdown",
   "id": "69c6af08",
   "metadata": {},
   "source": [
    "**What is outliers?**\n",
    "\n",
    "It can be the result of measurement or recording errors, or the unintended and truthful outcome resulting from the set’s definition.”\n",
    "\n",
    " You can find outliers using scatterplot"
   ]
  },
  {
   "cell_type": "markdown",
   "id": "ea67f593",
   "metadata": {},
   "source": [
    "**What is an imbalanced dataset?**\n",
    "\n",
    "An imbalanced dataset is a dataset where the distribution of examples across the <span style=\"color: red;\">__different classes is not approximately equal.__</span> In other words, one class (or a few classes) has significantly more samples than the others.\n",
    "\n",
    "This is common in classification problems, such as fraud detection, disease diagnosis, or rare event prediction, where the event of interest (positive class) is much less frequent than the negative class.\n",
    "\n",
    "Imbalanced datasets can cause machine learning models to be biased toward the majority class, leading to poor performance on the minority class. Special techniques such as resampling, using different evaluation metrics, or applying specialized algorithms are often needed to address this issue.\n"
   ]
  },
  {
   "cell_type": "markdown",
   "id": "005e83f4",
   "metadata": {},
   "source": [
    "**What is data leakage and its types?**\n",
    "\n",
    "Data leakage (or \"leakage\") occurs when information from outside the training dataset is used to create the model, leading to overly optimistic performance estimates and poor generalization to new data. It happens when data that would not be available at prediction time is inadvertently used during model training.\n",
    "\n",
    "**Types of Data Leakage:**\n",
    "\n",
    "1. **Target Leakage (or Label Leakage):**\n",
    "   - This occurs when the training data includes information about the target variable that would not be available at prediction time. For example, <span style=\"color: red;\">__including a feature that is a future value or a direct proxy of the target.__</span> \n",
    "   - *Example:* Using a \"discharge date\" to predict whether a patient will be readmitted, when the discharge date is only known after the event.\n",
    "\n",
    "2. **Train-Test Contamination:**\n",
    "   - This happens when information from the test set leaks into the training set, often due to improper data splitting or preprocessing before splitting.\n",
    "   - *Example:* Normalizing the entire dataset before splitting into train and test sets, causing information from the test set to influence the training process.\n",
    "\n",
    "3. **Feature Leakage:**\n",
    "   - Occurs when features are constructed using information that would <span style=\"color: red;\">__not be available at prediction time, or when features are highly correlated with the target__</span>  due to data collection or processing errors.\n",
    "   - *Example:* Including a feature that is derived from the target variable.\n",
    "\n",
    "**How to Prevent Data Leakage:**\n",
    " - Always split your data into training and test sets before any preprocessing.\n",
    "- Carefully review features to ensure none contain information that would not be available at prediction time.\n",
    "- Be cautious with time-series data and avoid using future information.\n",
    "\n",
    "Data leakage can lead to models that perform well in validation but fail in real-world scenarios, so it is important to identify and prevent it during the machine learning workflow.\n"
   ]
  },
  {
   "cell_type": "markdown",
   "id": "0693583c",
   "metadata": {},
   "source": [
    "**What is the difference between `fit` and `transform` methods in scikit-learn?**\n",
    "\n",
    "In scikit-learn, many preprocessing and transformation classes (like `StandardScaler`, `PCA`, etc.) use the `fit` and `transform` methods as part of their workflow.\n",
    "\n",
    "- **`fit`**: The `fit` method is used to learn or estimate parameters from the training data. For example, when you call `scaler.fit(X_train)`, the scaler computes the mean and standard deviation of the features in `X_train` and stores them internally.\n",
    "\n",
    "- **`transform`**: The `transform` method uses the parameters learned during `fit` to modify the data. For example, `scaler.transform(X_test)` will use the mean and standard deviation computed from `X_train` to scale `X_test`.\n",
    "\n",
    "- **`fit_transform`**: This is a convenience method that combines both steps: it first fits the transformer to the data, then transforms it.\n"
   ]
  },
  {
   "cell_type": "markdown",
   "id": "e64a8599",
   "metadata": {},
   "source": [
    "![alt text](<Untitled picture.png>)"
   ]
  },
  {
   "cell_type": "markdown",
   "id": "52fc3908",
   "metadata": {},
   "source": []
  }
 ],
 "metadata": {
  "language_info": {
   "name": "python"
  }
 },
 "nbformat": 4,
 "nbformat_minor": 5
}
