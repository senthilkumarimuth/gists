{
 "cells": [
  {
   "cell_type": "markdown",
   "id": "f92a636c",
   "metadata": {},
   "source": [
    "## Online K-Means\n",
    "\n",
    "\n",
    "Online K-Means (or Incremental K-Means) is a variant of K-Means that updates cluster centers incrementally as new data arrives, instead of reprocessing the full dataset each time.\n",
    "\n",
    "\n",
    " 🔹 Key Idea\n",
    "\n",
    "formula:\n",
    "\n",
    "       μₖ ← μₖ + η (x - μₖ)\n",
    "\n",
    " where:\n",
    " \n",
    "   • μₖ: current centroid of cluster k\n",
    "\n",
    "   • x:  new data point assigned to cluster k\n",
    "\n",
    "   • η:  learning rate, typically set as η = 1 / nₖ, with nₖ the number of samples assigned so far to cluster k\n",
    "\n",
    " This approach allows centroids to adjust incrementally to streaming or sequential data.\n",
    "\n",
    "🔹 Benefits\n",
    "\n",
    "\t•\tHandles streaming data\n",
    "\n",
    "\t•\tRequires less memory\n",
    "\n",
    "\t•\tSuitable for large datasets\n",
    "\t\n",
    "\n",
    "\n",
    "🔹 Summary\n",
    "\t•\tBatch K-Means: Recomputes centroids using all data each iteration.\n",
    "\t•\tOnline K-Means: Updates centroids incrementally — ideal for real-time or streaming ML."
   ]
  },
  {
   "cell_type": "code",
   "execution_count": 1,
   "id": "0a6547a0",
   "metadata": {},
   "outputs": [
    {
     "name": "stdout",
     "output_type": "stream",
     "text": [
      "[[ 4.64247762  1.97434973]\n",
      " [-6.86356135 -6.85601522]\n",
      " [-2.51797296  9.01214406]]\n"
     ]
    }
   ],
   "source": [
    "\n",
    "from sklearn.cluster import MiniBatchKMeans\n",
    "from sklearn.datasets import make_blobs\n",
    "\n",
    "X, _ = make_blobs(n_samples=10000, centers=3, n_features=2, random_state=42)\n",
    "\n",
    "kmeans = MiniBatchKMeans(n_clusters=3, batch_size=100)\n",
    "for batch in range(0, len(X), 100):\n",
    "    kmeans.partial_fit(X[batch:batch+100])  # online update\n",
    "\n",
    "print(kmeans.cluster_centers_)"
   ]
  }
 ],
 "metadata": {
  "kernelspec": {
   "display_name": ".venv",
   "language": "python",
   "name": "python3"
  },
  "language_info": {
   "codemirror_mode": {
    "name": "ipython",
    "version": 3
   },
   "file_extension": ".py",
   "mimetype": "text/x-python",
   "name": "python",
   "nbconvert_exporter": "python",
   "pygments_lexer": "ipython3",
   "version": "3.12.11"
  }
 },
 "nbformat": 4,
 "nbformat_minor": 5
}
