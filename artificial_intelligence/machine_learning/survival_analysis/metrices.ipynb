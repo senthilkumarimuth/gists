{
 "cells": [
  {
   "cell_type": "markdown",
   "id": "1b423401",
   "metadata": {},
   "source": [
    "# Brier Score"
   ]
  },
  {
   "cell_type": "markdown",
   "id": "42042876",
   "metadata": {},
   "source": [
    "The Brier score is a metric used to measure the accuracy of probabilistic predictions. \n",
    "In the context of survival analysis, it quantifies how close the predicted survival probabilities are to the actual outcomes.\n",
    "\n",
    "The Brier score ranges from 0 to 1, where 0 indicates perfect accuracy and 1 indicates the worst possible prediction."
   ]
  },
  {
   "cell_type": "code",
   "execution_count": 2,
   "id": "afdebac0",
   "metadata": {},
   "outputs": [
    {
     "name": "stdout",
     "output_type": "stream",
     "text": [
      "Brier score: 0.009999999999999997\n"
     ]
    }
   ],
   "source": [
    "import numpy as np\n",
    "\n",
    "def brier_score(y_true, y_pred, event_observed):\n",
    "    \"\"\"\n",
    "    Compute the Brier score for survival analysis.\n",
    "\n",
    "    Parameters:\n",
    "    -----------\n",
    "    y_true : array-like, shape (n_samples,)\n",
    "        Actual survival/censoring times.\n",
    "    y_pred : array-like, shape (n_samples,)\n",
    "        Predicted survival probabilities at a specific time.\n",
    "    event_observed : array-like, shape (n_samples,)\n",
    "        Event indicator: 1 if event occurred, 0 if censored.\n",
    "\n",
    "    Returns:\n",
    "    --------\n",
    "    float\n",
    "        The Brier score.\n",
    "    \"\"\"\n",
    "    y_true = np.asarray(y_true)\n",
    "    y_pred = np.asarray(y_pred)\n",
    "    event_observed = np.asarray(event_observed)\n",
    "\n",
    "    # For censored data, use inverse probability of censoring weighting (IPCW)\n",
    "    # For simplicity, here we ignore IPCW and compute the naive Brier score\n",
    "    # (for uncensored data or as an illustrative example)\n",
    "    return np.mean((event_observed - y_pred) ** 2)\n",
    "\n",
    "# Example usage:\n",
    "y_true = [5, 6, 7, 10]\n",
    "y_pred = [0.9, 0.9, 0.1, 0.9]  # predicted survival probabilities at a given time\n",
    "event_observed = [1, 1, 0, 1]  # 1=event occurred, 0=censored\n",
    "score = brier_score(y_true, y_pred, event_observed)\n",
    "print(\"Brier score:\", score)\n"
   ]
  },
  {
   "cell_type": "markdown",
   "id": "ddb4bdb5",
   "metadata": {},
   "source": [
    "The lower the score, the better the prediction"
   ]
  },
  {
   "cell_type": "markdown",
   "id": "90b21d54",
   "metadata": {},
   "source": [
    "#### Pros and Cons of the Brier Score\n",
    "\n",
    " **Pros:**\n",
    " - Simple to compute and interpret.\n",
    " - Provides a direct measure of the accuracy of probabilistic predictions.\n",
    " - Can be used for both binary and survival analysis settings.\n",
    "\n",
    " **Cons:**\n",
    " - Sensitive to censoring; naive computation does not account for censored data properly.\n",
    " - Requires adjustment (e.g., IPCW) for use with censored survival data, which can complicate implementation.\n",
    " - May not distinguish well between models with similar calibration but different discrimination.\n"
   ]
  },
  {
   "cell_type": "markdown",
   "id": "d3b728dc",
   "metadata": {},
   "source": [
    "# concordance Index"
   ]
  },
  {
   "cell_type": "markdown",
   "id": "3f684512",
   "metadata": {},
   "source": [
    "The concordance index (C-index) is a metric used to evaluate the predictive accuracy of risk scores in survival analysis.\n",
    "It measures the agreement between the predicted risk scores and the actual order of observed survival times.\n",
    "\n",
    "A higher C-index indicates better model discrimination, with a value of 1.0 representing perfect prediction and 0.5 indicating random chance.\n"
   ]
  },
  {
   "cell_type": "code",
   "execution_count": null,
   "id": "667cb636",
   "metadata": {},
   "outputs": [
    {
     "name": "stdout",
     "output_type": "stream",
     "text": [
      "Concordance index: 1.0\n"
     ]
    }
   ],
   "source": [
    "def concordance_index(event_times, predicted_scores, event_observed):\n",
    "    \"\"\"\n",
    "    Compute the concordance index (C-index) for survival predictions.\n",
    "\n",
    "    Parameters\n",
    "    ----------\n",
    "    event_times : array-like\n",
    "        Actual observed survival times.\n",
    "    predicted_scores : array-like\n",
    "        Predicted risk scores (higher means higher risk).\n",
    "    event_observed : array-like\n",
    "        Event indicator (1 if event occurred, 0 if censored).\n",
    "\n",
    "    Returns\n",
    "    -------\n",
    "    c_index : float\n",
    "        Concordance index value between 0 and 1.\n",
    "    \"\"\"\n",
    "    n = 0  # number of comparable pairs\n",
    "    n_concordant = 0\n",
    "    n_tied = 0\n",
    "\n",
    "    for i in range(len(event_times)):\n",
    "        for j in range(len(event_times)):\n",
    "            if i == j:\n",
    "                continue\n",
    "            # Only consider pairs where one event is observed and the other survived longer\n",
    "            if event_times[i] < event_times[j] and event_observed[i] == 1:\n",
    "                n += 1\n",
    "                if predicted_scores[i] > predicted_scores[j]:\n",
    "                    n_concordant += 1\n",
    "                elif predicted_scores[i] == predicted_scores[j]:\n",
    "                    n_tied += 1\n",
    "    if n == 0:\n",
    "        return np.nan\n",
    "    return (n_concordant + 0.5 * n_tied) / n\n",
    "\n",
    "# Example usage:\n",
    "event_times = [5, 6, 7, 10]\n",
    "predicted_scores = [0.9, 0.9, 0.1, 0.9]  # higher means higher risk\n",
    "event_observed = [1, 1, 0, 1]\n",
    "c_index = concordance_index(event_times, predicted_scores, event_observed)\n",
    "print(\"Concordance index:\", c_index)\n"
   ]
  },
  {
   "cell_type": "markdown",
   "id": "82c0b299",
   "metadata": {},
   "source": [
    " \n",
    "#### Pros and Cons\n",
    "\n",
    "Pros \n",
    " - Intuitive interpretation: Measures the probability that, for a randomly selected pair, the model correctly predicts which subject experiences the event first.\n",
    " - Handles censored data: Can be used even when some survival times are censored.\n",
    " - Model-agnostic: Does not require assumptions about the underlying survival distribution or model type.\n",
    " - Widely used: Standard metric for comparing survival models.\n",
    "\n",
    "Cons \n",
    " - Ignores calibration: Only assesses ranking, not the absolute accuracy of predicted survival times.\n",
    " - Sensitive to ties: May be less informative when there are many tied predicted scores or event times.\n",
    " - Pairwise computation: Can be computationally expensive for large datasets due to pairwise comparisons.\n",
    " - Does not account for time-dependent covariates or dynamic predictions.\n"
   ]
  }
 ],
 "metadata": {
  "kernelspec": {
   "display_name": ".venv",
   "language": "python",
   "name": "python3"
  },
  "language_info": {
   "codemirror_mode": {
    "name": "ipython",
    "version": 3
   },
   "file_extension": ".py",
   "mimetype": "text/x-python",
   "name": "python",
   "nbconvert_exporter": "python",
   "pygments_lexer": "ipython3",
   "version": "3.10.9"
  }
 },
 "nbformat": 4,
 "nbformat_minor": 5
}
