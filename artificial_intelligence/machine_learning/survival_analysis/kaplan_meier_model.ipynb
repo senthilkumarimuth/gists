{
 "cells": [
  {
   "cell_type": "markdown",
   "id": "34f6389f",
   "metadata": {},
   "source": [
    "# Kaplan Meier"
   ]
  },
  {
   "cell_type": "markdown",
   "id": "494873f9",
   "metadata": {},
   "source": [
    "The Kaplan-Meier estimator, also known as the product-limit estimator, is a non-parametric statistic used to estimate the survival function from lifetime data.\n",
    "It is commonly used in survival analysis to measure the fraction of subjects living for a certain amount of time after treatment.\n",
    "\n",
    "The Kaplan-Meier curve is a step function that changes value only at the time of each event (e.g., death, failure, etc.).\n",
    "\n",
    "It accounts for censored data, which occurs when a subject leaves the study before an event occurs or the study ends before the event is observed.\n"
   ]
  },
  {
   "cell_type": "markdown",
   "id": "080c6c35",
   "metadata": {},
   "source": [
    "# Understanding the Kaplan-Meier Model\n",
    "\n",
    "https://datatab.net/tutorial/kaplan-meier-curve"
   ]
  },
  {
   "cell_type": "markdown",
   "id": "49d1d1a2",
   "metadata": {},
   "source": []
  }
 ],
 "metadata": {
  "language_info": {
   "name": "python"
  }
 },
 "nbformat": 4,
 "nbformat_minor": 5
}
