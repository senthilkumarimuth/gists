{
 "cells": [
  {
   "cell_type": "markdown",
   "id": "5eb74a44",
   "metadata": {},
   "source": [
    "## REST APIs\n",
    "\n",
    " A REST API (Representational State Transfer Application Programming Interface) is a way for different software systems to communicate over the web using standard HTTP methods like GET, POST, PUT, and DELETE. REST APIs are designed to be simple, scalable, and stateless.\n",
    " \n",
    "#### Properties of REST APIs:\n",
    " - **Statelessness:** Each request from a client to the server must contain all the information needed to understand and process the request. The server does not store any client context between requests.\n",
    " - **Client-Server Architecture:** The client and server are separate entities that interact through requests and responses.\n",
    " - **Uniform Interface:** REST APIs use a consistent, standardized way to interact with resources, typically using URLs and standard HTTP methods.\n",
    " - **Cacheability:** Responses from the server can be marked as cacheable or non-cacheable to improve performance.\n",
    " - **Layered System:** REST APIs can be composed of multiple layers, with each layer only interacting with the adjacent ones, improving scalability and security.\n",
    " - **Code on Demand (optional):** Servers can provide executable code (like JavaScript) to clients when needed.\n",
    "\n"
   ]
  },
  {
   "cell_type": "markdown",
   "id": "a393dbe9",
   "metadata": {},
   "source": [
    " ## Stateful APIs\n",
    " \n",
    " A Stateful API is an API where the server maintains information about the client's state across multiple requests. This means that each request from the client may rely on data stored on the server from previous interactions.\n",
    " \n",
    "#### Properties of Stateful APIs:\n",
    " - **State Retention:** The server keeps track of the client's session or context, allowing for continuity between requests.\n",
    " - **Session Management:** Often uses mechanisms like cookies, tokens, or session IDs to identify and manage client sessions.\n",
    " - **Tighter Coupling:** The client and server are more tightly coupled, as the server must remember previous interactions.\n",
    " - **Complexity:** Can be more complex to scale and maintain, as session data must be stored and managed.\n",
    " - **Use Cases:** Useful for applications where user context is important, such as shopping carts, user authentication, or workflows that span multiple steps.\n",
    " \n",
    " In contrast to RESTful (stateless) APIs, stateful APIs are less scalable but can provide a more seamless experience for certain types of applications.\n"
   ]
  },
  {
   "cell_type": "markdown",
   "id": "73ee8fa8",
   "metadata": {},
   "source": [
    "## NOTE\n",
    "\n",
    "FastAPI, flask, Django can be implemented in both statefull or stateless(REST). It depends on requirement,but these API frameworks are supporting both"
   ]
  }
 ],
 "metadata": {
  "language_info": {
   "name": "python"
  }
 },
 "nbformat": 4,
 "nbformat_minor": 5
}
