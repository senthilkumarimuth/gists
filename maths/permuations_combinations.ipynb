{
 "cells": [
  {
   "cell_type": "markdown",
   "id": "bcdbd016",
   "metadata": {},
   "source": [
    "Permutation (Order matters)\n",
    "\n",
    "\n",
    "We want to pick 2 people and care about the order (like president and vice-president).\n",
    "\n",
    "Possible arrangements:\n",
    "\n",
    "\t1.\tAB\n",
    "\t2.\tBA\n",
    "\t3.\tAC\n",
    "\t4.\tCA\n",
    "\t5.\tBC\n",
    "\t6.\tCB\n",
    "\n",
    "Total = 6 → P(3,2) = 3! / (3-2)! = 6\n"
   ]
  },
  {
   "cell_type": "markdown",
   "id": "617c91b3",
   "metadata": {},
   "source": [
    "Combination (Order doesn’t matter)\n",
    "\n",
    "We want to pick 2 people, but order doesn’t matter (just a team).\n",
    "\n",
    "Possible selections:\n",
    "\n",
    "\t1.\tAB\n",
    "\t2.\tAC\n",
    "\t3.\tBC\n",
    "\n",
    "Total = 3 → C(3,2) = 3!/2!(3-2)! = 3"
   ]
  },
  {
   "cell_type": "markdown",
   "id": "a0c6cf3e",
   "metadata": {},
   "source": [
    "![alt text](images.png \"Title\")\n"
   ]
  },
  {
   "cell_type": "markdown",
   "id": "3d112a96",
   "metadata": {},
   "source": []
  }
 ],
 "metadata": {
  "language_info": {
   "name": "python"
  }
 },
 "nbformat": 4,
 "nbformat_minor": 5
}
