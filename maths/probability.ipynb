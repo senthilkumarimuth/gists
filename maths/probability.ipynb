{
 "cells": [
  {
   "cell_type": "markdown",
   "id": "29c90153",
   "metadata": {},
   "source": [
    "## Joint probability"
   ]
  },
  {
   "cell_type": "markdown",
   "id": "8f490536",
   "metadata": {},
   "source": [
    "Joint probability is the probability of two (or more) events happening at the same time. \n",
    "\n",
    "For two events A and B, the joint probability is written as P(A and B) or P(A ∩ B).\n",
    "\n",
    "It measures the likelihood that both A and B occur together.\n"
   ]
  },
  {
   "cell_type": "markdown",
   "id": "566d3f88",
   "metadata": {},
   "source": [
    " \n",
    " #### Probability of Dependent Events\n",
    " \n",
    " When two events are dependent, the occurrence of one event affects the probability of the other event.\n",
    " \n",
    " For dependent events A and B, the probability that both A and B occur is:\n",
    " \n",
    " P(A and B) = P(A) × P(B | A)\n",
    " \n",
    " where P(B | A) is the probability that event B occurs given that event A has already occurred.\n",
    " \n",
    " This formula accounts for the fact that the events are not independent.\n",
    "\n"
   ]
  },
  {
   "cell_type": "markdown",
   "id": "7587ed7d",
   "metadata": {},
   "source": [
    " \n",
    " #### Probability of Independent Events\n",
    " \n",
    " When two events are independent, the occurrence of one event does not affect the probability of the other event.\n",
    " \n",
    " For independent events A and B, the probability that both A and B occur is:\n",
    " \n",
    " P(A and B) = P(A) × P(B)\n",
    " \n",
    " This formula applies only when the events are independent.\n"
   ]
  }
 ],
 "metadata": {
  "language_info": {
   "name": "python"
  }
 },
 "nbformat": 4,
 "nbformat_minor": 5
}
