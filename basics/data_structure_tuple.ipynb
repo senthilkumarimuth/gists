{
 "cells": [
  {
   "cell_type": "markdown",
   "id": "a7360f80-5c95-4481-b101-eae8d4218df5",
   "metadata": {},
   "source": [
    "# Empty tuple"
   ]
  },
  {
   "cell_type": "code",
   "execution_count": 2,
   "id": "7393e681-d161-4b44-9b77-86a2e8ffbde3",
   "metadata": {},
   "outputs": [
    {
     "name": "stdout",
     "output_type": "stream",
     "text": [
      "()\n"
     ]
    }
   ],
   "source": [
    "empty_tuple = ()\n",
    "print(empty_tuple)"
   ]
  },
  {
   "cell_type": "markdown",
   "id": "256843e0-43ad-42f3-8b8a-6d8fd068eb0c",
   "metadata": {},
   "source": [
    "# sample tuple"
   ]
  },
  {
   "cell_type": "code",
   "execution_count": 5,
   "id": "affe865f-7d15-4ba8-9d75-a91fa38555b0",
   "metadata": {},
   "outputs": [
    {
     "name": "stdout",
     "output_type": "stream",
     "text": [
      "(1, 2, 3, 3)\n"
     ]
    }
   ],
   "source": [
    "sample_tuple = (1,2,3,3)\n",
    "print(sample_tuple)"
   ]
  },
  {
   "cell_type": "markdown",
   "id": "f606aa2e-9fd0-4817-ba21-c1049ec685b9",
   "metadata": {},
   "source": [
    "## Mutable or immutable? Immutable"
   ]
  },
  {
   "cell_type": "code",
   "execution_count": 6,
   "id": "dc3fdb46-231a-4dea-b599-df1d98b7ff4d",
   "metadata": {},
   "outputs": [
    {
     "ename": "TypeError",
     "evalue": "'tuple' object does not support item assignment",
     "output_type": "error",
     "traceback": [
      "\u001b[1;31m---------------------------------------------------------------------------\u001b[0m",
      "\u001b[1;31mTypeError\u001b[0m                                 Traceback (most recent call last)",
      "Cell \u001b[1;32mIn[6], line 2\u001b[0m\n\u001b[0;32m      1\u001b[0m sample_tuple \u001b[38;5;241m=\u001b[39m (\u001b[38;5;241m1\u001b[39m,\u001b[38;5;241m2\u001b[39m,\u001b[38;5;241m3\u001b[39m,\u001b[38;5;241m3\u001b[39m)\n\u001b[1;32m----> 2\u001b[0m \u001b[43msample_tuple\u001b[49m\u001b[43m[\u001b[49m\u001b[38;5;241;43m0\u001b[39;49m\u001b[43m]\u001b[49m \u001b[38;5;241m=\u001b[39m \u001b[38;5;241m5\u001b[39m\n\u001b[0;32m      3\u001b[0m \u001b[38;5;28mprint\u001b[39m(sample_tuple)\n",
      "\u001b[1;31mTypeError\u001b[0m: 'tuple' object does not support item assignment"
     ]
    }
   ],
   "source": [
    "sample_tuple = (1,2,3,3)\n",
    "sample_tuple[0] = 5\n",
    "print(sample_tuple)"
   ]
  },
  {
   "cell_type": "markdown",
   "id": "07637f96-d66a-4f6e-898c-363dba31ed62",
   "metadata": {},
   "source": [
    "## Iterable or Non Iterable? Iterable"
   ]
  },
  {
   "cell_type": "code",
   "execution_count": 7,
   "id": "d34557b2-651d-48c2-8c17-28f200cbe863",
   "metadata": {},
   "outputs": [
    {
     "name": "stdout",
     "output_type": "stream",
     "text": [
      "1\n",
      "2\n",
      "3\n",
      "3\n"
     ]
    }
   ],
   "source": [
    "sample_tuple = (1,2,3,3)\n",
    "for i in sample_tuple:\n",
    "    print(i)"
   ]
  },
  {
   "cell_type": "markdown",
   "id": "c3c7b4fd-236b-4967-aad1-fada0fc78bd1",
   "metadata": {},
   "source": [
    "## Ordered or Unordered? Ordered"
   ]
  },
  {
   "cell_type": "code",
   "execution_count": 9,
   "id": "d0140f99-9c5d-4627-a858-05785a32c15b",
   "metadata": {},
   "outputs": [
    {
     "name": "stdout",
     "output_type": "stream",
     "text": [
      "(1, 2, 3, 4)\n"
     ]
    }
   ],
   "source": [
    "my_tuple = (1, 2, 3)\n",
    "new_tuple = my_tuple + (4,)\n",
    "print(new_tuple)"
   ]
  },
  {
   "cell_type": "markdown",
   "id": "359bcdf6-5e8c-438d-9194-f762b99c9add",
   "metadata": {},
   "source": [
    "## How to delete a value from tuple [NOT POSSIBLE]"
   ]
  },
  {
   "cell_type": "code",
   "execution_count": 10,
   "id": "ca82d7e0-6f0c-4ad3-be54-024981900e69",
   "metadata": {},
   "outputs": [
    {
     "ename": "TypeError",
     "evalue": "'tuple' object doesn't support item deletion",
     "output_type": "error",
     "traceback": [
      "\u001b[1;31m---------------------------------------------------------------------------\u001b[0m",
      "\u001b[1;31mTypeError\u001b[0m                                 Traceback (most recent call last)",
      "Cell \u001b[1;32mIn[10], line 2\u001b[0m\n\u001b[0;32m      1\u001b[0m my_tuple \u001b[38;5;241m=\u001b[39m (\u001b[38;5;241m1\u001b[39m, \u001b[38;5;241m2\u001b[39m, \u001b[38;5;241m3\u001b[39m)\n\u001b[1;32m----> 2\u001b[0m \u001b[38;5;28;01mdel\u001b[39;00m \u001b[43mmy_tuple\u001b[49m\u001b[43m[\u001b[49m\u001b[38;5;241;43m0\u001b[39;49m\u001b[43m]\u001b[49m\n\u001b[0;32m      3\u001b[0m \u001b[38;5;28mprint\u001b[39m(my_tuple)\n",
      "\u001b[1;31mTypeError\u001b[0m: 'tuple' object doesn't support item deletion"
     ]
    }
   ],
   "source": [
    "my_tuple = (1, 2, 3)\n",
    "del my_tuple[0]\n",
    "print(my_tuple)"
   ]
  },
  {
   "cell_type": "code",
   "execution_count": 15,
   "id": "33614fd9-da10-4cd7-9154-b2f1d2fdfaf4",
   "metadata": {},
   "outputs": [
    {
     "name": "stdout",
     "output_type": "stream",
     "text": [
      "(1, 2, 3)\n",
      "*****after deletion******\n"
     ]
    },
    {
     "ename": "NameError",
     "evalue": "name 'my_tuple' is not defined",
     "output_type": "error",
     "traceback": [
      "\u001b[1;31m---------------------------------------------------------------------------\u001b[0m",
      "\u001b[1;31mNameError\u001b[0m                                 Traceback (most recent call last)",
      "Cell \u001b[1;32mIn[15], line 6\u001b[0m\n\u001b[0;32m      4\u001b[0m \u001b[38;5;28;01mdel\u001b[39;00m my_tuple\n\u001b[0;32m      5\u001b[0m \u001b[38;5;28mprint\u001b[39m(\u001b[38;5;124m\"\u001b[39m\u001b[38;5;124m*****after deletion******\u001b[39m\u001b[38;5;124m\"\u001b[39m)\n\u001b[1;32m----> 6\u001b[0m \u001b[38;5;28mprint\u001b[39m(\u001b[43mmy_tuple\u001b[49m)\n",
      "\u001b[1;31mNameError\u001b[0m: name 'my_tuple' is not defined"
     ]
    }
   ],
   "source": [
    "# However, we delete full tuple\n",
    "my_tuple = (1, 2, 3)\n",
    "print(my_tuple)\n",
    "del my_tuple\n",
    "print(\"*****after deletion******\")\n",
    "print(my_tuple)"
   ]
  }
 ],
 "metadata": {
  "kernelspec": {
   "display_name": "Python 3 (ipykernel)",
   "language": "python",
   "name": "python3"
  },
  "language_info": {
   "codemirror_mode": {
    "name": "ipython",
    "version": 3
   },
   "file_extension": ".py",
   "mimetype": "text/x-python",
   "name": "python",
   "nbconvert_exporter": "python",
   "pygments_lexer": "ipython3",
   "version": "3.11.2"
  }
 },
 "nbformat": 4,
 "nbformat_minor": 5
}
