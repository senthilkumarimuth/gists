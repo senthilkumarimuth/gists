{
 "cells": [
  {
   "cell_type": "markdown",
   "id": "dc23e9d8-c3ad-40ff-8479-871f27500638",
   "metadata": {},
   "source": [
    "## create an empty dictionary"
   ]
  },
  {
   "cell_type": "code",
   "execution_count": 2,
   "id": "2c22c70a-6730-4e79-a498-93daa3794b4e",
   "metadata": {},
   "outputs": [
    {
     "name": "stdout",
     "output_type": "stream",
     "text": [
      "{}\n"
     ]
    }
   ],
   "source": [
    "empty_dictionary =  {}\n",
    "print(empty_dictionary)"
   ]
  },
  {
   "cell_type": "markdown",
   "id": "53f56d18-31dc-40f9-ae88-f3fc0e6e14b2",
   "metadata": {},
   "source": [
    "## sample dictionary"
   ]
  },
  {
   "cell_type": "code",
   "execution_count": 7,
   "id": "e38b35ef-fd4f-45c8-9c2a-fc8b5011234c",
   "metadata": {},
   "outputs": [
    {
     "name": "stdout",
     "output_type": "stream",
     "text": [
      "{'key': 'value'}\n"
     ]
    }
   ],
   "source": [
    "sample_dictionary = {'key': 'value'}\n",
    "print(sample_dictionary)"
   ]
  },
  {
   "cell_type": "code",
   "execution_count": 10,
   "id": "10442c04-90e4-42d3-a54b-1a17cfda1d43",
   "metadata": {},
   "outputs": [
    {
     "name": "stdout",
     "output_type": "stream",
     "text": [
      "{'names': ['praveen', 'senthil'], 'qualification': 'msc'}\n"
     ]
    }
   ],
   "source": [
    "example_dictionary = {'names': ['praveen', 'senthil'], 'qualification': 'msc'}\n",
    "print(example_dictionary)"
   ]
  },
  {
   "cell_type": "markdown",
   "id": "17c05a45-ffb3-4e0e-9320-82e01f76e68e",
   "metadata": {},
   "source": [
    "## how to get keys and values of dictionary"
   ]
  },
  {
   "cell_type": "code",
   "execution_count": 12,
   "id": "19778502-d4d8-407f-ad50-2489aa122fd9",
   "metadata": {},
   "outputs": [
    {
     "name": "stdout",
     "output_type": "stream",
     "text": [
      "dict_keys(['names', 'qualification'])\n"
     ]
    }
   ],
   "source": [
    "print(example_dictionary.keys())"
   ]
  },
  {
   "cell_type": "code",
   "execution_count": 13,
   "id": "785ace7c-121c-4d90-b005-b2b34bcc305f",
   "metadata": {},
   "outputs": [
    {
     "name": "stdout",
     "output_type": "stream",
     "text": [
      "dict_values([['praveen', 'senthil'], 'msc'])\n"
     ]
    }
   ],
   "source": [
    "print(example_dictionary.values())"
   ]
  },
  {
   "cell_type": "markdown",
   "id": "23e3a320-a004-43b6-b1bd-ef77a1a1b8a7",
   "metadata": {},
   "source": [
    "## How to add key and value to dictionary"
   ]
  },
  {
   "cell_type": "markdown",
   "id": "baa50980-af46-4a3d-8708-30e4aebace2c",
   "metadata": {},
   "source": [
    "#### option 1"
   ]
  },
  {
   "cell_type": "code",
   "execution_count": 6,
   "id": "97c47ee4-dbcb-4f91-8d4d-298e9b129a98",
   "metadata": {},
   "outputs": [
    {
     "name": "stdout",
     "output_type": "stream",
     "text": [
      "{'key1': 'value1', 'key2': 'value2', 'key3': 'value3'}\n"
     ]
    }
   ],
   "source": [
    "my_dict = {'key1': 'value1', 'key2': 'value2'}\n",
    "my_dict['key3'] = 'value3'\n",
    "print(my_dict)"
   ]
  },
  {
   "cell_type": "markdown",
   "id": "31f21a5c-b07e-4460-bb05-91e41868091e",
   "metadata": {},
   "source": [
    "#### option 2"
   ]
  },
  {
   "cell_type": "code",
   "execution_count": 11,
   "id": "5a42f825-ab5b-4cac-9ae1-2f023b68a28f",
   "metadata": {},
   "outputs": [
    {
     "name": "stdout",
     "output_type": "stream",
     "text": [
      "{'key1': 'value1', 'key2': 'value2', 'key3': 'value3'}\n"
     ]
    }
   ],
   "source": [
    "my_dict = {'key1': 'value1', 'key2': 'value2'}\n",
    "my_dict.update({'key3': 'value3'})\n",
    "print(my_dict)"
   ]
  },
  {
   "cell_type": "markdown",
   "id": "7e94c8e3-9688-47e1-ba61-da9b6b26a385",
   "metadata": {},
   "source": [
    "## Can we add duplicate key in dictionary? No"
   ]
  },
  {
   "cell_type": "code",
   "execution_count": 22,
   "id": "8a79dd02-61eb-4ab8-a1bf-3be7f16d00ad",
   "metadata": {},
   "outputs": [
    {
     "name": "stdout",
     "output_type": "stream",
     "text": [
      "{'key1': 'value2', 'key2': 'value2'}\n"
     ]
    }
   ],
   "source": [
    "my_dict = {'key1': 'value1', 'key2': 'value2'}\n",
    "my_dict['key1'] = 'value2'\n",
    "print(my_dict)"
   ]
  },
  {
   "cell_type": "markdown",
   "id": "bf8c718c-95d1-4ed6-aec9-d494ef49e0e8",
   "metadata": {},
   "source": [
    "## How to delete a key and value from dictionary"
   ]
  },
  {
   "cell_type": "code",
   "execution_count": 8,
   "id": "b2638e77-7bce-4c1e-aa4b-f0cea4bff6b6",
   "metadata": {},
   "outputs": [
    {
     "name": "stdout",
     "output_type": "stream",
     "text": [
      "{'key1': 'value1', 'key3': 'value3'}\n"
     ]
    }
   ],
   "source": [
    "my_dict =  {'key1': 'value1', 'key2': 'value2', 'key3': 'value3'}\n",
    "del my_dict['key2']\n",
    "print(my_dict)"
   ]
  },
  {
   "cell_type": "markdown",
   "id": "0f779399-9f82-4ded-b857-3abed12d44ba",
   "metadata": {},
   "source": [
    "## Mutable or Immutable? Mutable"
   ]
  },
  {
   "cell_type": "code",
   "execution_count": 5,
   "id": "119df35c-3ac4-41e7-af4d-ce9845a548b6",
   "metadata": {},
   "outputs": [
    {
     "name": "stdout",
     "output_type": "stream",
     "text": [
      "{'key1': 'new_value', 'key2': 'value2'}\n"
     ]
    }
   ],
   "source": [
    "my_dict = {'key1': 'value1', 'key2': 'value2'}\n",
    "my_dict['key1'] = 'new_value' \n",
    "print(my_dict)"
   ]
  },
  {
   "cell_type": "markdown",
   "id": "7a909e27-3459-491d-9496-0ff2cf8510d2",
   "metadata": {},
   "source": [
    "## iterable or not? iterable"
   ]
  },
  {
   "cell_type": "code",
   "execution_count": 14,
   "id": "7729ed67-20b7-4046-b5e0-5b15ce9b1e8c",
   "metadata": {},
   "outputs": [
    {
     "name": "stdout",
     "output_type": "stream",
     "text": [
      "key1\n",
      "key2\n"
     ]
    }
   ],
   "source": [
    "my_dict = {'key1': 'value1', 'key2': 'value2'}\n",
    "for i  in my_dict:\n",
    "    print(i)"
   ]
  },
  {
   "cell_type": "markdown",
   "id": "099b5b82-fa50-4998-b4c8-c4c69cfc234b",
   "metadata": {},
   "source": [
    "## Ordered or unordered? python 3.7 before - unordered. after python 3.7 dictionary is ordered"
   ]
  },
  {
   "cell_type": "code",
   "execution_count": 19,
   "id": "60ef4376-66db-4031-890e-1af2423c6a48",
   "metadata": {},
   "outputs": [
    {
     "name": "stdout",
     "output_type": "stream",
     "text": [
      "3.11.2 (tags/v3.11.2:878ead1, Feb  7 2023, 16:38:35) [MSC v.1934 64 bit (AMD64)]\n"
     ]
    }
   ],
   "source": [
    "import sys\n",
    "print(sys.version)"
   ]
  },
  {
   "cell_type": "code",
   "execution_count": 20,
   "id": "07da3fcb-e8c8-44e9-b932-cdd033677911",
   "metadata": {},
   "outputs": [
    {
     "name": "stdout",
     "output_type": "stream",
     "text": [
      "{'key1': 'value1', 'key2': 'value2', 'key3': 'value3'}\n"
     ]
    }
   ],
   "source": [
    "my_dict = {'key1': 'value1', 'key2': 'value2'}\n",
    "my_dict['key3'] = 'value3' \n",
    "print(my_dict)"
   ]
  },
  {
   "cell_type": "code",
   "execution_count": null,
   "id": "98038b04-cb0f-4ece-bea3-379c6cdbe969",
   "metadata": {},
   "outputs": [],
   "source": []
  }
 ],
 "metadata": {
  "kernelspec": {
   "display_name": "Python 3 (ipykernel)",
   "language": "python",
   "name": "python3"
  },
  "language_info": {
   "codemirror_mode": {
    "name": "ipython",
    "version": 3
   },
   "file_extension": ".py",
   "mimetype": "text/x-python",
   "name": "python",
   "nbconvert_exporter": "python",
   "pygments_lexer": "ipython3",
   "version": "3.11.2"
  }
 },
 "nbformat": 4,
 "nbformat_minor": 5
}
