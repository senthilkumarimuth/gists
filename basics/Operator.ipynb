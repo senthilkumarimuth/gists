{
 "cells": [
  {
   "cell_type": "markdown",
   "id": "9ca0512b-0255-445a-8fb7-9846c8e89084",
   "metadata": {},
   "source": [
    "# Types of Operator"
   ]
  },
  {
   "cell_type": "markdown",
   "id": "e92cab30-d742-4e14-abb0-37faafb5629d",
   "metadata": {},
   "source": [
    "Python language supports the following types of operators.\n",
    "\n",
    "\t• Arithmetic Operators\n",
    "\t• Comparison (Relational) Operators\n",
    "\t• Assignment Operators\n",
    "\t• Logical Operators\n",
    "\t• Bitwise Operators\n",
    "\t• Membership Operators\n",
    "\t• Identity Operators\n"
   ]
  },
  {
   "cell_type": "markdown",
   "id": "66ce6bb1-7985-4292-8e48-81ac7d9e4afd",
   "metadata": {},
   "source": [
    "# Arithmetic Operators"
   ]
  },
  {
   "cell_type": "markdown",
   "id": "5010d5d7-2ff9-488f-ac9b-431c62879c44",
   "metadata": {},
   "source": [
    "#### Addition  --->   +"
   ]
  },
  {
   "cell_type": "code",
   "execution_count": 6,
   "id": "2232748c-75a0-4364-8aa6-91773c97dae3",
   "metadata": {},
   "outputs": [
    {
     "name": "stdout",
     "output_type": "stream",
     "text": [
      "30\n"
     ]
    }
   ],
   "source": [
    "a= 10\n",
    "b = 20\n",
    "c = a + b\n",
    "print(c)"
   ]
  },
  {
   "cell_type": "markdown",
   "id": "d5dc8606-1f02-45d6-8f6a-7d9c94323e87",
   "metadata": {},
   "source": [
    "substraction ---> -"
   ]
  },
  {
   "cell_type": "code",
   "execution_count": 8,
   "id": "701c5491-139b-4832-93fd-9492fe5ee769",
   "metadata": {},
   "outputs": [
    {
     "name": "stdout",
     "output_type": "stream",
     "text": [
      "10\n"
     ]
    }
   ],
   "source": [
    "a= 10\n",
    "b = 20\n",
    "c = b - a\n",
    "print(c)"
   ]
  },
  {
   "cell_type": "code",
   "execution_count": null,
   "id": "c8ff7a18-f08c-4521-b65c-e393eea55816",
   "metadata": {},
   "outputs": [],
   "source": [
    "Multiplication ---> *"
   ]
  },
  {
   "cell_type": "code",
   "execution_count": 9,
   "id": "029285d6-cc99-4db5-bf7f-a500b7b7cb04",
   "metadata": {},
   "outputs": [
    {
     "name": "stdout",
     "output_type": "stream",
     "text": [
      "200\n"
     ]
    }
   ],
   "source": [
    "a= 10\n",
    "b = 20\n",
    "c = b * a\n",
    "print(c)"
   ]
  },
  {
   "cell_type": "markdown",
   "id": "17cc849c-0922-41fd-979a-f8743f4ead4d",
   "metadata": {},
   "source": [
    "#### Division[normal] ---> /"
   ]
  },
  {
   "cell_type": "code",
   "execution_count": 22,
   "id": "c5a8d3d8-8f8d-4385-9080-0af613032901",
   "metadata": {},
   "outputs": [
    {
     "name": "stdout",
     "output_type": "stream",
     "text": [
      "2.3333333333333335\n"
     ]
    }
   ],
   "source": [
    "a= 3 # Gives the quotient value\n",
    "b = 7\n",
    "c = b / a\n",
    "print(c)"
   ]
  },
  {
   "cell_type": "markdown",
   "id": "98a905ea-9f6a-4c43-8f19-0f584fadee69",
   "metadata": {},
   "source": [
    "#### Modular Divsion ---> %"
   ]
  },
  {
   "cell_type": "code",
   "execution_count": 14,
   "id": "4849e882-cc61-4dcf-a257-fa7f85eae6d4",
   "metadata": {},
   "outputs": [
    {
     "name": "stdout",
     "output_type": "stream",
     "text": [
      "0\n"
     ]
    }
   ],
   "source": [
    "a= 10  # Gives the reminder value\n",
    "b = 20\n",
    "c = b % a\n",
    "print(c)"
   ]
  },
  {
   "cell_type": "markdown",
   "id": "610f667e-e0bc-4b81-a20a-46730641e31d",
   "metadata": {},
   "source": [
    "#### Floor Division ---> //"
   ]
  },
  {
   "cell_type": "code",
   "execution_count": 23,
   "id": "d722d23a-3a3f-40bc-af82-b895a9cf760b",
   "metadata": {},
   "outputs": [
    {
     "name": "stdout",
     "output_type": "stream",
     "text": [
      "3\n"
     ]
    }
   ],
   "source": [
    "# For + divison\n",
    "\n",
    "a= 2  # Gives the quotient value as integer\n",
    "b = 7\n",
    "c = b // a\n",
    "print(c)"
   ]
  },
  {
   "cell_type": "markdown",
   "id": "8118698f-c6cc-4e89-a13c-7b2700142ec2",
   "metadata": {},
   "source": [
    "#### For - divison"
   ]
  },
  {
   "cell_type": "code",
   "execution_count": 47,
   "id": "e6691a36-07bd-41ca-8d50-a049fab4a585",
   "metadata": {},
   "outputs": [
    {
     "name": "stdout",
     "output_type": "stream",
     "text": [
      "-3\n"
     ]
    }
   ],
   "source": [
    "a= 3  # Gives the quotient value as integer\n",
    "b = -7\n",
    "c = b // a\n",
    "print(c)"
   ]
  },
  {
   "cell_type": "markdown",
   "id": "fe390d2c-b2d6-4435-a042-42f54c7f9f95",
   "metadata": {},
   "source": [
    "#### exponent ---> **"
   ]
  },
  {
   "cell_type": "code",
   "execution_count": 26,
   "id": "484c4d89-af0f-4f89-8bbb-6e6d6f14e980",
   "metadata": {},
   "outputs": [
    {
     "name": "stdout",
     "output_type": "stream",
     "text": [
      "8\n"
     ]
    }
   ],
   "source": [
    "a= 2 \n",
    "b = 2\n",
    "c = a**3\n",
    "print(c)"
   ]
  },
  {
   "cell_type": "markdown",
   "id": "a7d506d1-c370-4bbe-93a8-cd93809dac72",
   "metadata": {},
   "source": [
    "# Assignment Operators"
   ]
  },
  {
   "cell_type": "markdown",
   "id": "b5d268a9-7b4b-4db4-8aaf-91b549c1ed67",
   "metadata": {},
   "source": [
    "### assignment"
   ]
  },
  {
   "cell_type": "code",
   "execution_count": 48,
   "id": "9ca4aa31-06fc-44ad-84b3-81230ebc3273",
   "metadata": {},
   "outputs": [
    {
     "name": "stdout",
     "output_type": "stream",
     "text": [
      "13\n"
     ]
    }
   ],
   "source": [
    "a = 10\n",
    "b = 13\n",
    "a = b\n",
    "print(a)"
   ]
  },
  {
   "cell_type": "markdown",
   "id": "6eb92355-f4fb-4bc6-9b14-583f86cd5b50",
   "metadata": {},
   "source": [
    "#### add and assign to left"
   ]
  },
  {
   "cell_type": "code",
   "execution_count": 52,
   "id": "80295e92-92ef-42e3-85a3-7a60afc4e1d1",
   "metadata": {},
   "outputs": [
    {
     "name": "stdout",
     "output_type": "stream",
     "text": [
      "30\n"
     ]
    }
   ],
   "source": [
    "a = 10\n",
    "b = 20\n",
    "a += b\n",
    "print(a)"
   ]
  },
  {
   "cell_type": "code",
   "execution_count": 54,
   "id": "28bb671b-cc32-4105-aa53-ba4cd4f46858",
   "metadata": {},
   "outputs": [
    {
     "name": "stdout",
     "output_type": "stream",
     "text": [
      "10\n"
     ]
    }
   ],
   "source": [
    "# if + on right side, it is considered as positive value\n",
    "a = 10\n",
    "a =+ a   # like + 10\n",
    "print(a)"
   ]
  },
  {
   "cell_type": "markdown",
   "id": "b02ec0bd-a653-44cc-9101-7590a6af568d",
   "metadata": {},
   "source": [
    "#### substract and assign to left"
   ]
  },
  {
   "cell_type": "code",
   "execution_count": 56,
   "id": "efc183d5-1cbe-4faa-ac98-b50e8695ea8f",
   "metadata": {},
   "outputs": [
    {
     "name": "stdout",
     "output_type": "stream",
     "text": [
      "-10\n"
     ]
    }
   ],
   "source": [
    "a = 10\n",
    "b = 20\n",
    "a -= b\n",
    "print(a)"
   ]
  },
  {
   "cell_type": "markdown",
   "id": "7359a467-5176-4ac9-acd6-dcdad73b50ab",
   "metadata": {},
   "source": [
    "#### multiply and assign to left"
   ]
  },
  {
   "cell_type": "code",
   "execution_count": 59,
   "id": "33400310-fe99-48b7-99b9-8fc54b318356",
   "metadata": {},
   "outputs": [
    {
     "name": "stdout",
     "output_type": "stream",
     "text": [
      "200\n"
     ]
    }
   ],
   "source": [
    "a = 10\n",
    "b = 20\n",
    "a *= b\n",
    "print(a)"
   ]
  },
  {
   "cell_type": "markdown",
   "id": "72e0b9d4-1bab-4dd9-817a-e015f9016595",
   "metadata": {},
   "source": [
    "#### Divide and assign to left"
   ]
  },
  {
   "cell_type": "code",
   "execution_count": 60,
   "id": "56f6ccbf-4e76-46d0-a91f-9abeaf2a8671",
   "metadata": {},
   "outputs": [
    {
     "name": "stdout",
     "output_type": "stream",
     "text": [
      "0.5\n"
     ]
    }
   ],
   "source": [
    "a = 10\n",
    "b = 20\n",
    "a /= b\n",
    "print(a)"
   ]
  },
  {
   "cell_type": "markdown",
   "id": "b5305edd-b2d8-41e5-9b61-347c00684e40",
   "metadata": {},
   "source": [
    "#### Modular Divide and assign left"
   ]
  },
  {
   "cell_type": "code",
   "execution_count": 65,
   "id": "9d92af56-6c78-4e7b-8b23-64b7849ee65d",
   "metadata": {},
   "outputs": [
    {
     "name": "stdout",
     "output_type": "stream",
     "text": [
      "1\n"
     ]
    }
   ],
   "source": [
    "a = 11\n",
    "b = 2\n",
    "a %= b\n",
    "print(a)"
   ]
  },
  {
   "cell_type": "markdown",
   "id": "a903688c-0154-4f12-9a25-cd6c1f9a8fa1",
   "metadata": {},
   "source": [
    "#### Floor Divide and assign to left"
   ]
  },
  {
   "cell_type": "code",
   "execution_count": 67,
   "id": "1566665b-18eb-42e1-9412-4447783b3471",
   "metadata": {},
   "outputs": [
    {
     "name": "stdout",
     "output_type": "stream",
     "text": [
      "5\n"
     ]
    }
   ],
   "source": [
    "a = 11\n",
    "b = 2\n",
    "a //= b\n",
    "print(a)"
   ]
  },
  {
   "cell_type": "markdown",
   "id": "2bfb876c-4b8e-48b3-b33b-c6759a8213bd",
   "metadata": {},
   "source": [
    "#### Exponent and assign to left"
   ]
  },
  {
   "cell_type": "code",
   "execution_count": 69,
   "id": "d7d9f577-9dc3-4e44-a889-72d742d38722",
   "metadata": {},
   "outputs": [
    {
     "name": "stdout",
     "output_type": "stream",
     "text": [
      "121\n"
     ]
    }
   ],
   "source": [
    "a = 11\n",
    "b = 2\n",
    "a **= b\n",
    "print(a)"
   ]
  },
  {
   "cell_type": "markdown",
   "id": "5e98cbde-a31c-4fe6-9fa4-62eb842be8a9",
   "metadata": {},
   "source": [
    "# Comparision Operators"
   ]
  },
  {
   "cell_type": "markdown",
   "id": "d68c7973-8352-47da-89c9-e43bebb0ec28",
   "metadata": {},
   "source": [
    "#### To compare equal values"
   ]
  },
  {
   "cell_type": "code",
   "execution_count": 33,
   "id": "a28a7497-a495-46f7-a361-d5e2261ad87e",
   "metadata": {},
   "outputs": [
    {
     "name": "stdout",
     "output_type": "stream",
     "text": [
      "False\n"
     ]
    }
   ],
   "source": [
    "a = 10\n",
    "b = 11\n",
    "print(a==b)"
   ]
  },
  {
   "cell_type": "markdown",
   "id": "e551d641-391c-4b4c-8742-57c8bdc652b1",
   "metadata": {},
   "source": [
    "#### To compare un unqual values"
   ]
  },
  {
   "cell_type": "code",
   "execution_count": 34,
   "id": "9374d60d-1c6b-410d-95f7-35fcfed05629",
   "metadata": {},
   "outputs": [
    {
     "name": "stdout",
     "output_type": "stream",
     "text": [
      "True\n"
     ]
    }
   ],
   "source": [
    "a = 10\n",
    "b = 11\n",
    "print(a!=b)"
   ]
  },
  {
   "cell_type": "markdown",
   "id": "46a0dac4-7f4c-45c9-b801-26e82dfafaca",
   "metadata": {},
   "source": [
    "#### To check if a is GREATER THAN b"
   ]
  },
  {
   "cell_type": "code",
   "execution_count": 41,
   "id": "da15cbb5-69f6-4a17-9393-ed091c6a435c",
   "metadata": {},
   "outputs": [
    {
     "name": "stdout",
     "output_type": "stream",
     "text": [
      "False\n"
     ]
    }
   ],
   "source": [
    "a = 10\n",
    "b = 11\n",
    "print(a>b)"
   ]
  },
  {
   "cell_type": "markdown",
   "id": "fdc434bb-3c9e-4e67-8dfc-df0902d41c74",
   "metadata": {},
   "source": [
    "#### To check if a is LESS THAN b"
   ]
  },
  {
   "cell_type": "code",
   "execution_count": 46,
   "id": "2e078a59-4213-4885-b3ae-16c2b69d807e",
   "metadata": {},
   "outputs": [
    {
     "name": "stdout",
     "output_type": "stream",
     "text": [
      "False\n"
     ]
    }
   ],
   "source": [
    "a = 10\n",
    "b = 10\n",
    "print(a<b)"
   ]
  },
  {
   "cell_type": "markdown",
   "id": "d96c5cbb-d938-496f-aa09-f8c8945064fa",
   "metadata": {},
   "source": [
    "#### To check if a is GREATER THAN or EQUAL b"
   ]
  },
  {
   "cell_type": "code",
   "execution_count": 45,
   "id": "7e7b63de-4459-4106-84ba-2abbe44ad631",
   "metadata": {},
   "outputs": [
    {
     "name": "stdout",
     "output_type": "stream",
     "text": [
      "True\n"
     ]
    }
   ],
   "source": [
    "a = 10\n",
    "b = 10\n",
    "print(a>=b)"
   ]
  },
  {
   "cell_type": "markdown",
   "id": "78f3e9c5-732e-4ca5-9bde-d4286b6a0ba7",
   "metadata": {},
   "source": [
    "#### To check if a is LESS THAN or EQUAL b"
   ]
  },
  {
   "cell_type": "code",
   "execution_count": null,
   "id": "437f586f-c534-4f67-8002-6ee5e585ffe0",
   "metadata": {},
   "outputs": [],
   "source": [
    "a = 10\n",
    "b = 11\n",
    "print(a<=b)"
   ]
  }
 ],
 "metadata": {
  "kernelspec": {
   "display_name": "Python 3 (ipykernel)",
   "language": "python",
   "name": "python3"
  },
  "language_info": {
   "codemirror_mode": {
    "name": "ipython",
    "version": 3
   },
   "file_extension": ".py",
   "mimetype": "text/x-python",
   "name": "python",
   "nbconvert_exporter": "python",
   "pygments_lexer": "ipython3",
   "version": "3.10.9"
  }
 },
 "nbformat": 4,
 "nbformat_minor": 5
}
