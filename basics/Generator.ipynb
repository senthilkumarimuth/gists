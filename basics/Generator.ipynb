{
 "cells": [
  {
   "cell_type": "markdown",
   "id": "daf4d6d6-1b95-49aa-a01c-5acf6dc55a6f",
   "metadata": {},
   "source": [
    "Definition:\n",
    "\n",
    "Generator returns an object that can be iterated one value at a time(i.e helps to create iterator). Yeild helps to remember intermediate results.\n",
    "\n",
    "Advantages of generator:\n",
    "\n",
    "* saves memory "
   ]
  },
  {
   "cell_type": "code",
   "execution_count": 3,
   "id": "da3c4bdd-2bd4-4bbe-b61b-7ca14c8c0304",
   "metadata": {},
   "outputs": [
    {
     "name": "stdout",
     "output_type": "stream",
     "text": [
      "<generator object addition at 0x000001F936267530>\n",
      "2\n",
      "3\n",
      "4\n"
     ]
    }
   ],
   "source": [
    "def addition(mylist):\n",
    "    for i in mylist:\n",
    "        yield i + 1    #  Yield avoids loading the results in memory. Whenver, the generatore function, then it loads the result and returns.\n",
    "\n",
    "mylist = [1,2,3]\n",
    "result = addition(mylist)\n",
    "print(result)\n",
    "for j in result:\n",
    "    print(j)"
   ]
  },
  {
   "cell_type": "code",
   "execution_count": null,
   "id": "c3502d32-8a6d-4e1f-8b18-39a908904ec9",
   "metadata": {},
   "outputs": [],
   "source": []
  }
 ],
 "metadata": {
  "kernelspec": {
   "display_name": "Python 3 (ipykernel)",
   "language": "python",
   "name": "python3"
  },
  "language_info": {
   "codemirror_mode": {
    "name": "ipython",
    "version": 3
   },
   "file_extension": ".py",
   "mimetype": "text/x-python",
   "name": "python",
   "nbconvert_exporter": "python",
   "pygments_lexer": "ipython3",
   "version": "3.10.9"
  }
 },
 "nbformat": 4,
 "nbformat_minor": 5
}
