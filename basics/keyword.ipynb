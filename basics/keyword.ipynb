{
 "cells": [
  {
   "cell_type": "markdown",
   "id": "bc09a024-7a18-4b3d-a090-844a277e1334",
   "metadata": {},
   "source": [
    "# and"
   ]
  },
  {
   "cell_type": "code",
   "execution_count": 2,
   "id": "b78c0471-02f5-418a-a3f4-84092b6f9ee9",
   "metadata": {},
   "outputs": [
    {
     "name": "stdout",
     "output_type": "stream",
     "text": [
      "You are eligible for a student discount.\n"
     ]
    }
   ],
   "source": [
    "age = 18\n",
    "is_student = True\n",
    "\n",
    "if age <= 22 and is_student:\n",
    "    print(\"You are eligible for a student discount.\")\n",
    "else:\n",
    "    print(\"You are not eligible for a student discount.\")"
   ]
  },
  {
   "cell_type": "markdown",
   "id": "e59288ad-3a79-434a-b85d-09779005aec6",
   "metadata": {},
   "source": [
    "# or"
   ]
  },
  {
   "cell_type": "code",
   "execution_count": 3,
   "id": "7b82b50e-37ed-4d2e-b2b0-363e4f001c2b",
   "metadata": {},
   "outputs": [
    {
     "name": "stdout",
     "output_type": "stream",
     "text": [
      "It's a good day to stay indoors.\n"
     ]
    }
   ],
   "source": [
    "temperature = 28\n",
    "is_raining = True\n",
    "\n",
    "if temperature > 30 or is_raining:\n",
    "    print(\"It's a good day to stay indoors.\")\n",
    "else:\n",
    "    print(\"Let's go outside and enjoy the day!\")"
   ]
  },
  {
   "cell_type": "markdown",
   "id": "c4e23344-66de-47c7-bdc4-bc56426171c4",
   "metadata": {},
   "source": [
    "# assert"
   ]
  },
  {
   "cell_type": "code",
   "execution_count": 15,
   "id": "337b31a7-eaa6-4e44-85ee-7b681a77c599",
   "metadata": {},
   "outputs": [
    {
     "name": "stdout",
     "output_type": "stream",
     "text": [
      "assertion is successful\n"
     ]
    }
   ],
   "source": [
    "a = 11\n",
    "assert a==11\n",
    "print('assertion is successful')"
   ]
  },
  {
   "cell_type": "code",
   "execution_count": 16,
   "id": "e7e62f28-8743-415d-adea-e3c41a7d490d",
   "metadata": {},
   "outputs": [
    {
     "ename": "AssertionError",
     "evalue": "a is not equal to 10",
     "output_type": "error",
     "traceback": [
      "\u001b[1;31m---------------------------------------------------------------------------\u001b[0m",
      "\u001b[1;31mAssertionError\u001b[0m                            Traceback (most recent call last)",
      "Cell \u001b[1;32mIn[16], line 2\u001b[0m\n\u001b[0;32m      1\u001b[0m a \u001b[38;5;241m=\u001b[39m \u001b[38;5;241m11\u001b[39m\n\u001b[1;32m----> 2\u001b[0m \u001b[38;5;28;01massert\u001b[39;00m a\u001b[38;5;241m==\u001b[39m\u001b[38;5;241m10\u001b[39m, \u001b[38;5;124m'\u001b[39m\u001b[38;5;124ma is not equal to 10\u001b[39m\u001b[38;5;124m'\u001b[39m\n",
      "\u001b[1;31mAssertionError\u001b[0m: a is not equal to 10"
     ]
    }
   ],
   "source": [
    "a = 11\n",
    "assert a==10, 'a is not equal to 10'"
   ]
  },
  {
   "cell_type": "markdown",
   "id": "cd77fd2a-a57f-4cf6-83a6-c4e8de5d2600",
   "metadata": {},
   "source": [
    "# not"
   ]
  },
  {
   "cell_type": "code",
   "execution_count": 20,
   "id": "a43b20cc-6b0d-496f-afd7-afb4530442cb",
   "metadata": {},
   "outputs": [
    {
     "name": "stdout",
     "output_type": "stream",
     "text": [
      "i am inside else condition\n"
     ]
    }
   ],
   "source": [
    "flag = True\n",
    "if not flag:\n",
    "    print('i am inside if condition')\n",
    "else:\n",
    "    print('i am inside else condition')"
   ]
  },
  {
   "cell_type": "code",
   "execution_count": null,
   "id": "c7be26ab-3679-4172-9da0-b95c4dbd9def",
   "metadata": {},
   "outputs": [],
   "source": []
  }
 ],
 "metadata": {
  "kernelspec": {
   "display_name": "Python 3 (ipykernel)",
   "language": "python",
   "name": "python3"
  },
  "language_info": {
   "codemirror_mode": {
    "name": "ipython",
    "version": 3
   },
   "file_extension": ".py",
   "mimetype": "text/x-python",
   "name": "python",
   "nbconvert_exporter": "python",
   "pygments_lexer": "ipython3",
   "version": "3.10.9"
  }
 },
 "nbformat": 4,
 "nbformat_minor": 5
}
