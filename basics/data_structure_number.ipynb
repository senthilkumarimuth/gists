{
 "cells": [
  {
   "cell_type": "markdown",
   "id": "9279c100-48f9-44dd-b9a8-90fc4701edd5",
   "metadata": {},
   "source": [
    "# Create a number"
   ]
  },
  {
   "cell_type": "code",
   "execution_count": 11,
   "id": "79c799d2-8144-4550-ba18-8562cc9f1e28",
   "metadata": {},
   "outputs": [
    {
     "name": "stdout",
     "output_type": "stream",
     "text": [
      "1\n",
      "140728800310056\n"
     ]
    }
   ],
   "source": [
    "var_1=1\n",
    "print(var_1)\n",
    "print(id(var_1))"
   ]
  },
  {
   "cell_type": "code",
   "execution_count": 9,
   "id": "0d8c92aa-1518-4982-870f-2968fb0bada4",
   "metadata": {},
   "outputs": [
    {
     "name": "stdout",
     "output_type": "stream",
     "text": [
      "140728800310216\n"
     ]
    }
   ],
   "source": [
    "var_2=6\n",
    "print(id(var_2))\n"
   ]
  },
  {
   "cell_type": "markdown",
   "id": "1e02cc73-b111-4005-8512-53d2ac29ea13",
   "metadata": {},
   "source": [
    "# How to find  type of a number"
   ]
  },
  {
   "cell_type": "code",
   "execution_count": 15,
   "id": "e17f1810-2d6b-46ce-b631-48fb9d57f411",
   "metadata": {},
   "outputs": [
    {
     "name": "stdout",
     "output_type": "stream",
     "text": [
      "<class 'int'>\n",
      "<class 'float'>\n"
     ]
    }
   ],
   "source": [
    "print(type(1))\n",
    "print(type(1.2))"
   ]
  },
  {
   "cell_type": "markdown",
   "id": "afe83fe6-c8ad-400f-87a9-90e14f401ba6",
   "metadata": {},
   "source": [
    "# Immutable or mutable? Immutable"
   ]
  },
  {
   "cell_type": "code",
   "execution_count": 31,
   "id": "b26c6ad7-058c-4a47-811e-55337d0c4a3e",
   "metadata": {},
   "outputs": [
    {
     "name": "stdout",
     "output_type": "stream",
     "text": [
      "error from mutable or not? 'int' object does not support item assignment\n"
     ]
    }
   ],
   "source": [
    "\n",
    "var_4 = 10\n",
    "try:\n",
    "  var_4[1]= 1\n",
    "except Exception as error:\n",
    "    print('error from mutable or not? ' + str(error))"
   ]
  },
  {
   "cell_type": "markdown",
   "id": "b5f54564-5915-46f4-aa1b-f69266eeba1a",
   "metadata": {},
   "source": [
    "# Iterable ot not? Not Iterable"
   ]
  },
  {
   "cell_type": "code",
   "execution_count": 33,
   "id": "3c2653f8-8049-406c-95b9-ad6eb187039e",
   "metadata": {},
   "outputs": [
    {
     "ename": "TypeError",
     "evalue": "'int' object is not iterable",
     "output_type": "error",
     "traceback": [
      "\u001b[1;31m---------------------------------------------------------------------------\u001b[0m",
      "\u001b[1;31mTypeError\u001b[0m                                 Traceback (most recent call last)",
      "Cell \u001b[1;32mIn[33], line 2\u001b[0m\n\u001b[0;32m      1\u001b[0m var_4\u001b[38;5;241m=\u001b[39m\u001b[38;5;241m10\u001b[39m\n\u001b[1;32m----> 2\u001b[0m \u001b[38;5;28;01mfor\u001b[39;00m i \u001b[38;5;129;01min\u001b[39;00m var_4:\n\u001b[0;32m      3\u001b[0m     \u001b[38;5;28mprint\u001b[39m(i)\n",
      "\u001b[1;31mTypeError\u001b[0m: 'int' object is not iterable"
     ]
    }
   ],
   "source": [
    "var_4=10\n",
    "for i in var_4:\n",
    "    print(i)"
   ]
  },
  {
   "cell_type": "markdown",
   "id": "83ab8036-f2b4-4a54-9e2f-48bed57a09f5",
   "metadata": {},
   "source": [
    "# Ordered or Un ordered? Unordered"
   ]
  },
  {
   "cell_type": "code",
   "execution_count": null,
   "id": "e0fdb5f2-d33c-4f20-a89a-b35f8a33e0fb",
   "metadata": {},
   "outputs": [],
   "source": [
    "a = 1"
   ]
  }
 ],
 "metadata": {
  "kernelspec": {
   "display_name": "Python 3 (ipykernel)",
   "language": "python",
   "name": "python3"
  },
  "language_info": {
   "codemirror_mode": {
    "name": "ipython",
    "version": 3
   },
   "file_extension": ".py",
   "mimetype": "text/x-python",
   "name": "python",
   "nbconvert_exporter": "python",
   "pygments_lexer": "ipython3",
   "version": "3.10.9"
  }
 },
 "nbformat": 4,
 "nbformat_minor": 5
}
