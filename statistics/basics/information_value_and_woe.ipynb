{
 "cells": [
  {
   "cell_type": "markdown",
   "id": "d96e5877",
   "metadata": {},
   "source": [
    "# Information value"
   ]
  },
  {
   "cell_type": "markdown",
   "id": "0246d55c",
   "metadata": {},
   "source": [
    "Information value (IV) is a metric used to measure the predictive power of an independent variable in relation to a binary target variable. It is commonly used in credit scoring and feature selection.\n"
   ]
  },
  {
   "cell_type": "markdown",
   "id": "5dd91ea6",
   "metadata": {},
   "source": [
    "# Weight of Evidence"
   ]
  },
  {
   "cell_type": "markdown",
   "id": "02842877",
   "metadata": {},
   "source": [
    "Weight of Evidence (WoE) is a measure used in statistics, particularly in credit scoring, to quantify the predictive power of an independent variable in relation to a binary outcome. WoE transforms categorical or binned continuous variables into continuous values that reflect the relationship between each group and the target variable.\n",
    "\n",
    "The formula for WoE for a given group is:\n",
    "\n",
    "$$\n",
    "WoE = \\ln \\left( \\frac{\\text{Proportion of Good}}{\\text{Proportion of Bad}} \\right)\n",
    "$$\n",
    "\n",
    "Where:\n",
    "- \"Good\" typically refers to the non-event (e.g., not defaulted)\n",
    "- \"Bad\" refers to the event of interest (e.g., defaulted)\n",
    "\n",
    "WoE is useful for:\n",
    "- Handling categorical variables\n",
    "- Detecting monotonic relationships\n",
    "- Preparing variables for logistic regression\n",
    "\n",
    "A positive WoE indicates a higher proportion of goods than bads in the group, while a negative WoE indicates the opposite.\n"
   ]
  },
  {
   "cell_type": "markdown",
   "id": "42456b8d",
   "metadata": {},
   "source": []
  }
 ],
 "metadata": {
  "language_info": {
   "name": "python"
  }
 },
 "nbformat": 4,
 "nbformat_minor": 5
}
