{
 "cells": [
  {
   "cell_type": "markdown",
   "id": "9737a412",
   "metadata": {},
   "source": [
    "# Simpson's Paradox"
   ]
  },
  {
   "cell_type": "markdown",
   "id": "66dd695d",
   "metadata": {},
   "source": [
    "Simpson's Paradox is a phenomenon in statistics where a trend that appears in several different groups of data reverses or disappears when the groups are combined. In other words, a pattern that holds within multiple subgroups can be misleading or even opposite when looking at the overall, aggregated data.\n"
   ]
  },
  {
   "cell_type": "code",
   "execution_count": 1,
   "id": "8eb77d61",
   "metadata": {},
   "outputs": [
    {
     "name": "stdout",
     "output_type": "stream",
     "text": [
      "Success rates by gender and treatment:\n",
      "   Gender Treatment  Success Rate\n",
      "0    Male         A           0.4\n",
      "1    Male         B           0.9\n",
      "2  Female         A           0.1\n",
      "3  Female         B           0.3\n",
      "\n",
      "Aggregated success rates by treatment (ignoring gender):\n",
      "           Success Rate\n",
      "Treatment              \n",
      "A                  0.25\n",
      "B                  0.60\n"
     ]
    }
   ],
   "source": [
    "# Simpson's Paradox is a phenomenon in statistics where a trend that appears in several different groups of data disappears or reverses when these groups are combined. This paradox shows how aggregating data can sometimes lead to misleading conclusions.\n",
    "\n",
    "# Let's illustrate Simpson's Paradox with a simple example using pandas:\n",
    "\n",
    "import pandas as pd\n",
    "\n",
    "# Example data: Two treatments (A and B) for a condition, split by gender\n",
    "data = pd.DataFrame({\n",
    "    'Gender': ['Male', 'Male', 'Female', 'Female'],\n",
    "    'Treatment': ['A', 'B', 'A', 'B'],\n",
    "    'Successes': [80, 90, 20, 30],\n",
    "    'Trials': [200, 100, 200, 100]\n",
    "})\n",
    "\n",
    "# Calculate success rates within each gender\n",
    "data['Success Rate'] = data['Successes'] / data['Trials']\n",
    "print(\"Success rates by gender and treatment:\")\n",
    "print(data[['Gender', 'Treatment', 'Success Rate']])\n",
    "\n",
    "# Aggregate data by treatment (ignoring gender)\n",
    "agg = data.groupby('Treatment').sum(numeric_only=True)\n",
    "agg['Success Rate'] = agg['Successes'] / agg['Trials']\n",
    "print(\"\\nAggregated success rates by treatment (ignoring gender):\")\n",
    "print(agg[['Success Rate']])\n",
    "\n",
    "# Notice that within each gender, Treatment B has a higher success rate,\n",
    "# but when data is aggregated, Treatment A appears better.\n",
    "# This is Simpson's Paradox in action!\n"
   ]
  }
 ],
 "metadata": {
  "kernelspec": {
   "display_name": ".venv",
   "language": "python",
   "name": "python3"
  },
  "language_info": {
   "codemirror_mode": {
    "name": "ipython",
    "version": 3
   },
   "file_extension": ".py",
   "mimetype": "text/x-python",
   "name": "python",
   "nbconvert_exporter": "python",
   "pygments_lexer": "ipython3",
   "version": "3.10.9"
  }
 },
 "nbformat": 4,
 "nbformat_minor": 5
}
