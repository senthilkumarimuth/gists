{
 "cells": [
  {
   "cell_type": "markdown",
   "metadata": {},
   "source": [
    "# what is LPP?\n",
    "\n",
    "The **LPP Simplex Method** is an algorithm used to solve **Linear Programming Problems (LPP)**. Linear programming is a mathematical method for determining the best possible outcome (such as maximum profit or minimum cost) in a model with linear relationships, subject to constraints.\n",
    "\n",
    "### Key Concepts:\n",
    "1. **Objective Function**: This is the function that needs to be maximized or minimized (e.g., profit, cost).\n",
    "   \\[\n",
    "   \\text{Maximize or Minimize } Z = c_1x_1 + c_2x_2 + ... + c_nx_n\n",
    "   \\]\n",
    "   where \\(x_1, x_2, ..., x_n\\) are decision variables, and \\(c_1, c_2, ..., c_n\\) are the coefficients.\n",
    "\n",
    "2. **Constraints**: These are the linear inequalities or equations that define the feasible region.\n",
    "   \\[\n",
    "   a_{11}x_1 + a_{12}x_2 + ... + a_{1n}x_n \\leq b_1\n",
    "   \\]\n",
    "   where \\(a_{ij}\\) are the constraint coefficients, and \\(b_1, b_2, ..., b_m\\) are the constraint values.\n",
    "\n",
    "3. **Feasible Region**: The region defined by the constraints where the solution is valid.\n",
    "\n",
    "### Simplex Method Steps:\n",
    "The simplex method is an iterative procedure to solve linear programming problems. It works by moving along the edges of the feasible region to find the optimal solution.\n",
    "\n",
    "1. **Formulation**:\n",
    "   - Convert the LPP into **standard form** by introducing slack variables to turn inequalities into equalities.\n",
    "   - Set up the initial **simplex tableau** (a tabular representation of the system of equations).\n",
    "\n",
    "2. **Initialization**:\n",
    "   - Identify an initial **basic feasible solution** by setting non-basic variables (decision variables not in the basis) to zero and solving for basic variables.\n",
    "\n",
    "3. **Optimality Test**:\n",
    "   - Determine if the current solution is optimal by checking the objective function's coefficients in the tableau (known as **reduced costs**). If all coefficients are non-negative in a maximization problem, the current solution is optimal.\n",
    "\n",
    "4. **Pivoting**:\n",
    "   - If the current solution is not optimal, select a **pivot column** (variable to enter the basis) and a **pivot row** (variable to leave the basis).\n",
    "   - Perform **Gaussian elimination** to update the tableau and move to the next basic feasible solution.\n",
    "\n",
    "5. **Iteration**:\n",
    "   - Repeat the optimality test and pivoting steps until an optimal solution is found.\n",
    "\n",
    "6. **Termination**:\n",
    "   - The algorithm stops when the objective function can't be improved further, meaning an optimal solution has been reached.\n",
    "\n",
    "### Advantages:\n",
    "- **Efficient for Large Problems**: Simplex is widely used due to its efficiency in solving large-scale LPPs.\n",
    "- **Exact Solution**: Unlike heuristic methods, simplex guarantees finding an exact optimal solution (if it exists).\n",
    "\n",
    "### Example:\n",
    "If you are solving a maximization problem:\n",
    "```\n",
    "Maximize Z = 3x1 + 2x2\n",
    "Subject to:\n",
    "    x1 + x2 ≤ 4\n",
    "    2x1 + x2 ≤ 5\n",
    "    x1, x2 ≥ 0\n",
    "```\n",
    "\n",
    "The simplex method would convert this into standard form, iterate through potential solutions in the feasible region, and eventually find the optimal values of \\(x1\\) and \\(x2\\) that maximize \\(Z\\).\n"
   ]
  },
  {
   "cell_type": "code",
   "execution_count": 1,
   "metadata": {},
   "outputs": [
    {
     "name": "stdout",
     "output_type": "stream",
     "text": [
      "Status: Optimal\n",
      "Optimal value of x1: 1.0\n",
      "Optimal value of x2: 3.0\n",
      "Maximum Z: 9.0\n"
     ]
    }
   ],
   "source": [
    "from pulp import LpProblem, LpMaximize, LpVariable, lpSum, LpStatus, value\n",
    "\n",
    "# Define the problem\n",
    "problem = LpProblem(\"Maximize_Z\", LpMaximize)\n",
    "\n",
    "# Define decision variables\n",
    "x1 = LpVariable(\"x1\", lowBound=0)  # x1 >= 0\n",
    "x2 = LpVariable(\"x2\", lowBound=0)  # x2 >= 0\n",
    "\n",
    "# Define the objective function\n",
    "problem += 3 * x1 + 2 * x2, \"Objective\"\n",
    "\n",
    "# Define the constraints\n",
    "problem += x1 + x2 <= 4, \"Constraint_1\"\n",
    "problem += 2 * x1 + x2 <= 5, \"Constraint_2\"\n",
    "\n",
    "# Solve the problem\n",
    "problem.solve()\n",
    "\n",
    "# Print the results\n",
    "print(\"Status:\", LpStatus[problem.status])\n",
    "print(\"Optimal value of x1:\", value(x1))\n",
    "print(\"Optimal value of x2:\", value(x2))\n",
    "print(\"Maximum Z:\", value(problem.objective))\n"
   ]
  }
 ],
 "metadata": {
  "kernelspec": {
   "display_name": ".venv",
   "language": "python",
   "name": "python3"
  },
  "language_info": {
   "codemirror_mode": {
    "name": "ipython",
    "version": 3
   },
   "file_extension": ".py",
   "mimetype": "text/x-python",
   "name": "python",
   "nbconvert_exporter": "python",
   "pygments_lexer": "ipython3",
   "version": "3.10.9"
  }
 },
 "nbformat": 4,
 "nbformat_minor": 2
}
