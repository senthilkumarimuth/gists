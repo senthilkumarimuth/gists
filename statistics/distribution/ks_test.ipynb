{
 "cells": [
  {
   "cell_type": "markdown",
   "metadata": {},
   "source": [
    "# KS Test - Kolmogorov-Smirnov"
   ]
  },
  {
   "cell_type": "markdown",
   "metadata": {},
   "source": [
    "The Kolmogorov-Smirnov test (KS test) is a nonparametric statistical test used to compare two distributions. It assesses whether two samples come from the same underlying distribution or if a sample follows a specific theoretical distribution (e.g., normal distribution). The test is based on the maximum difference between the cumulative distribution functions (CDFs) of the two datasets."
   ]
  },
  {
   "cell_type": "markdown",
   "metadata": {},
   "source": [
    "Test Statistic: The KS statistic (D) is the maximum absolute difference between the CDFs of the two distributions:"
   ]
  },
  {
   "cell_type": "markdown",
   "metadata": {},
   "source": [
    "$D = \\sup_x |F_1(x) - F_2(x)|$"
   ]
  },
  {
   "cell_type": "markdown",
   "metadata": {},
   "source": [
    "where $ F_1(x) $ and $ F_2(x) $ are the CDFs of the two distributions, and $\\sup$ denotes the supremum (maximum)."
   ]
  },
  {
   "cell_type": "markdown",
   "metadata": {},
   "source": [
    "### Key Points:\n",
    "#### Purpose:\n",
    "- One-sample KS test: Compares a sample's empirical distribution to a reference distribution (e.g., normal, uniform).\n",
    "- Two-sample KS test: Compares the empirical distributions of two samples."
   ]
  },
  {
   "cell_type": "markdown",
   "metadata": {},
   "source": [
    "### Use Cases:\n",
    "- Checking if a dataset follows a specific distribution (e.g., normality test).\n",
    "- Comparing two datasets to see if they come from the same population.\n"
   ]
  },
  {
   "cell_type": "markdown",
   "metadata": {},
   "source": [
    "### Limitations:\n",
    "- Less sensitive to differences in the tails of distributions.\n",
    "- Works best with continuous distributions; less reliable for discrete distributions.\n",
    "- For small sample sizes, the test may lack power."
   ]
  },
  {
   "cell_type": "code",
   "execution_count": 1,
   "metadata": {},
   "outputs": [
    {
     "name": "stdout",
     "output_type": "stream",
     "text": [
      "KS Statistic: 0.26, p-value: 0.002219935934558366\n",
      "One-sample KS Statistic: 0.07869970930984135, p-value: 0.5391910000517836\n"
     ]
    }
   ],
   "source": [
    "from scipy.stats import ks_2samp, kstest\n",
    "import numpy as np\n",
    "\n",
    "# Two-sample KS test\n",
    "data1 = np.random.normal(0, 1, 100)\n",
    "data2 = np.random.normal(0.5, 1, 100)\n",
    "statistic, p_value = ks_2samp(data1, data2)\n",
    "print(f\"KS Statistic: {statistic}, p-value: {p_value}\")\n",
    "\n",
    "# One-sample KS test (against a normal distribution)\n",
    "statistic, p_value = kstest(data1, 'norm', args=(0, 1))\n",
    "print(f\"One-sample KS Statistic: {statistic}, p-value: {p_value}\")"
   ]
  }
 ],
 "metadata": {
  "kernelspec": {
   "display_name": ".venv",
   "language": "python",
   "name": "python3"
  },
  "language_info": {
   "codemirror_mode": {
    "name": "ipython",
    "version": 3
   },
   "file_extension": ".py",
   "mimetype": "text/x-python",
   "name": "python",
   "nbconvert_exporter": "python",
   "pygments_lexer": "ipython3",
   "version": "3.10.9"
  }
 },
 "nbformat": 4,
 "nbformat_minor": 2
}
