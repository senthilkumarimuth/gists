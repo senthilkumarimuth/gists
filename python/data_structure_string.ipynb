{
 "cells": [
  {
   "cell_type": "markdown",
   "id": "c153e23d-29ae-4d04-9483-69cdb5ff0a89",
   "metadata": {},
   "source": [
    "#  how to identify a string"
   ]
  },
  {
   "cell_type": "code",
   "execution_count": 10,
   "id": "04b8954c-df2a-460e-b799-4368033f7cb6",
   "metadata": {},
   "outputs": [
    {
     "name": "stdout",
     "output_type": "stream",
     "text": [
      "<class 'str'>\n"
     ]
    }
   ],
   "source": [
    "var_1='string'\n",
    "print(type(var_1))"
   ]
  },
  {
   "cell_type": "markdown",
   "id": "1e29b864-274c-474c-907a-7718c9180c65",
   "metadata": {},
   "source": [
    " # string is muttable or immutable? immutable"
   ]
  },
  {
   "cell_type": "code",
   "execution_count": 14,
   "id": "3b048446-963c-401c-9455-66bf9b99eee5",
   "metadata": {},
   "outputs": [
    {
     "name": "stdout",
     "output_type": "stream",
     "text": [
      "error from mutable or not? name 'var_1' is not defined\n"
     ]
    }
   ],
   "source": [
    "try:\n",
    "  var_1[1]= 'T'\n",
    "except Exception as error:\n",
    "    print('error from mutable or not? ' + str(error))\n"
   ]
  },
  {
   "cell_type": "markdown",
   "id": "c5e765f1-8f9e-4cb8-90e5-1f9ef1c79ba8",
   "metadata": {},
   "source": [
    "# iterable or not? iterable"
   ]
  },
  {
   "cell_type": "code",
   "execution_count": 18,
   "id": "5ddf95ec-0189-4e36-a586-d45dd2806d5c",
   "metadata": {},
   "outputs": [
    {
     "name": "stdout",
     "output_type": "stream",
     "text": [
      "praveen\n",
      "kali\n",
      "mari\n"
     ]
    }
   ],
   "source": [
    "var_1='praveen','kali','mari'\n",
    "for i in var_1:\n",
    "    print(i)"
   ]
  },
  {
   "cell_type": "markdown",
   "id": "804393ff-2d2a-4fc4-8eea-6c0441505026",
   "metadata": {},
   "source": [
    "# ordered or unordered  ? ordered"
   ]
  },
  {
   "cell_type": "code",
   "execution_count": 2,
   "id": "5abf10e2-3a9e-434c-843b-f468eda939d1",
   "metadata": {},
   "outputs": [
    {
     "name": "stdout",
     "output_type": "stream",
     "text": [
      "p\n",
      "r\n",
      "a\n",
      "v\n",
      "e\n",
      "e\n",
      "n\n"
     ]
    }
   ],
   "source": [
    "var_1='praveen'\n",
    "for i in var_1:\n",
    "    print(i)"
   ]
  },
  {
   "cell_type": "markdown",
   "id": "ce8b365a-320c-44b8-a371-16f73b1bb070",
   "metadata": {},
   "source": [
    "# concatanate tow strings"
   ]
  },
  {
   "cell_type": "code",
   "execution_count": 27,
   "id": "24958967-09fd-4c27-bb91-0324a4779715",
   "metadata": {},
   "outputs": [
    {
     "name": "stdout",
     "output_type": "stream",
     "text": [
      "praveenkumar\n"
     ]
    }
   ],
   "source": [
    "\n",
    "reulut='praveen' +'kumar'\n",
    "print(result)"
   ]
  },
  {
   "cell_type": "markdown",
   "id": "52fd5dff-8604-4501-a438-9c4d0fc19f7a",
   "metadata": {},
   "source": [
    "# multiply with *"
   ]
  },
  {
   "cell_type": "code",
   "execution_count": 19,
   "id": "b279e7a9-9c01-47ce-b059-0c0f3f0040fb",
   "metadata": {},
   "outputs": [
    {
     "name": "stdout",
     "output_type": "stream",
     "text": [
      "hhjhhjhhjhhjhhjhhjhhjhhjhhjhhjhhjhhjhhjhhjhhjhhjhhjhhjhhjhhjhhjhhjhhjhhjhhjhhjhhjhhjhhjhhjhhjhhjhhjhhjhhjhhjhhjhhjhhjhhjhhjhhjhhjhhjhhjhhjhhjhhjhhjhhjhhjhhjhhjhhjhhjhhjhhjhhjhhjhhjhhjhhjhhjhhjhhjhhjhhjhhjhhjhhjhhjhhjhhjhhjhhjhhjhhjhhjhhjhhjhhjhhjhhjhhjhhjhhjhhjhhjhhjhhjhhjhhjhhjhhjhhjhhjhhjhhjhhjhhj\n"
     ]
    }
   ],
   "source": [
    "result='hhj'*100\n",
    "print(result)"
   ]
  },
  {
   "cell_type": "markdown",
   "id": "2be5e763-eae6-4eef-b9ca-0f68b6550511",
   "metadata": {},
   "source": [
    "# Upper, lower, capital ,swapcase() method"
   ]
  },
  {
   "cell_type": "code",
   "execution_count": 49,
   "id": "a8600a9f-3325-477e-b494-70f9f5a89b6d",
   "metadata": {},
   "outputs": [
    {
     "name": "stdout",
     "output_type": "stream",
     "text": [
      "PRAVPEEN\n",
      "kumoar\n",
      "Saran\n",
      "RaMU KUmAR\n"
     ]
    }
   ],
   "source": [
    "print('pravPeen'.upper())\n",
    "print('KUMoAR'.lower())\n",
    "print('saran'.capitalize())\n",
    "print('rAmu kuMar'.swapcase())"
   ]
  },
  {
   "cell_type": "markdown",
   "id": "bbca52f2-7a3d-408a-962b-374881f8cd2b",
   "metadata": {},
   "source": [
    "# strip white space"
   ]
  },
  {
   "cell_type": "code",
   "execution_count": 3,
   "id": "3883a8f9-bf07-4845-b4f2-331bc29587c2",
   "metadata": {},
   "outputs": [
    {
     "name": "stdout",
     "output_type": "stream",
     "text": [
      "   praveen kalimuthu\n"
     ]
    }
   ],
   "source": [
    "print('   praveen kalimuthu')"
   ]
  },
  {
   "cell_type": "code",
   "execution_count": 1,
   "id": "2a626026-c099-4487-b76f-cb78b8a7d773",
   "metadata": {},
   "outputs": [
    {
     "name": "stdout",
     "output_type": "stream",
     "text": [
      "kumar\n"
     ]
    }
   ],
   "source": [
    "print('  kumar'.strip() )"
   ]
  },
  {
   "cell_type": "code",
   "execution_count": 26,
   "id": "4eabe817-1749-4b87-b771-8a5a4ac52b38",
   "metadata": {},
   "outputs": [
    {
     "name": "stdout",
     "output_type": "stream",
     "text": [
      "['s', 'r', 'n']\n"
     ]
    }
   ],
   "source": [
    "print('saran'.split('a'))"
   ]
  },
  {
   "cell_type": "code",
   "execution_count": 15,
   "id": "3eb59b7a-e93f-4b2c-a067-b51576772897",
   "metadata": {},
   "outputs": [
    {
     "name": "stdout",
     "output_type": "stream",
     "text": [
      "['ra', 'achandhiran']\n",
      "None\n"
     ]
    }
   ],
   "source": [
    "a=('ramachandhiran')\n",
    "c=(print(a.split('m')))\n",
    "print(c)"
   ]
  },
  {
   "cell_type": "code",
   "execution_count": 18,
   "id": "927da07b-8fc9-4e02-98d0-1dd23e678dee",
   "metadata": {},
   "outputs": [
    {
     "name": "stdout",
     "output_type": "stream",
     "text": [
      "['ramachan', 'hiran']\n",
      "ramachandhiran\n"
     ]
    }
   ],
   "source": [
    "print(a.split(\"d\"))\n",
    "print(a)"
   ]
  },
  {
   "cell_type": "markdown",
   "id": "39fc7ee9",
   "metadata": {},
   "source": [
    "# endswith\n",
    "\n",
    "Usage:\n",
    "The endswith() method returns True if the string ends with the specified value, otherwise False.\n",
    "Syntax\n",
    "string.endswith(value, start, end)"
   ]
  },
  {
   "cell_type": "code",
   "execution_count": 81,
   "id": "c624510d",
   "metadata": {},
   "outputs": [
    {
     "name": "stdout",
     "output_type": "stream",
     "text": [
      "True\n"
     ]
    }
   ],
   "source": [
    "my_detaile=\"my name is praven from thanjavur\"\n",
    "a=my_detaile.endswith(\"name\",3,7)               \n",
    "print(a)\n",
    "\n",
    "\n",
    "\n",
    "\n"
   ]
  },
  {
   "cell_type": "code",
   "execution_count": 82,
   "id": "457a0e2d",
   "metadata": {},
   "outputs": [
    {
     "name": "stdout",
     "output_type": "stream",
     "text": [
      "False\n"
     ]
    }
   ],
   "source": [
    "\n",
    "my_detaile=\" my name is praven from thanjavur\"\n",
    "b=my_detaile.endswith(\"from\")\n",
    "print(b)"
   ]
  },
  {
   "cell_type": "markdown",
   "id": "e27b00f0",
   "metadata": {},
   "source": [
    "# isalnum\n",
    "\n",
    "Usage:\n",
    "The isalnum() method returns True if all the characters are alphanumeric, meaning alphabet letter (a-z) and numbers (0-9).\n",
    "Example of characters that are not alphanumeric: (space)!#%&? etc."
   ]
  },
  {
   "cell_type": "code",
   "execution_count": 78,
   "id": "d920aa05",
   "metadata": {},
   "outputs": [
    {
     "name": "stdout",
     "output_type": "stream",
     "text": [
      "True\n"
     ]
    }
   ],
   "source": [
    "alnum_string=\"as12\"\n",
    "a=alnum_string.isalnum()\n",
    "print(a)\n",
    "\n",
    "\n"
   ]
  },
  {
   "cell_type": "code",
   "execution_count": 79,
   "id": "d8de0a6f",
   "metadata": {},
   "outputs": [
    {
     "name": "stdout",
     "output_type": "stream",
     "text": [
      "False\n"
     ]
    }
   ],
   "source": [
    "\n",
    "alnum_string=\"as12$#%\"\n",
    "b=alnum_string.isalnum()\n",
    "print(b)"
   ]
  },
  {
   "cell_type": "markdown",
   "id": "520655f6",
   "metadata": {},
   "source": [
    "# isalpha\n",
    "\n",
    "Usage\n",
    "The isalpha() method returns True if all the characters are alphabet letters (a-z).\n",
    "\n",
    "Example of characters that are not alphabet letters: (space)!#%&? etc.\n",
    "\n"
   ]
  },
  {
   "cell_type": "code",
   "execution_count": 72,
   "id": "55c8bb71",
   "metadata": {},
   "outputs": [
    {
     "name": "stdout",
     "output_type": "stream",
     "text": [
      "True\n"
     ]
    }
   ],
   "source": [
    "alpha_string=\"praveenk\"\n",
    "a=alpha_string.isalpha()\n",
    "print(a)\n",
    "\n",
    "\n",
    "\n"
   ]
  },
  {
   "cell_type": "code",
   "execution_count": 77,
   "id": "c9900040",
   "metadata": {},
   "outputs": [
    {
     "name": "stdout",
     "output_type": "stream",
     "text": [
      "False\n"
     ]
    }
   ],
   "source": [
    "alpha_string=\"prav eenk\"\n",
    "b=alpha_string.isalpha()\n",
    "print(b)"
   ]
  },
  {
   "cell_type": "markdown",
   "id": "34b55b3a",
   "metadata": {},
   "source": [
    "# isnumeric\n",
    "\n",
    "usage:The isnumeric() method returns True if all the characters are numeric (0-9), otherwise False.\n",
    "Exponents, like ² and ¾ are also considered to be numeric values.\n",
    "\"-1\" and \"1.5\" are NOT considered numeric values, because all the characters in the string must be numeric, and the - and the . are not."
   ]
  },
  {
   "cell_type": "code",
   "execution_count": 69,
   "id": "a3d46510",
   "metadata": {},
   "outputs": [
    {
     "name": "stdout",
     "output_type": "stream",
     "text": [
      "True\n"
     ]
    }
   ],
   "source": [
    "isnum_str=\"123457819\"\n",
    "a=isnum_str.isnumeric()\n",
    "print(a)\n",
    "\n"
   ]
  },
  {
   "cell_type": "code",
   "execution_count": 68,
   "id": "747ac913",
   "metadata": {},
   "outputs": [
    {
     "name": "stdout",
     "output_type": "stream",
     "text": [
      "False\n"
     ]
    }
   ],
   "source": [
    "isnum_str=\"1234578-19\"\n",
    "b=isnum_str.isnumeric()\n",
    "print(b)"
   ]
  }
 ],
 "metadata": {
  "kernelspec": {
   "display_name": "Python 3 (ipykernel)",
   "language": "python",
   "name": "python3"
  },
  "language_info": {
   "codemirror_mode": {
    "name": "ipython",
    "version": 3
   },
   "file_extension": ".py",
   "mimetype": "text/x-python",
   "name": "python",
   "nbconvert_exporter": "python",
   "pygments_lexer": "ipython3",
   "version": "3.12.5"
  }
 },
 "nbformat": 4,
 "nbformat_minor": 5
}
