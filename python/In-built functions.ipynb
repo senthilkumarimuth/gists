{
 "cells": [
  {
   "cell_type": "markdown",
   "id": "8a399d4d-64d9-4101-9d56-32ea147c422d",
   "metadata": {},
   "source": [
    "# filter\n",
    "\n",
    "Why inbuilt functions in python?\n",
    "\n",
    "ease the writing of code"
   ]
  },
  {
   "cell_type": "code",
   "execution_count": 4,
   "id": "a58f4f9c-d3be-4c4a-9dd0-12cb92e2d551",
   "metadata": {},
   "outputs": [
    {
     "name": "stdout",
     "output_type": "stream",
     "text": [
      "[0, 1, 2, 3, 4, 5, 6, 7, 8, 9]\n"
     ]
    }
   ],
   "source": [
    "temp_list = [i for i in range(10)]\n",
    "print(temp_list)"
   ]
  },
  {
   "cell_type": "code",
   "execution_count": 8,
   "id": "1897ef5b-84d1-4d75-be4f-3bd82e4b96ed",
   "metadata": {},
   "outputs": [
    {
     "name": "stdout",
     "output_type": "stream",
     "text": [
      "[0, 2, 4, 6, 8]\n"
     ]
    }
   ],
   "source": [
    "# Filter only even numbers\n",
    "filtered_result = list(filter(lambda x: x%2==0, temp_list))\n",
    "print(filtered_result)"
   ]
  },
  {
   "cell_type": "markdown",
   "id": "48e63d62-2a5d-44b9-bc25-7f3bef1d6a77",
   "metadata": {},
   "source": [
    "# map\n",
    "\n",
    "takes one value at a time from iterable and pass that to lambda function"
   ]
  },
  {
   "cell_type": "code",
   "execution_count": 10,
   "id": "0b8973a0-8c7f-400d-9c90-bac8d4cbf7c6",
   "metadata": {},
   "outputs": [
    {
     "name": "stdout",
     "output_type": "stream",
     "text": [
      "[0, 2, 4, 6, 8, 10, 12, 14, 16, 18]\n"
     ]
    }
   ],
   "source": [
    "temp_list = [i for i in range(10)]\n",
    "filtered_result = list(map(lambda x: x*2, temp_list))\n",
    "print(filtered_result)"
   ]
  },
  {
   "cell_type": "markdown",
   "id": "563929b3-7fa7-43d0-94d4-8dc2428f1b89",
   "metadata": {},
   "source": [
    "# sorted\n",
    "\n",
    "sorts a list based on 'key'"
   ]
  },
  {
   "cell_type": "code",
   "execution_count": 15,
   "id": "eb6a46e5-a1bf-430c-b020-cab846b5622d",
   "metadata": {},
   "outputs": [],
   "source": [
    "# sort\n",
    "temp_list = ['senthi', 'praveen', 'preetha', 'kumar']"
   ]
  },
  {
   "cell_type": "code",
   "execution_count": 16,
   "id": "cc473723-13ce-4ef5-b739-894d6d99c234",
   "metadata": {},
   "outputs": [],
   "source": [
    "temp_list.sort()"
   ]
  },
  {
   "cell_type": "code",
   "execution_count": 18,
   "id": "1be4b11c-cd4f-405b-bc39-bfdbd987906d",
   "metadata": {},
   "outputs": [
    {
     "name": "stdout",
     "output_type": "stream",
     "text": [
      "['kumar', 'praveen', 'preetha', 'senthi']\n"
     ]
    }
   ],
   "source": [
    "print(temp_list)"
   ]
  },
  {
   "cell_type": "code",
   "execution_count": 25,
   "id": "01bb47a8-0201-4103-abec-b006950e0068",
   "metadata": {},
   "outputs": [
    {
     "name": "stdout",
     "output_type": "stream",
     "text": [
      "['kumar', 'senthi', 'praveen', 'preetha']\n"
     ]
    }
   ],
   "source": [
    "# sorted\n",
    "temp_list = ['senthi', 'praveen', 'preetha', 'kumar']\n",
    "result = sorted(temp_list, key=len)\n",
    "print(result)"
   ]
  },
  {
   "cell_type": "code",
   "execution_count": 27,
   "id": "36c83a1e-138d-4bbc-9cbb-5db33bd682d1",
   "metadata": {},
   "outputs": [
    {
     "name": "stdout",
     "output_type": "stream",
     "text": [
      "['praveen', 'preetha', 'senthi', 'kumar']\n"
     ]
    }
   ],
   "source": [
    "# sorted with reverse\n",
    "temp_list = ['senthi', 'praveen', 'preetha', 'kumar']\n",
    "result = sorted(temp_list, key=len, reverse=True)\n",
    "print(result)"
   ]
  },
  {
   "cell_type": "markdown",
   "id": "a15ea784-a47f-4ab2-8418-9cd5c94c36c9",
   "metadata": {},
   "source": [
    "# enumarate\n",
    "To return index as well as item from interables."
   ]
  },
  {
   "cell_type": "code",
   "execution_count": 32,
   "id": "2b36aae1-bcb3-45ca-ae2e-dec1812f02ff",
   "metadata": {},
   "outputs": [
    {
     "name": "stdout",
     "output_type": "stream",
     "text": [
      "0 senthi\n",
      "1 praveen\n",
      "2 preetha\n",
      "3 kumar\n"
     ]
    }
   ],
   "source": [
    "temp_list = ['senthi', 'praveen', 'preetha', 'kumar']\n",
    "for index, item in enumerate(temp_list):\n",
    "    print(index, item)"
   ]
  },
  {
   "cell_type": "markdown",
   "id": "32fc2fba-a35c-4d75-b36c-de58a677b773",
   "metadata": {},
   "source": [
    "# Zip\n",
    "interates from more than one iterables"
   ]
  },
  {
   "cell_type": "code",
   "execution_count": 33,
   "id": "a62f9a03-7e02-45d7-a32c-acc9dc10e4ef",
   "metadata": {},
   "outputs": [
    {
     "name": "stdout",
     "output_type": "stream",
     "text": [
      "senthi kumar\n",
      "praveen kalimuth\n",
      "preetha k\n",
      "kumar senthil\n"
     ]
    }
   ],
   "source": [
    "temp_list1 = ['senthi', 'praveen', 'preetha', 'kumar']\n",
    "temp_list2 = ['kumar', 'kalimuth', 'k', 'senthil']\n",
    "for item1, item2 in zip(temp_list1, temp_list2):\n",
    "    print(item1, item2)"
   ]
  },
  {
   "cell_type": "markdown",
   "id": "65e50c98-a314-4ddb-9f52-95a3cdad8748",
   "metadata": {},
   "source": [
    "# join\n",
    "\n",
    "joins the items from iterables"
   ]
  },
  {
   "cell_type": "code",
   "execution_count": 36,
   "id": "c842beaf-37a7-4fd3-9a69-0a0bc7d3b393",
   "metadata": {},
   "outputs": [
    {
     "data": {
      "text/plain": [
       "'senthi*praveen*preetha*kumar'"
      ]
     },
     "execution_count": 36,
     "metadata": {},
     "output_type": "execute_result"
    }
   ],
   "source": [
    "temp_list = ['senthi', 'praveen', 'preetha', 'kumar']\n",
    "'*'.join(temp_list)"
   ]
  },
  {
   "cell_type": "markdown",
   "id": "eb586a0a-d7df-43bd-bac0-045bf1c34712",
   "metadata": {},
   "source": [
    "# reduce\n",
    "\n",
    "It applies a rolling computation to sequential pairs of values in a list. For example, if you wanted to compute the product of a list of integers.\n",
    "\n",
    "Note: It is third party function, not python's in-built function\n",
    "\n"
   ]
  },
  {
   "cell_type": "code",
   "execution_count": 7,
   "id": "966b57c4",
   "metadata": {},
   "outputs": [
    {
     "name": "stdout",
     "output_type": "stream",
     "text": [
      "24\n"
     ]
    }
   ],
   "source": [
    "from functools import reduce\n",
    "product = reduce((lambda x, y: x * y), [1, 2, 3, 4])\n",
    "print(product)"
   ]
  }
 ],
 "metadata": {
  "kernelspec": {
   "display_name": "Python 3 (ipykernel)",
   "language": "python",
   "name": "python3"
  },
  "language_info": {
   "codemirror_mode": {
    "name": "ipython",
    "version": 3
   },
   "file_extension": ".py",
   "mimetype": "text/x-python",
   "name": "python",
   "nbconvert_exporter": "python",
   "pygments_lexer": "ipython3",
   "version": "3.10.9"
  }
 },
 "nbformat": 4,
 "nbformat_minor": 5
}
