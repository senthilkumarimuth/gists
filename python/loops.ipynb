{
 "cells": [
  {
   "cell_type": "markdown",
   "id": "b12f3dbc-6547-4fb4-ac26-9032789876bb",
   "metadata": {},
   "source": [
    "# Loops"
   ]
  },
  {
   "cell_type": "markdown",
   "id": "f499d1d6-4e3e-4f7f-a70c-a0dc23f48052",
   "metadata": {},
   "source": [
    "#### for"
   ]
  },
  {
   "cell_type": "code",
   "execution_count": 1,
   "id": "6f70efed-7df9-42b1-b48d-5c6dde78e639",
   "metadata": {},
   "outputs": [
    {
     "name": "stdout",
     "output_type": "stream",
     "text": [
      "1\n",
      "2\n",
      "3\n",
      "4\n"
     ]
    }
   ],
   "source": [
    "list_example = [1,2,3,4]\n",
    "for i in list_example:\n",
    "    print(i)"
   ]
  },
  {
   "cell_type": "markdown",
   "id": "1b4288d2-884c-4030-9697-46bad021f803",
   "metadata": {},
   "source": [
    "#### while"
   ]
  },
  {
   "cell_type": "code",
   "execution_count": 2,
   "id": "664da9f5-f490-40e3-85ac-72ffb8acd99b",
   "metadata": {},
   "outputs": [
    {
     "name": "stdout",
     "output_type": "stream",
     "text": [
      "In loop\n",
      "In loop\n",
      "In loop\n",
      "In loop\n",
      "In loop\n",
      "In loop\n",
      "In loop\n",
      "In loop\n",
      "In loop\n",
      "In loop\n"
     ]
    }
   ],
   "source": [
    "flag = True\n",
    "var = 1\n",
    "while flag:\n",
    "    if var > 10:\n",
    "        flag = False\n",
    "    else:\n",
    "       print('In loop')\n",
    "       var = var + 1\n",
    "        "
   ]
  },
  {
   "cell_type": "markdown",
   "id": "46e1a107-f306-43ed-a28a-b40707c298cc",
   "metadata": {},
   "source": [
    "#### nested loops\n",
    "loop inside a loop"
   ]
  },
  {
   "cell_type": "code",
   "execution_count": 4,
   "id": "1f513b82-90a4-4068-9116-8d7fd9b8c9a2",
   "metadata": {},
   "outputs": [
    {
     "name": "stdout",
     "output_type": "stream",
     "text": [
      "i= 1\n",
      "j= 1\n",
      "j= 2\n",
      "j= 3\n",
      "j= 4\n",
      "i= 2\n",
      "j= 1\n",
      "j= 2\n",
      "j= 3\n",
      "j= 4\n",
      "i= 3\n",
      "j= 1\n",
      "j= 2\n",
      "j= 3\n",
      "j= 4\n",
      "i= 4\n",
      "j= 1\n",
      "j= 2\n",
      "j= 3\n",
      "j= 4\n"
     ]
    }
   ],
   "source": [
    "list_example1 = [1,2,3,4]\n",
    "list_example2 = [1,2,3,4]\n",
    "for i in list_example1:\n",
    "    print('i=', i)\n",
    "    for j in list_example2:\n",
    "        print('j=', j)"
   ]
  },
  {
   "cell_type": "code",
   "execution_count": null,
   "id": "ff8caf3c-393b-46d5-b876-72d519464cd3",
   "metadata": {},
   "outputs": [],
   "source": []
  }
 ],
 "metadata": {
  "kernelspec": {
   "display_name": "Python 3 (ipykernel)",
   "language": "python",
   "name": "python3"
  },
  "language_info": {
   "codemirror_mode": {
    "name": "ipython",
    "version": 3
   },
   "file_extension": ".py",
   "mimetype": "text/x-python",
   "name": "python",
   "nbconvert_exporter": "python",
   "pygments_lexer": "ipython3",
   "version": "3.10.9"
  }
 },
 "nbformat": 4,
 "nbformat_minor": 5
}
