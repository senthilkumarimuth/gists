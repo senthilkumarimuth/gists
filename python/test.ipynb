{
 "cells": [
  {
   "cell_type": "code",
   "execution_count": 1,
   "id": "b72c64c2-f368-459d-9722-cfa2a66931c2",
   "metadata": {},
   "outputs": [],
   "source": [
    "text =  \"oh to be or not to be is the question\""
   ]
  },
  {
   "cell_type": "code",
   "execution_count": 27,
   "id": "97529c28-b327-4c16-b808-053c88b95c9a",
   "metadata": {},
   "outputs": [],
   "source": [
    "def preprocess(text):\n",
    "    text = [char for  char in list(text) if char not in [\"!\", \",\", \"?\"]]\n",
    "    text =  \"\".join(text)\n",
    "    result_dict ={}\n",
    "   \n",
    "    text =  text.split(\" \")\n",
    "    for _text in text:\n",
    "        if _text.isalpha():\n",
    "            try:\n",
    "                   result_dict[_text] +=1 \n",
    "            except KeyError as e:\n",
    "                   result_dict[_text] = 1   \n",
    "    return result_dict"
   ]
  },
  {
   "cell_type": "code",
   "execution_count": 28,
   "id": "806c99ed-317a-410e-905f-bbd9dfaab343",
   "metadata": {},
   "outputs": [
    {
     "data": {
      "text/plain": [
       "{'oh': 1,\n",
       " 'to': 2,\n",
       " 'be': 2,\n",
       " 'or': 1,\n",
       " 'not': 1,\n",
       " 'is': 1,\n",
       " 'the': 1,\n",
       " 'question': 1}"
      ]
     },
     "execution_count": 28,
     "metadata": {},
     "output_type": "execute_result"
    }
   ],
   "source": [
    "preprocess(text)"
   ]
  },
  {
   "cell_type": "code",
   "execution_count": null,
   "id": "de42a2a1-7717-422d-88e6-f49007081d69",
   "metadata": {},
   "outputs": [],
   "source": []
  }
 ],
 "metadata": {
  "kernelspec": {
   "display_name": "my_common_env",
   "language": "python",
   "name": "myenv"
  },
  "language_info": {
   "codemirror_mode": {
    "name": "ipython",
    "version": 3
   },
   "file_extension": ".py",
   "mimetype": "text/x-python",
   "name": "python",
   "nbconvert_exporter": "python",
   "pygments_lexer": "ipython3",
   "version": "3.10.9"
  }
 },
 "nbformat": 4,
 "nbformat_minor": 5
}
