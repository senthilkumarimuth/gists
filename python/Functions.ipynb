{
 "cells": [
  {
   "cell_type": "markdown",
   "id": "7634a5aa-b2f2-4bf6-910f-4736c8392f50",
   "metadata": {},
   "source": [
    "# Functions"
   ]
  },
  {
   "cell_type": "code",
   "execution_count": 1,
   "id": "05e14c19-4ed0-462d-bcba-ef9503e8e666",
   "metadata": {},
   "outputs": [
    {
     "name": "stdout",
     "output_type": "stream",
     "text": [
      "2\n"
     ]
    }
   ],
   "source": [
    "def addition(a, b):\n",
    "    c = a + b\n",
    "    return c\n",
    "print(addition(1,1))"
   ]
  },
  {
   "cell_type": "code",
   "execution_count": 2,
   "id": "0c6d62ec-9d45-43ee-81a4-cb6e1e076fee",
   "metadata": {},
   "outputs": [
    {
     "ename": "TypeError",
     "evalue": "addition() missing 1 required positional argument: 'b'",
     "output_type": "error",
     "traceback": [
      "\u001b[1;31m---------------------------------------------------------------------------\u001b[0m",
      "\u001b[1;31mTypeError\u001b[0m                                 Traceback (most recent call last)",
      "Cell \u001b[1;32mIn[2], line 1\u001b[0m\n\u001b[1;32m----> 1\u001b[0m \u001b[38;5;28mprint\u001b[39m(\u001b[43maddition\u001b[49m\u001b[43m(\u001b[49m\u001b[38;5;241;43m1\u001b[39;49m\u001b[43m)\u001b[49m)\n",
      "\u001b[1;31mTypeError\u001b[0m: addition() missing 1 required positional argument: 'b'"
     ]
    }
   ],
   "source": [
    "print(addition(1))"
   ]
  },
  {
   "cell_type": "code",
   "execution_count": null,
   "id": "49deb381-e9d7-4bb9-8181-bf8e632c8073",
   "metadata": {},
   "outputs": [],
   "source": [
    "## default argument\n",
    "def addition1(a, b=1):\n",
    "    c = a + b\n",
    "    return c\n",
    "print(addition1(1,1))"
   ]
  },
  {
   "cell_type": "code",
   "execution_count": 6,
   "id": "50346819-2d1b-4ec4-a56d-23b2682f6aea",
   "metadata": {},
   "outputs": [
    {
     "name": "stdout",
     "output_type": "stream",
     "text": [
      "2\n"
     ]
    }
   ],
   "source": [
    "print(addition1(1)) # b is default value here"
   ]
  },
  {
   "cell_type": "markdown",
   "id": "403f4830-a761-4a92-ba0f-4bc111f7ad64",
   "metadata": {},
   "source": [
    "# *args"
   ]
  },
  {
   "cell_type": "code",
   "execution_count": 13,
   "id": "9d0b19d6-7a4c-4d52-a7ed-e276f8ce663d",
   "metadata": {},
   "outputs": [
    {
     "name": "stdout",
     "output_type": "stream",
     "text": [
      "1\n",
      "2\n",
      "4\n",
      "4\n",
      "44\n"
     ]
    }
   ],
   "source": [
    "def printer(*myarg):  # arguments are stored as TUPLE\n",
    "    for i in myarg:\n",
    "        print(i)\n",
    "printer(1,2,4,4,44)"
   ]
  },
  {
   "cell_type": "markdown",
   "id": "bf7453e5-bf3b-4d74-8736-51d44e0aa6b5",
   "metadata": {},
   "source": [
    "# **args"
   ]
  },
  {
   "cell_type": "code",
   "execution_count": 21,
   "id": "be907eb6-8f52-4b74-865e-05b7599dab35",
   "metadata": {},
   "outputs": [
    {
     "name": "stdout",
     "output_type": "stream",
     "text": [
      "name\n",
      "place\n"
     ]
    }
   ],
   "source": [
    "def printer(**myarg):  # arguments are stored as dictionary\n",
    "    for i in myarg:\n",
    "        print(i)\n",
    "printer(**{'name':'senthi', 'place': 'vnp'})"
   ]
  },
  {
   "cell_type": "code",
   "execution_count": null,
   "id": "314bf88f-b4d8-4976-8b0e-39a00a327383",
   "metadata": {},
   "outputs": [],
   "source": []
  }
 ],
 "metadata": {
  "kernelspec": {
   "display_name": "Python 3 (ipykernel)",
   "language": "python",
   "name": "python3"
  },
  "language_info": {
   "codemirror_mode": {
    "name": "ipython",
    "version": 3
   },
   "file_extension": ".py",
   "mimetype": "text/x-python",
   "name": "python",
   "nbconvert_exporter": "python",
   "pygments_lexer": "ipython3",
   "version": "3.10.9"
  }
 },
 "nbformat": 4,
 "nbformat_minor": 5
}
