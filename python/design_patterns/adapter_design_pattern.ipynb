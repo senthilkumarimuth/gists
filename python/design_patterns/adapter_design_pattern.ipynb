{
 "cells": [
  {
   "cell_type": "markdown",
   "metadata": {},
   "source": [
    "The Adapter Design Pattern is a structural design pattern used to bridge the gap between two incompatible interfaces. It allows an existing class to work with others without modifying its source code."
   ]
  },
  {
   "cell_type": "code",
   "execution_count": 1,
   "metadata": {},
   "outputs": [],
   "source": [
    "# standard media player\n",
    "class MediaPlayer:\n",
    "    def play(self, file_type, file_name):\n",
    "        raise NotImplementedError(\"This method should be overridden\")\n",
    "\n",
    "\n",
    "# Existing Class with a different(incompatible) interface\n",
    "class VLCPlayer:\n",
    "    def play_vlc(self, file_name):\n",
    "        print(f\"Playing VLC file: {file_name}\")\n",
    "\n",
    "\n",
    "class MP3Player:\n",
    "    def play_mp3(self, file_name):\n",
    "        print(f\"Playing MP3 file: {file_name}\")\n",
    "\n",
    "\n",
    "# Adapter Class to bridge MediaPlayer with VLCPlayer and MP3Player\n",
    "class MediaAdapter(MediaPlayer):\n",
    "    def __init__(self, player_type):\n",
    "        if player_type.lower() == \"vlc\":\n",
    "            self.advanced_player = VLCPlayer()\n",
    "        elif player_type.lower() == \"mp3\":\n",
    "            self.advanced_player = MP3Player()\n",
    "        else:\n",
    "            raise ValueError(\"Invalid player type\")\n",
    "\n",
    "    def play(self, file_type, file_name):\n",
    "        if file_type.lower() == \"vlc\":\n",
    "            self.advanced_player.play_vlc(file_name)\n",
    "        elif file_type.lower() == \"mp3\":\n",
    "            self.advanced_player.play_mp3(file_name)\n",
    "\n",
    "\n",
    "\n"
   ]
  },
  {
   "cell_type": "markdown",
   "metadata": {},
   "source": [
    "# usage"
   ]
  },
  {
   "cell_type": "code",
   "execution_count": 2,
   "metadata": {},
   "outputs": [
    {
     "name": "stdout",
     "output_type": "stream",
     "text": [
      "Playing MP3 file: song.mp3\n",
      "Playing VLC file: movie.vlc\n",
      "Invalid media type: avi. Supported types: VLC, MP3\n"
     ]
    }
   ],
   "source": [
    "# Client Code\n",
    "class AudioPlayer(MediaPlayer):\n",
    "    def play(self, file_type, file_name):\n",
    "        if file_type.lower() in [\"vlc\", \"mp3\"]:\n",
    "            adapter = MediaAdapter(file_type)\n",
    "            adapter.play(file_type, file_name)\n",
    "        else:\n",
    "            print(f\"Invalid media type: {file_type}. Supported types: VLC, MP3\")\n",
    "\n",
    "\n",
    "# Usage\n",
    "player = AudioPlayer()\n",
    "player.play(\"mp3\", \"song.mp3\")  # Output: Playing MP3 file: song.mp3\n",
    "player.play(\"vlc\", \"movie.vlc\")  # Output: Playing VLC file: movie.vlc\n",
    "player.play(\"avi\", \"video.avi\")  # Output: Invalid media type: avi. Supported types: VLC, MP3"
   ]
  },
  {
   "cell_type": "markdown",
   "metadata": {},
   "source": [
    "Key Points:\n",
    "\n",
    "- Target Interface: MediaPlayer defines the standard interface for the client.\n",
    "- Adaptee: VLCPlayer and MP3Player are the classes with incompatible interfaces.\n",
    "- Adapter: MediaAdapter bridges the gap between MediaPlayer and VLCPlayer/MP3Player.\n",
    "- Client: AudioPlayer uses the MediaAdapter to adapt to the desired interface."
   ]
  }
 ],
 "metadata": {
  "kernelspec": {
   "display_name": ".venv",
   "language": "python",
   "name": "python3"
  },
  "language_info": {
   "codemirror_mode": {
    "name": "ipython",
    "version": 3
   },
   "file_extension": ".py",
   "mimetype": "text/x-python",
   "name": "python",
   "nbconvert_exporter": "python",
   "pygments_lexer": "ipython3",
   "version": "3.10.9"
  }
 },
 "nbformat": 4,
 "nbformat_minor": 2
}
