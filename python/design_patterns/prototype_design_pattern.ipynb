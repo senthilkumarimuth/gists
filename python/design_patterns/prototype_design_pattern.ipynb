{
 "cells": [
  {
   "cell_type": "markdown",
   "metadata": {},
   "source": [
    "The Prototype Design Pattern is a creational design pattern that allows an object to create a copy of itself. This is useful when creating a new instance is resource-intensive, and you can clone an existing object to avoid overhead."
   ]
  },
  {
   "cell_type": "code",
   "execution_count": 1,
   "metadata": {},
   "outputs": [
    {
     "name": "stdout",
     "output_type": "stream",
     "text": [
      "Red Sedan with 150HP\n",
      "Blue Sedan with 180HP\n"
     ]
    }
   ],
   "source": [
    "import copy\n",
    "\n",
    "# Prototype class\n",
    "class Prototype:\n",
    "    def __init__(self):\n",
    "        self._objects = {}\n",
    "\n",
    "    def register_object(self, name, obj):\n",
    "        \"\"\"Register an object with a name.\"\"\"\n",
    "        self._objects[name] = obj\n",
    "\n",
    "    def unregister_object(self, name):\n",
    "        \"\"\"Remove an object by name.\"\"\"\n",
    "        if name in self._objects:\n",
    "            del self._objects[name]\n",
    "\n",
    "    def clone(self, name, **attrs):\n",
    "        \"\"\"Clone a registered object and update its attributes.\"\"\"\n",
    "        if name not in self._objects:\n",
    "            raise ValueError(f\"Object '{name}' not found\")\n",
    "        obj = copy.deepcopy(self._objects[name])\n",
    "        obj.__dict__.update(attrs)\n",
    "        return obj\n",
    "\n",
    "\n",
    "# Example class to be cloned\n",
    "class Car:\n",
    "    def __init__(self, model, color, engine_power):\n",
    "        self.model = model\n",
    "        self.color = color\n",
    "        self.engine_power = engine_power\n",
    "\n",
    "    def __str__(self):\n",
    "        return f\"{self.color} {self.model} with {self.engine_power}HP\"\n",
    "\n",
    "\n",
    "# Usage\n",
    "prototype = Prototype()\n",
    "\n",
    "# Register an object\n",
    "car1 = Car(\"Sedan\", \"Red\", 150)\n",
    "prototype.register_object(\"basic_sedan\", car1)\n",
    "\n",
    "# Clone the registered object and modify attributes\n",
    "car2 = prototype.clone(\"basic_sedan\", color=\"Blue\", engine_power=180)\n",
    "\n",
    "# Outputs\n",
    "print(car1)  # Output: Red Sedan with 150HP\n",
    "print(car2)  # Output: Blue Sedan with 180HP\n"
   ]
  }
 ],
 "metadata": {
  "kernelspec": {
   "display_name": ".venv",
   "language": "python",
   "name": "python3"
  },
  "language_info": {
   "codemirror_mode": {
    "name": "ipython",
    "version": 3
   },
   "file_extension": ".py",
   "mimetype": "text/x-python",
   "name": "python",
   "nbconvert_exporter": "python",
   "pygments_lexer": "ipython3",
   "version": "3.10.9"
  }
 },
 "nbformat": 4,
 "nbformat_minor": 2
}
