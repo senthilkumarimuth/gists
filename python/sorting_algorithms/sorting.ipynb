{
 "cells": [
  {
   "cell_type": "markdown",
   "id": "7b8904d9-c29a-4a5b-9a87-852ca4e1b12d",
   "metadata": {},
   "source": [
    "#  Bubble Sort"
   ]
  },
  {
   "cell_type": "code",
   "execution_count": 5,
   "id": "f4ae9a41-dc32-4c04-9083-06842f99b119",
   "metadata": {},
   "outputs": [],
   "source": [
    "def bubbleSort(array):\n",
    "    swapped = False\n",
    "    for i in range(len(array)-1,0,-1):\n",
    "        for j in range(i):\n",
    "            if array[j]>array[j+1]:\n",
    "                array[j], array[j+1] = array[j+1], array[j]\n",
    "                swapped= True\n",
    "        if swapped:\n",
    "            swapped=False\n",
    "        else:\n",
    "            break\n",
    "    return array"
   ]
  },
  {
   "cell_type": "code",
   "execution_count": 6,
   "id": "5011310c-add4-4769-afc3-b71904a01df2",
   "metadata": {},
   "outputs": [
    {
     "data": {
      "text/plain": [
       "[1, 3, 4, 6, 8, 8]"
      ]
     },
     "execution_count": 6,
     "metadata": {},
     "output_type": "execute_result"
    }
   ],
   "source": [
    "bubbleSort([3,4,6,8,1,8])"
   ]
  },
  {
   "cell_type": "markdown",
   "id": "64f47c40-0b82-4b27-80c6-d81b9370aeed",
   "metadata": {},
   "source": [
    "# Selection sort"
   ]
  },
  {
   "cell_type": "code",
   "execution_count": 7,
   "id": "d37596e2-cbc9-426b-a80f-d3f67f0b4fcf",
   "metadata": {},
   "outputs": [],
   "source": [
    "def selectionSort(array):\n",
    "    for i in range(len(array)-1):\n",
    "        min_idx = i\n",
    "        for idx in range(i + 1, len(array)):\n",
    "            if array[idx] < array[min_idx]:\n",
    "                min_idx = idx\n",
    "        array[i], array[min_idx] = array[min_idx], array[i]\n",
    "    return array"
   ]
  },
  {
   "cell_type": "code",
   "execution_count": 8,
   "id": "fada36f2-1828-4d7e-bd4b-6a1fdc7bf6f2",
   "metadata": {},
   "outputs": [
    {
     "data": {
      "text/plain": [
       "[1, 3, 4, 6, 8, 8]"
      ]
     },
     "execution_count": 8,
     "metadata": {},
     "output_type": "execute_result"
    }
   ],
   "source": [
    "selectionSort([3,4,6,8,1,8])"
   ]
  },
  {
   "cell_type": "markdown",
   "id": "2117dbe1-0ea9-4739-8b0d-5072e5774231",
   "metadata": {},
   "source": [
    "# Insertion sort"
   ]
  },
  {
   "cell_type": "code",
   "execution_count": 9,
   "id": "75ef15a7-bae3-4f99-b2c0-d9b940a51804",
   "metadata": {},
   "outputs": [],
   "source": [
    "def insertionSort(array):\n",
    "    for i in range(1, len(array)):\n",
    "        key = array[i]\n",
    "        j = i-1\n",
    "        while array[j] > key and j >= 0:\n",
    "            array[j+1] = array[j]\n",
    "            j -= 1\n",
    "        array[j+1] = key\n",
    "    return array"
   ]
  },
  {
   "cell_type": "code",
   "execution_count": 10,
   "id": "c7c32dfc-15c9-47ee-aff5-ddc044528fb4",
   "metadata": {},
   "outputs": [
    {
     "data": {
      "text/plain": [
       "[1, 3, 4, 6, 8, 8]"
      ]
     },
     "execution_count": 10,
     "metadata": {},
     "output_type": "execute_result"
    }
   ],
   "source": [
    "insertionSort([3,4,6,8,1,8])"
   ]
  },
  {
   "cell_type": "markdown",
   "id": "d1ccd5f6-3853-4d44-ac5a-99e78efd3c6a",
   "metadata": {},
   "source": [
    "# Shell sort"
   ]
  },
  {
   "cell_type": "code",
   "execution_count": 18,
   "id": "6d989f70-b015-4c94-8559-d3079d914e57",
   "metadata": {},
   "outputs": [],
   "source": [
    "def shell_sort(arr):\n",
    "    n = len(arr)\n",
    "    gap = n // 2\n",
    "    while gap > 0:\n",
    "        for i in range(gap, n):\n",
    "            temp = arr[i]\n",
    "            j = i\n",
    "            while j >= gap and arr[j - gap] > temp:\n",
    "                arr[j] = arr[j - gap]\n",
    "                j -= gap\n",
    "            arr[j] = temp\n",
    "        gap //= 2\n",
    "    return arr\n",
    "\n"
   ]
  },
  {
   "cell_type": "code",
   "execution_count": 19,
   "id": "ae38b382-3fd7-4fb2-b1ed-bb291420a6a7",
   "metadata": {},
   "outputs": [
    {
     "data": {
      "text/plain": [
       "[1, 3, 4, 6, 8, 8]"
      ]
     },
     "execution_count": 19,
     "metadata": {},
     "output_type": "execute_result"
    }
   ],
   "source": [
    "shell_sort([3,4,6,8,1,8])"
   ]
  },
  {
   "cell_type": "markdown",
   "id": "195ade50-6786-422d-8046-3b51e2b804a8",
   "metadata": {},
   "source": [
    "# Heap Sort"
   ]
  },
  {
   "cell_type": "code",
   "execution_count": 20,
   "id": "acaa834d-9608-41be-b19d-46f0a1e441a2",
   "metadata": {},
   "outputs": [],
   "source": [
    "def heapify(array, n, i):\n",
    "    largest = i\n",
    "    l = 2 * i + 1\n",
    "    r = 2 * i + 2\n",
    "    \n",
    "    if l < n and array[i] < array[l]:\n",
    "        largest = l\n",
    "    if r < n and array[largest] < array[r]:\n",
    "        largest = r\n",
    "    \n",
    "    if largest != i:\n",
    "        array[i], array[largest] = array[largest], array[i]\n",
    "        heapify(array, n, largest)\n",
    "        \n",
    "def heapSort(array):\n",
    "    n = len(array)\n",
    "    for i in range(n//2, -1, -1):\n",
    "        heapify(array, n, i)\n",
    "    for i in range(n-1, 0, -1):\n",
    "        array[i], array[0] = array[0], array[i]\n",
    "        heapify(array, i, 0)\n",
    "    return array"
   ]
  },
  {
   "cell_type": "code",
   "execution_count": 21,
   "id": "459f6923-5e2f-44c8-85e7-77ce52bd66ae",
   "metadata": {},
   "outputs": [
    {
     "data": {
      "text/plain": [
       "[1, 3, 4, 6, 8, 8]"
      ]
     },
     "execution_count": 21,
     "metadata": {},
     "output_type": "execute_result"
    }
   ],
   "source": [
    "heapSort([3,4,6,8,1,8])"
   ]
  },
  {
   "cell_type": "markdown",
   "id": "52d4075b-90a7-4a0c-829c-bbb6ca7744ff",
   "metadata": {},
   "source": [
    "# Merge Sort"
   ]
  },
  {
   "cell_type": "code",
   "execution_count": 22,
   "id": "fd10a35a-114e-432c-8b18-3e7b2399dcbd",
   "metadata": {},
   "outputs": [],
   "source": [
    "def mergeSort(nums):\n",
    "    if len(nums)==1:\n",
    "        return nums\n",
    "    mid = (len(nums)-1) // 2\n",
    "    lst1 = mergeSort(nums[:mid+1])\n",
    "    lst2 = mergeSort(nums[mid+1:])\n",
    "    result = merge(lst1, lst2)\n",
    "    return result\n",
    "def merge(lst1, lst2):\n",
    "    lst = []\n",
    "    i = 0\n",
    "    j = 0\n",
    "    while(i<=len(lst1)-1 and j<=len(lst2)-1):\n",
    "        if lst1[i]<lst2[j]:\n",
    "            lst.append(lst1[i])\n",
    "            i+=1\n",
    "        else:\n",
    "            lst.append(lst2[j])\n",
    "            j+=1\n",
    "    if i>len(lst1)-1:\n",
    "        while(j<=len(lst2)-1):\n",
    "            lst.append(lst2[j])\n",
    "            j+=1\n",
    "    else:\n",
    "        while(i<=len(lst1)-1):\n",
    "            lst.append(lst1[i])\n",
    "            i+=1\n",
    "    return lst"
   ]
  },
  {
   "cell_type": "code",
   "execution_count": 23,
   "id": "33ead653-57a2-48af-ac0e-40c6dcbf8fe9",
   "metadata": {},
   "outputs": [
    {
     "data": {
      "text/plain": [
       "[1, 3, 4, 6, 8, 8]"
      ]
     },
     "execution_count": 23,
     "metadata": {},
     "output_type": "execute_result"
    }
   ],
   "source": [
    "mergeSort([3,4,6,8,1,8])"
   ]
  },
  {
   "cell_type": "markdown",
   "id": "63dc27e1-2360-4890-aae4-991caafd4a8e",
   "metadata": {},
   "source": [
    "# Quick sort"
   ]
  },
  {
   "cell_type": "code",
   "execution_count": 26,
   "id": "36e99ad3-7015-47c8-9035-0a14ac87f18d",
   "metadata": {},
   "outputs": [],
   "source": [
    "def quickSort(array):\n",
    "    if len(array)> 1:\n",
    "        pivot=array.pop()\n",
    "        grtr_lst, equal_lst, smlr_lst = [], [pivot], []\n",
    "        for item in array:\n",
    "            if item == pivot:\n",
    "                equal_lst.append(item)\n",
    "            elif item > pivot:\n",
    "                grtr_lst.append(item)\n",
    "            else:\n",
    "                smlr_lst.append(item)\n",
    "        return (quickSort(smlr_lst) + equal_lst + quickSort(grtr_lst))\n",
    "    else:\n",
    "        print('I am here')\n",
    "        return array"
   ]
  },
  {
   "cell_type": "code",
   "execution_count": 27,
   "id": "272b6743-c0ed-4c97-93d1-418f9e81edc9",
   "metadata": {},
   "outputs": [
    {
     "name": "stdout",
     "output_type": "stream",
     "text": [
      "I am here\n",
      "I am here\n",
      "I am here\n",
      "I am here\n",
      "I am here\n"
     ]
    },
    {
     "data": {
      "text/plain": [
       "[1, 3, 4, 6, 8, 8]"
      ]
     },
     "execution_count": 27,
     "metadata": {},
     "output_type": "execute_result"
    }
   ],
   "source": [
    "quickSort([3,4,6,8,1,8])"
   ]
  },
  {
   "cell_type": "markdown",
   "id": "5efc97d3-fd9e-4c36-b100-d055618bd565",
   "metadata": {},
   "source": [
    "# Counting Sort"
   ]
  },
  {
   "cell_type": "code",
   "execution_count": 32,
   "id": "1774e1ea-1484-41b2-b6f3-6020045a5af2",
   "metadata": {},
   "outputs": [],
   "source": [
    "from typing import List"
   ]
  },
  {
   "cell_type": "code",
   "execution_count": 35,
   "id": "d7fdab8a-b5c6-4564-afba-ef16eae7b54f",
   "metadata": {},
   "outputs": [],
   "source": [
    "def sortArray(nums: List[int]) -> List[int]:\n",
    "    i_lower_bound , upper_bound = min(nums), max(nums)\n",
    "    lower_bound = i_lower_bound\n",
    "    if i_lower_bound < 0:\n",
    "        lb = abs(i_lower_bound)\n",
    "        nums = [item + lb for item in nums]\n",
    "        lower_bound , upper_bound = min(nums), max(nums)\n",
    "    \n",
    "    counter_nums = [0]*(upper_bound-lower_bound+1)\n",
    "    for item in nums:\n",
    "        counter_nums[item-lower_bound] += 1\n",
    "    pos = 0\n",
    "    for idx, item in enumerate(counter_nums):\n",
    "        num = idx + lower_bound\n",
    "        for i in range(item):\n",
    "            nums[pos] = num\n",
    "            pos += 1\n",
    "    if i_lower_bound < 0:\n",
    "        lb = abs(i_lower_bound)\n",
    "        nums = [item - lb for item in nums]\n",
    "    return nums"
   ]
  },
  {
   "cell_type": "code",
   "execution_count": 36,
   "id": "56171510-218e-4f67-a321-f4dd18e744df",
   "metadata": {},
   "outputs": [
    {
     "data": {
      "text/plain": [
       "[1, 3, 4, 6, 8, 8]"
      ]
     },
     "execution_count": 36,
     "metadata": {},
     "output_type": "execute_result"
    }
   ],
   "source": [
    "sortArray([3,4,6,8,1,8])"
   ]
  },
  {
   "cell_type": "markdown",
   "id": "11f340aa-5b82-4f47-8dd3-1d8c2ede4059",
   "metadata": {},
   "source": [
    "# Radix Sort"
   ]
  },
  {
   "cell_type": "code",
   "execution_count": 37,
   "id": "a9a918b0-3416-4cb0-b947-19701756f59b",
   "metadata": {},
   "outputs": [],
   "source": [
    "import itertools\n",
    "def radixSort(array):\n",
    "    n_digits = len(str(max(array)))\n",
    "    for dgt in range(n_digits):\n",
    "        buckets = [[] for i in range(10)]\n",
    "        for num in array:\n",
    "            idx = (num // (10**dgt)) % 10\n",
    "            buckets[idx].append(num)\n",
    "        array = list(itertools.chain(*buckets))\n",
    "    return array"
   ]
  },
  {
   "cell_type": "code",
   "execution_count": 38,
   "id": "00316985-5acc-450e-87cf-16f2834fac3d",
   "metadata": {},
   "outputs": [
    {
     "data": {
      "text/plain": [
       "[1, 3, 4, 6, 8, 8]"
      ]
     },
     "execution_count": 38,
     "metadata": {},
     "output_type": "execute_result"
    }
   ],
   "source": [
    "radixSort([3,4,6,8,1,8])"
   ]
  },
  {
   "cell_type": "code",
   "execution_count": null,
   "id": "1274677f-e65e-4688-b0cb-8b0e2f80991b",
   "metadata": {},
   "outputs": [],
   "source": []
  }
 ],
 "metadata": {
  "kernelspec": {
   "display_name": "Python 3 (ipykernel)",
   "language": "python",
   "name": "python3"
  },
  "language_info": {
   "codemirror_mode": {
    "name": "ipython",
    "version": 3
   },
   "file_extension": ".py",
   "mimetype": "text/x-python",
   "name": "python",
   "nbconvert_exporter": "python",
   "pygments_lexer": "ipython3",
   "version": "3.10.9"
  }
 },
 "nbformat": 4,
 "nbformat_minor": 5
}
