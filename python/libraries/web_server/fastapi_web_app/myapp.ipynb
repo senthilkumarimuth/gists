{
 "cells": [
  {
   "cell_type": "code",
   "execution_count": 2,
   "id": "3861bc07-0de7-4cc3-ae60-a7e2dd9bc175",
   "metadata": {},
   "outputs": [
    {
     "name": "stdout",
     "output_type": "stream",
     "text": [
      "Collecting fastapiNote: you may need to restart the kernel to use updated packages.\n"
     ]
    },
    {
     "name": "stderr",
     "output_type": "stream",
     "text": [
      "\n",
      "[notice] A new release of pip is available: 24.2 -> 24.3.1\n",
      "[notice] To update, run: python.exe -m pip install --upgrade pip\n"
     ]
    },
    {
     "name": "stdout",
     "output_type": "stream",
     "text": [
      "\n",
      "  Downloading fastapi-0.115.5-py3-none-any.whl.metadata (27 kB)\n",
      "Collecting uvicorn\n",
      "  Downloading uvicorn-0.32.1-py3-none-any.whl.metadata (6.6 kB)\n",
      "Collecting starlette<0.42.0,>=0.40.0 (from fastapi)\n",
      "  Downloading starlette-0.41.3-py3-none-any.whl.metadata (6.0 kB)\n",
      "Requirement already satisfied: pydantic!=1.8,!=1.8.1,!=2.0.0,!=2.0.1,!=2.1.0,<3.0.0,>=1.7.4 in c:\\users\\senthil.marimuthu\\onedrive - htc global services, inc\\self\\gists\\.venv\\lib\\site-packages (from fastapi) (2.9.2)\n",
      "Requirement already satisfied: typing-extensions>=4.8.0 in c:\\users\\senthil.marimuthu\\onedrive - htc global services, inc\\self\\gists\\.venv\\lib\\site-packages (from fastapi) (4.12.2)\n",
      "Requirement already satisfied: click>=7.0 in c:\\users\\senthil.marimuthu\\onedrive - htc global services, inc\\self\\gists\\.venv\\lib\\site-packages (from uvicorn) (8.1.7)\n",
      "Requirement already satisfied: h11>=0.8 in c:\\users\\senthil.marimuthu\\onedrive - htc global services, inc\\self\\gists\\.venv\\lib\\site-packages (from uvicorn) (0.14.0)\n",
      "Requirement already satisfied: colorama in c:\\users\\senthil.marimuthu\\onedrive - htc global services, inc\\self\\gists\\.venv\\lib\\site-packages (from click>=7.0->uvicorn) (0.4.6)\n",
      "Requirement already satisfied: annotated-types>=0.6.0 in c:\\users\\senthil.marimuthu\\onedrive - htc global services, inc\\self\\gists\\.venv\\lib\\site-packages (from pydantic!=1.8,!=1.8.1,!=2.0.0,!=2.0.1,!=2.1.0,<3.0.0,>=1.7.4->fastapi) (0.7.0)\n",
      "Requirement already satisfied: pydantic-core==2.23.4 in c:\\users\\senthil.marimuthu\\onedrive - htc global services, inc\\self\\gists\\.venv\\lib\\site-packages (from pydantic!=1.8,!=1.8.1,!=2.0.0,!=2.0.1,!=2.1.0,<3.0.0,>=1.7.4->fastapi) (2.23.4)\n",
      "Requirement already satisfied: anyio<5,>=3.4.0 in c:\\users\\senthil.marimuthu\\onedrive - htc global services, inc\\self\\gists\\.venv\\lib\\site-packages (from starlette<0.42.0,>=0.40.0->fastapi) (4.6.0)\n",
      "Requirement already satisfied: idna>=2.8 in c:\\users\\senthil.marimuthu\\onedrive - htc global services, inc\\self\\gists\\.venv\\lib\\site-packages (from anyio<5,>=3.4.0->starlette<0.42.0,>=0.40.0->fastapi) (3.10)\n",
      "Requirement already satisfied: sniffio>=1.1 in c:\\users\\senthil.marimuthu\\onedrive - htc global services, inc\\self\\gists\\.venv\\lib\\site-packages (from anyio<5,>=3.4.0->starlette<0.42.0,>=0.40.0->fastapi) (1.3.1)\n",
      "Requirement already satisfied: exceptiongroup>=1.0.2 in c:\\users\\senthil.marimuthu\\onedrive - htc global services, inc\\self\\gists\\.venv\\lib\\site-packages (from anyio<5,>=3.4.0->starlette<0.42.0,>=0.40.0->fastapi) (1.2.2)\n",
      "Downloading fastapi-0.115.5-py3-none-any.whl (94 kB)\n",
      "Downloading uvicorn-0.32.1-py3-none-any.whl (63 kB)\n",
      "Downloading starlette-0.41.3-py3-none-any.whl (73 kB)\n",
      "Installing collected packages: uvicorn, starlette, fastapi\n",
      "Successfully installed fastapi-0.115.5 starlette-0.41.3 uvicorn-0.32.1\n"
     ]
    }
   ],
   "source": [
    "pip install fastapi uvicorn"
   ]
  },
  {
   "cell_type": "code",
   "execution_count": 3,
   "id": "0ce020bd-a558-47cf-9b94-5560b4753bda",
   "metadata": {},
   "outputs": [
    {
     "ename": "NameError",
     "evalue": "name 'Request' is not defined",
     "output_type": "error",
     "traceback": [
      "\u001b[1;31m---------------------------------------------------------------------------\u001b[0m",
      "\u001b[1;31mNameError\u001b[0m                                 Traceback (most recent call last)",
      "Cell \u001b[1;32mIn[3], line 19\u001b[0m\n\u001b[0;32m     14\u001b[0m \u001b[38;5;129m@app\u001b[39m\u001b[38;5;241m.\u001b[39mpost(\u001b[38;5;124m\"\u001b[39m\u001b[38;5;124m/items/\u001b[39m\u001b[38;5;132;01m{item_id}\u001b[39;00m\u001b[38;5;124m\"\u001b[39m)\n\u001b[0;32m     15\u001b[0m \u001b[38;5;28;01masync\u001b[39;00m \u001b[38;5;28;01mdef\u001b[39;00m \u001b[38;5;21mread_item\u001b[39m(item_id: \u001b[38;5;28mint\u001b[39m):   \u001b[38;5;66;03m# here async is to wait untile the parameter item_id is found, otherwise it is not found.\u001b[39;00m\n\u001b[0;32m     16\u001b[0m     \u001b[38;5;28;01mreturn\u001b[39;00m {\u001b[38;5;124m\"\u001b[39m\u001b[38;5;124mitem_id\u001b[39m\u001b[38;5;124m\"\u001b[39m: item_id}\n\u001b[0;32m     18\u001b[0m \u001b[38;5;129m@app\u001b[39m\u001b[38;5;241m.\u001b[39mexception_handler(\u001b[38;5;167;01mException\u001b[39;00m) \u001b[38;5;66;03m# handle all exceptions\u001b[39;00m\n\u001b[1;32m---> 19\u001b[0m \u001b[38;5;28;01masync\u001b[39;00m \u001b[38;5;28;01mdef\u001b[39;00m \u001b[38;5;21municorn_exception_handler\u001b[39m(request: \u001b[43mRequest\u001b[49m, exc):\n\u001b[0;32m     20\u001b[0m     \u001b[38;5;28;01mreturn\u001b[39;00m JSONResponse(\n\u001b[0;32m     21\u001b[0m         status_code\u001b[38;5;241m=\u001b[39mexc\u001b[38;5;241m.\u001b[39mcode,\n\u001b[0;32m     22\u001b[0m         content\u001b[38;5;241m=\u001b[39m{\u001b[38;5;124m\"\u001b[39m\u001b[38;5;124mmessage\u001b[39m\u001b[38;5;124m\"\u001b[39m: exc\u001b[38;5;241m.\u001b[39mmessage},\n\u001b[0;32m     23\u001b[0m     )\n\u001b[0;32m     26\u001b[0m \u001b[38;5;28;01mif\u001b[39;00m \u001b[38;5;18m__name__\u001b[39m \u001b[38;5;241m==\u001b[39m \u001b[38;5;124m\"\u001b[39m\u001b[38;5;124m__main__\u001b[39m\u001b[38;5;124m\"\u001b[39m:\n",
      "\u001b[1;31mNameError\u001b[0m: name 'Request' is not defined"
     ]
    }
   ],
   "source": [
    "from fastapi import FastAPI\n",
    "import uvicorn\n",
    "import nest_asyncio      \n",
    "nest_asyncio.apply()          # To handle jupyter notebook error 'RuntimeError: asyncio.run() cannot be called from a running event loop'\n",
    "\n",
    "app = FastAPI()\n",
    "\n",
    "\n",
    "@app.get(\"/\")\n",
    "def read_root():\n",
    "    return {\"Hello\": \"World\"}\n",
    "\n",
    "\n",
    "@app.post(\"/items/{item_id}\")\n",
    "async def read_item(item_id: int):   # here async is to wait untile the parameter item_id is found, otherwise it is not found.\n",
    "    return {\"item_id\": item_id}\n",
    "\n",
    "@app.exception_handler(Exception) # handle all exceptions\n",
    "async def unicorn_exception_handler(request: Request, exc):\n",
    "    return JSONResponse(\n",
    "        status_code=exc.code,\n",
    "        content={\"message\": exc.message},\n",
    "    )\n",
    "\n",
    "\n",
    "if __name__ == \"__main__\":\n",
    "    uvicorn.run(app, host=\"0.0.0.0\", port=8900, log_level=\"info\")  # use /docs to get swagger UI for front end\n"
   ]
  },
  {
   "cell_type": "code",
   "execution_count": null,
   "id": "2a74ed63-c545-4122-aeb8-60a6129e3284",
   "metadata": {},
   "outputs": [],
   "source": []
  }
 ],
 "metadata": {
  "kernelspec": {
   "display_name": "Python 3 (ipykernel)",
   "language": "python",
   "name": "python3"
  },
  "language_info": {
   "codemirror_mode": {
    "name": "ipython",
    "version": 3
   },
   "file_extension": ".py",
   "mimetype": "text/x-python",
   "name": "python",
   "nbconvert_exporter": "python",
   "pygments_lexer": "ipython3",
   "version": "3.10.9"
  }
 },
 "nbformat": 4,
 "nbformat_minor": 5
}
