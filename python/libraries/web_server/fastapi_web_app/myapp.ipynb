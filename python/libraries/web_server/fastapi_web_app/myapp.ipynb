{
 "cells": [
  {
   "cell_type": "markdown",
   "id": "90c1d0a7",
   "metadata": {},
   "source": [
    "## What is FastAPI\n",
    "\n",
    " \n",
    " FastAPI is a modern, fast (high-performance), web framework for building APIs with Python 3.7+ based on standard Python type hints.\n",
    " It is designed to be easy to use and to help developers create robust and production-ready web APIs quickly.\n",
    " FastAPI automatically generates interactive API documentation and provides features like data validation, authentication, and more.\n",
    "\n"
   ]
  },
  {
   "cell_type": "markdown",
   "id": "44d54861",
   "metadata": {},
   "source": [
    " ## Use Cases of FastAPI\n",
    "\n",
    " - Building RESTful APIs for web and mobile applications\n",
    " - Creating backend services for machine learning and data science projects\n",
    " - Developing microservices architectures\n",
    " - Real-time data processing and streaming APIs\n",
    " - Rapid prototyping of web applications\n",
    " - Integrating with databases and external services\n",
    " - Serving interactive API documentation (Swagger UI, ReDoc)\n",
    " - Implementing authentication and authorization systems\n",
    " - Building GraphQL APIs (with additional libraries)\n"
   ]
  },
  {
   "cell_type": "markdown",
   "id": "bca2f68c",
   "metadata": {},
   "source": [
    "## How to install"
   ]
  },
  {
   "cell_type": "code",
   "execution_count": 1,
   "id": "3861bc07-0de7-4cc3-ae60-a7e2dd9bc175",
   "metadata": {},
   "outputs": [
    {
     "name": "stdout",
     "output_type": "stream",
     "text": [
      "Collecting fastapi\n",
      "  Downloading fastapi-0.118.0-py3-none-any.whl.metadata (28 kB)\n",
      "Collecting uvicorn\n",
      "  Downloading uvicorn-0.37.0-py3-none-any.whl.metadata (6.6 kB)\n",
      "Collecting starlette<0.49.0,>=0.40.0 (from fastapi)\n",
      "  Downloading starlette-0.48.0-py3-none-any.whl.metadata (6.3 kB)\n",
      "Collecting pydantic!=1.8,!=1.8.1,!=2.0.0,!=2.0.1,!=2.1.0,<3.0.0,>=1.7.4 (from fastapi)\n",
      "  Using cached pydantic-2.11.9-py3-none-any.whl.metadata (68 kB)\n",
      "Requirement already satisfied: typing-extensions>=4.8.0 in /Users/senthilkumar/projects/gists/.venv/lib/python3.12/site-packages (from fastapi) (4.15.0)\n",
      "Collecting annotated-types>=0.6.0 (from pydantic!=1.8,!=1.8.1,!=2.0.0,!=2.0.1,!=2.1.0,<3.0.0,>=1.7.4->fastapi)\n",
      "  Using cached annotated_types-0.7.0-py3-none-any.whl.metadata (15 kB)\n",
      "Collecting pydantic-core==2.33.2 (from pydantic!=1.8,!=1.8.1,!=2.0.0,!=2.0.1,!=2.1.0,<3.0.0,>=1.7.4->fastapi)\n",
      "  Downloading pydantic_core-2.33.2-cp312-cp312-macosx_11_0_arm64.whl.metadata (6.8 kB)\n",
      "Collecting typing-inspection>=0.4.0 (from pydantic!=1.8,!=1.8.1,!=2.0.0,!=2.0.1,!=2.1.0,<3.0.0,>=1.7.4->fastapi)\n",
      "  Using cached typing_inspection-0.4.1-py3-none-any.whl.metadata (2.6 kB)\n",
      "Requirement already satisfied: anyio<5,>=3.6.2 in /Users/senthilkumar/projects/gists/.venv/lib/python3.12/site-packages (from starlette<0.49.0,>=0.40.0->fastapi) (4.11.0)\n",
      "Requirement already satisfied: idna>=2.8 in /Users/senthilkumar/projects/gists/.venv/lib/python3.12/site-packages (from anyio<5,>=3.6.2->starlette<0.49.0,>=0.40.0->fastapi) (3.10)\n",
      "Requirement already satisfied: sniffio>=1.1 in /Users/senthilkumar/projects/gists/.venv/lib/python3.12/site-packages (from anyio<5,>=3.6.2->starlette<0.49.0,>=0.40.0->fastapi) (1.3.1)\n",
      "Collecting click>=7.0 (from uvicorn)\n",
      "  Using cached click-8.3.0-py3-none-any.whl.metadata (2.6 kB)\n",
      "Requirement already satisfied: h11>=0.8 in /Users/senthilkumar/projects/gists/.venv/lib/python3.12/site-packages (from uvicorn) (0.16.0)\n",
      "Downloading fastapi-0.118.0-py3-none-any.whl (97 kB)\n",
      "Using cached pydantic-2.11.9-py3-none-any.whl (444 kB)\n",
      "Downloading pydantic_core-2.33.2-cp312-cp312-macosx_11_0_arm64.whl (1.8 MB)\n",
      "\u001b[2K   \u001b[90m━━━━━━━━━━━━━━━━━━━━━━━━━━━━━━━━━━━━━━━━\u001b[0m \u001b[32m1.8/1.8 MB\u001b[0m \u001b[31m9.0 MB/s\u001b[0m  \u001b[33m0:00:00\u001b[0m\n",
      "\u001b[?25hDownloading starlette-0.48.0-py3-none-any.whl (73 kB)\n",
      "Downloading uvicorn-0.37.0-py3-none-any.whl (67 kB)\n",
      "Using cached annotated_types-0.7.0-py3-none-any.whl (13 kB)\n",
      "Using cached click-8.3.0-py3-none-any.whl (107 kB)\n",
      "Using cached typing_inspection-0.4.1-py3-none-any.whl (14 kB)\n",
      "Installing collected packages: typing-inspection, pydantic-core, click, annotated-types, uvicorn, starlette, pydantic, fastapi\n",
      "\u001b[2K   \u001b[90m━━━━━━━━━━━━━━━━━━━━━━━━━━━━━━━━━━━━━━━━\u001b[0m \u001b[32m8/8\u001b[0m [fastapi]m7/8\u001b[0m [fastapi]]]\n",
      "\u001b[1A\u001b[2KSuccessfully installed annotated-types-0.7.0 click-8.3.0 fastapi-0.118.0 pydantic-2.11.9 pydantic-core-2.33.2 starlette-0.48.0 typing-inspection-0.4.1 uvicorn-0.37.0\n"
     ]
    }
   ],
   "source": [
    "!pip install fastapi uvicorn"
   ]
  },
  {
   "cell_type": "code",
   "execution_count": 4,
   "id": "0ce020bd-a558-47cf-9b94-5560b4753bda",
   "metadata": {},
   "outputs": [
    {
     "name": "stderr",
     "output_type": "stream",
     "text": [
      "INFO:     Started server process [34004]\n",
      "INFO:     Waiting for application startup.\n",
      "INFO:     Application startup complete.\n",
      "INFO:     Uvicorn running on http://0.0.0.0:8900 (Press CTRL+C to quit)\n"
     ]
    },
    {
     "name": "stdout",
     "output_type": "stream",
     "text": [
      "INFO:     127.0.0.1:51807 - \"GET / HTTP/1.1\" 200 OK\n",
      "INFO:     127.0.0.1:51807 - \"GET /favicon.ico HTTP/1.1\" 404 Not Found\n",
      "INFO:     127.0.0.1:51808 - \"GET /docs HTTP/1.1\" 200 OK\n",
      "INFO:     127.0.0.1:51808 - \"GET /openapi.json HTTP/1.1\" 200 OK\n",
      "INFO:     127.0.0.1:51880 - \"GET / HTTP/1.1\" 200 OK\n"
     ]
    },
    {
     "name": "stderr",
     "output_type": "stream",
     "text": [
      "INFO:     Shutting down\n",
      "INFO:     Waiting for application shutdown.\n",
      "INFO:     Application shutdown complete.\n",
      "INFO:     Finished server process [34004]\n"
     ]
    }
   ],
   "source": [
    "from fastapi import FastAPI, Request\n",
    "from fastapi.responses import JSONResponse\n",
    "import uvicorn\n",
    "import nest_asyncio      \n",
    "nest_asyncio.apply()          # To handle jupyter notebook error 'RuntimeError: asyncio.run() cannot be called from a running event loop'\n",
    "\n",
    "app = FastAPI()\n",
    "\n",
    "\n",
    "@app.get(\"/\")\n",
    "def read_root():\n",
    "    return {\"Hello\": \"World\"}\n",
    "\n",
    "\n",
    "@app.post(\"/items/{item_id}\")\n",
    "async def read_item(item_id: int):   # here async is to wait untile the parameter item_id is found, otherwise it is not found.\n",
    "    return {\"item_id\": item_id}\n",
    "\n",
    "@app.exception_handler(Exception) # handle all exceptions\n",
    "async def unicorn_exception_handler(request: Request, exc):\n",
    "    return JSONResponse(\n",
    "        status_code=exc.code,\n",
    "        content={\"message\": exc.message},\n",
    "    )\n",
    "\n",
    "\n",
    "if __name__ == \"__main__\":\n",
    "    uvicorn.run(app, host=\"0.0.0.0\", port=8900, log_level=\"info\")  # use /docs to get swagger UI for front end. Use localhost/8900 to access the url. 127.0.0.1:8900 doesn't work\n"
   ]
  },
  {
   "cell_type": "markdown",
   "id": "3db1583c",
   "metadata": {},
   "source": [
    "\n",
    " ## Authentication in FastAPI\n",
    " \n",
    " FastAPI provides several ways to implement authentication and authorization, including:\n",
    " \n",
    " - **OAuth2 (with Password and Bearer):** Built-in support for OAuth2 flows, including password and bearer token authentication.\n",
    " - **API Key:** You can use API keys via headers, query parameters, or cookies.\n",
    " - **HTTP Basic Auth:** Simple username/password authentication.\n",
    " - **Custom Authentication:** You can implement your own authentication logic using dependencies."
   ]
  },
  {
   "cell_type": "markdown",
   "id": "51acf46e",
   "metadata": {},
   "source": [
    " \n",
    "  ## Middleware Support in FastAPI\n",
    "  \n",
    "  FastAPI provides robust support for middleware, allowing you to process requests and responses globally before they reach your endpoints or after they leave them.\n",
    "  \n",
    "  **What is Middleware?**\n",
    "  - Middleware is a function that runs before and/or after each request.\n",
    "  - It can be used for tasks like logging, CORS, authentication, modifying requests/responses, etc.\n",
    "  \n",
    "  **How to Add Middleware in FastAPI**\n",
    "  \n",
    "  You can add middleware using the `@app.middleware(\"http\")` decorator or by using the `add_middleware` method for built-in or third-party middleware classes.\n",
    "  \n",
    "  **Example: Custom Middleware**\n",
    "  \n",
    "  ```python\n",
    "  from fastapi import FastAPI, Request\n",
    "  import time\n",
    "  \n",
    "  app = FastAPI()\n",
    "  \n",
    "  @app.middleware(\"http\")\n",
    "  async def add_process_time_header(request: Request, call_next):\n",
    "      start_time = time.time()\n",
    "      response = await call_next(request)\n",
    "      process_time = time.time() - start_time\n",
    "      response.headers[\"X-Process-Time\"] = str(process_time)\n",
    "      return response\n",
    "  ```\n",
    "  \n",
    "  **Example: Using Built-in Middleware (CORS)**\n",
    "  \n",
    "  ```python\n",
    "  from fastapi.middleware.cors import CORSMiddleware\n",
    "  \n",
    "  app.add_middleware(\n",
    "      CORSMiddleware,\n",
    "      allow_origins=[\"*\"],\n",
    "      allow_credentials=True,\n",
    "      allow_methods=[\"*\"],\n",
    "      allow_headers=[\"*\"],\n",
    "  )\n",
    "  ```\n",
    "  \n",
    "  **Summary:**\n",
    "  - Middleware in FastAPI is simple and powerful.\n",
    "  - Use it for cross-cutting concerns like logging, security, CORS, etc.\n",
    "  - You can stack multiple middleware, and their order matters.\n"
   ]
  },
  {
   "cell_type": "markdown",
   "id": "b6828cb8",
   "metadata": {},
   "source": [
    " ## Comparison: FastAPI vs Flask vs Django\n",
    "\n",
    " | Feature                | FastAPI                                  | Flask                                   | Django                                  |\n",
    " |------------------------|------------------------------------------|-----------------------------------------|-----------------------------------------|\n",
    " | **Performance**        | Very high (async support, modern stack)  | Good (sync, WSGI-based)                 | Good (sync, WSGI-based)                 |\n",
    " | **Ease of Use**        | Intuitive, type hints, modern Python     | Simple, minimal, easy for beginners     | Steeper learning curve, more \"magic\"    |\n",
    " | **Async Support**      | Native (async/await)                     | Limited (requires extensions)           | Limited (native async since 3.1, partial)|\n",
    " | **Automatic Docs**     | Yes (Swagger UI, ReDoc out of the box)   | No (manual or via extensions)           | No (manual or via extensions)           |\n",
    " | **Data Validation**    | Built-in (Pydantic)                      | Manual or via extensions                | Built-in (Forms, Models)                |\n",
    " | **ORM**                | No (use external, e.g., SQLAlchemy)      | No (use external, e.g., SQLAlchemy)     | Yes (Django ORM)                        |\n",
    " | **Admin Interface**    | No                                       | No                                      | Yes (built-in)                          |\n",
    " | **Community/Ecosystem**| Growing, smaller than Flask/Django        | Large, mature                           | Very large, mature                      |\n",
    " | **Best For**           | Modern APIs, async, microservices         | Simple web apps, microservices, APIs    | Full-stack web apps, rapid prototyping  |\n",
    " | **Deployment**         | ASGI (Uvicorn, Hypercorn)                | WSGI (Gunicorn, uWSGI)                  | WSGI (Gunicorn, uWSGI)                  |\n",
    " | **Type Safety**        | Yes (type hints enforced)                | No                                      | Partial (forms/models)                  |\n",
    " | **Built-in Features**  | Minimal, add as needed                   | Minimal, add as needed                  | Many (auth, admin, ORM, forms, etc.)    |\n",
    " | **Learning Curve**     | Moderate (esp. async concepts)           | Low                                     | Moderate to high                        |\n"
   ]
  },
  {
   "cell_type": "markdown",
   "id": "9cd2ae52",
   "metadata": {},
   "source": [
    " \n",
    "  ## What is ASGI and WSGI?\n",
    " \n",
    "  **WSGI (Web Server Gateway Interface):**\n",
    "  - WSGI is a standard interface between web servers and Python web applications or frameworks.\n",
    "  - It was designed for synchronous applications, where each request is handled one at a time.\n",
    "  - Popular frameworks like Flask and Django (before version 3.1) use WSGI.\n",
    "  - WSGI is widely supported and stable, but it does not natively support asynchronous code.\n",
    " \n",
    "  **ASGI (Asynchronous Server Gateway Interface):**\n",
    "  - ASGI is a newer standard designed to support both synchronous and asynchronous Python web applications.\n",
    "  - It allows for handling multiple requests concurrently, making it suitable for modern, high-performance web applications.\n",
    "  - Frameworks like FastAPI and newer versions of Django (3.1+) support ASGI.\n",
    "  - ASGI enables features like WebSockets, background tasks, and long-lived connections, which are difficult or impossible with WSGI.\n",
    " \n",
    "  **Summary:**  \n",
    "  - Use WSGI for traditional, synchronous web apps.\n",
    "  - Use ASGI for modern, asynchronous apps that need high concurrency or real-time features.\n"
   ]
  },
  {
   "cell_type": "markdown",
   "id": "2a74ed63-c545-4122-aeb8-60a6129e3284",
   "metadata": {},
   "source": [
    " ## Pros and Cons of FastAPI\n",
    "\n",
    " **Pros:**\n",
    " - **High Performance:** FastAPI is one of the fastest Python frameworks available, thanks to its use of Starlette and Pydantic.\n",
    " - **Easy to Use:** Its syntax is intuitive and similar to Python type hints, making it easy to learn and use.\n",
    " - **Automatic Documentation:** FastAPI automatically generates interactive API documentation (Swagger UI and ReDoc).\n",
    " - **Type Safety:** Built-in support for data validation and type checking using Python type hints.\n",
    " - **Asynchronous Support:** Native support for async and await, allowing for high concurrency.\n",
    " - **Modern Features:** Supports OAuth2, JWT, CORS, and other modern web standards out of the box.\n",
    "\n",
    " **Cons:**\n",
    " - **Young Ecosystem:** FastAPI is relatively new, so its ecosystem and community are smaller compared to older frameworks like Django or Flask.\n",
    " - **Learning Curve for Async:** Developers unfamiliar with asynchronous programming may face a learning curve.\n",
    " - **Limited Built-in Tools:** Lacks some built-in features (like admin interfaces or ORM) that are present in frameworks like Django.\n",
    " - **Deployment Complexity:** Deploying async applications can be more complex, especially for beginners.\n",
    " - **Documentation Gaps:** While the core documentation is good, some advanced use cases may lack detailed guides or examples.\n",
    "\n"
   ]
  },
  {
   "cell_type": "markdown",
   "id": "596ce36e",
   "metadata": {},
   "source": []
  },
  {
   "cell_type": "markdown",
   "id": "20d0b407",
   "metadata": {},
   "source": []
  }
 ],
 "metadata": {
  "kernelspec": {
   "display_name": ".venv",
   "language": "python",
   "name": "python3"
  },
  "language_info": {
   "codemirror_mode": {
    "name": "ipython",
    "version": 3
   },
   "file_extension": ".py",
   "mimetype": "text/x-python",
   "name": "python",
   "nbconvert_exporter": "python",
   "pygments_lexer": "ipython3",
   "version": "3.12.11"
  }
 },
 "nbformat": 4,
 "nbformat_minor": 5
}
