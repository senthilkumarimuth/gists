{
 "cells": [
  {
   "cell_type": "markdown",
   "metadata": {},
   "source": [
    "Geodisc - This considers earth's curvature while calculating distance between two points    "
   ]
  },
  {
   "cell_type": "code",
   "execution_count": 1,
   "metadata": {},
   "outputs": [
    {
     "name": "stdout",
     "output_type": "stream",
     "text": [
      "Geodesic distance: 1316.21 km\n"
     ]
    }
   ],
   "source": [
    "from shapely.geometry import Point\n",
    "from geopy.distance import geodesic\n",
    "\n",
    "# Define points using Shapely\n",
    "point1 = Point(21.0122287, 52.2296756)  # Warsaw, Poland (longitude, latitude)\n",
    "point2 = Point(12.5113300, 41.8919300)  # Rome, Italy (longitude, latitude)\n",
    "\n",
    "# Extract coordinates from Shapely points\n",
    "coords_1 = (point1.y, point1.x)  # (latitude, longitude)\n",
    "coords_2 = (point2.y, point2.x)  # (latitude, longitude)\n",
    "\n",
    "# Calculate geodesic distance using Geopy\n",
    "distance = geodesic(coords_1, coords_2).kilometers\n",
    "\n",
    "print(f\"Geodesic distance: {distance:.2f} km\")"
   ]
  }
 ],
 "metadata": {
  "kernelspec": {
   "display_name": ".venv",
   "language": "python",
   "name": "python3"
  },
  "language_info": {
   "codemirror_mode": {
    "name": "ipython",
    "version": 3
   },
   "file_extension": ".py",
   "mimetype": "text/x-python",
   "name": "python",
   "nbconvert_exporter": "python",
   "pygments_lexer": "ipython3",
   "version": "3.10.9"
  }
 },
 "nbformat": 4,
 "nbformat_minor": 2
}
