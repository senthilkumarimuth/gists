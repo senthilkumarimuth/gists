{
 "cells": [
  {
   "cell_type": "markdown",
   "metadata": {},
   "source": [
    "Pydantic is a Python library used for data validation and settings management using Python type annotations. It helps ensure that your data models are correct and enforces type constraints, making it very useful in applications like API development and configuration management."
   ]
  },
  {
   "cell_type": "code",
   "execution_count": null,
   "metadata": {},
   "outputs": [],
   "source": [
    "from pydantic import BaseModel, Field, ValidationError\n",
    "\n",
    "class User(BaseModel):\n",
    "    id: int\n",
    "    name: str\n",
    "    email: str\n",
    "    age: int = Field(..., ge=18, description=\"Age must be 18 or older\")  # Ensures age >= 18\n",
    "\n",
    "# Valid instance\n",
    "user = User(id=1, name=\"John Doe\", email=\"john.doe@example.com\", age=25)\n",
    "print(user.dict())\n",
    "\n",
    "# Invalid instance\n",
    "try:\n",
    "    invalid_user = User(id=2, name=\"Jane\", email=\"jane@noemail\", age=16)\n",
    "except ValidationError as e:\n",
    "    print(e.json())\n"
   ]
  }
 ],
 "metadata": {
  "language_info": {
   "name": "python"
  }
 },
 "nbformat": 4,
 "nbformat_minor": 2
}
