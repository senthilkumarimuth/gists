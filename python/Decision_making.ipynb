{
 "cells": [
  {
   "cell_type": "markdown",
   "id": "bfe3155c-715b-4104-94a0-6aa7aa2a455a",
   "metadata": {},
   "source": [
    "# Decision making"
   ]
  },
  {
   "cell_type": "markdown",
   "id": "0a603787-87a6-4d20-ba7c-8912d3426af9",
   "metadata": {},
   "source": [
    "## IF\n"
   ]
  },
  {
   "cell_type": "code",
   "execution_count": 5,
   "id": "dd616d36-8dea-46fd-a3d9-de8f8359d585",
   "metadata": {},
   "outputs": [
    {
     "name": "stdout",
     "output_type": "stream",
     "text": [
      " i am inside if\n"
     ]
    }
   ],
   "source": [
    "var = 10\n",
    "if var==10:\n",
    "    print(' i am inside if')\n"
   ]
  },
  {
   "cell_type": "markdown",
   "id": "47aa163c-7576-4925-a834-b6fdccdbe9b3",
   "metadata": {},
   "source": [
    "## IF....ELSE"
   ]
  },
  {
   "cell_type": "code",
   "execution_count": 6,
   "id": "047e8d87-f589-4935-8139-7cc791bd3fd9",
   "metadata": {},
   "outputs": [
    {
     "name": "stdout",
     "output_type": "stream",
     "text": [
      " i am inside else\n"
     ]
    }
   ],
   "source": [
    "var = 11\n",
    "if var==10:\n",
    "    print(' i am inside if')\n",
    "else:\n",
    "    print(' i am inside else')"
   ]
  },
  {
   "cell_type": "markdown",
   "id": "cc116949-69fd-41c5-8342-6886d0f901e7",
   "metadata": {},
   "source": [
    "## ELIF...ELSE\n",
    "when more than one IF condtion is needed"
   ]
  },
  {
   "cell_type": "code",
   "execution_count": 7,
   "id": "ee9c3293-7dcb-4081-a8f2-31c39f7c93e5",
   "metadata": {},
   "outputs": [
    {
     "name": "stdout",
     "output_type": "stream",
     "text": [
      "my value is 10\n"
     ]
    }
   ],
   "source": [
    "var = 10\n",
    "if var==11:\n",
    "    print(' i am inside if')\n",
    "elif var ==9:\n",
    "    print('my value is', var)\n",
    "elif var == 10:\n",
    "    print('my value is', var)\n",
    "else:\n",
    "    print(' i am inside else')"
   ]
  },
  {
   "cell_type": "code",
   "execution_count": 8,
   "id": "e763fde7-bfad-45d6-9433-9a7aa7ba9c82",
   "metadata": {},
   "outputs": [],
   "source": [
    "### nested IF"
   ]
  },
  {
   "cell_type": "code",
   "execution_count": 10,
   "id": "4a514edc-41b5-4059-8b74-1c4867c0a8d5",
   "metadata": {},
   "outputs": [
    {
     "name": "stdout",
     "output_type": "stream",
     "text": [
      "my value is 29\n"
     ]
    }
   ],
   "source": [
    "var1= 19\n",
    "var2= 29\n",
    "if var1==19:\n",
    "    if var2==29:\n",
    "        print('my value is', var2)\n"
   ]
  },
  {
   "cell_type": "code",
   "execution_count": null,
   "id": "6b6f60a0-bbbd-4efa-a6d5-cf4adde76af5",
   "metadata": {},
   "outputs": [],
   "source": []
  }
 ],
 "metadata": {
  "kernelspec": {
   "display_name": "Python 3 (ipykernel)",
   "language": "python",
   "name": "python3"
  },
  "language_info": {
   "codemirror_mode": {
    "name": "ipython",
    "version": 3
   },
   "file_extension": ".py",
   "mimetype": "text/x-python",
   "name": "python",
   "nbconvert_exporter": "python",
   "pygments_lexer": "ipython3",
   "version": "3.10.9"
  }
 },
 "nbformat": 4,
 "nbformat_minor": 5
}
