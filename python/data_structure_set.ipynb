{
 "cells": [
  {
   "cell_type": "markdown",
   "id": "20ceb5c5-72c6-4e6e-9300-915c5f93d925",
   "metadata": {},
   "source": [
    "# how to create emtpty set"
   ]
  },
  {
   "cell_type": "code",
   "execution_count": 4,
   "id": "30898de8-1405-4164-b692-44ae75867ff3",
   "metadata": {},
   "outputs": [
    {
     "name": "stdout",
     "output_type": "stream",
     "text": [
      "<class 'set'>\n"
     ]
    }
   ],
   "source": [
    "empty_set = set()\n",
    "print(type(empty_set))"
   ]
  },
  {
   "cell_type": "markdown",
   "id": "1796ebde-9753-4451-940e-28935eb7eef9",
   "metadata": {},
   "source": [
    "# exmaple set"
   ]
  },
  {
   "cell_type": "code",
   "execution_count": 8,
   "id": "53197468-380f-4938-80bb-a5b9d1f53605",
   "metadata": {},
   "outputs": [
    {
     "name": "stdout",
     "output_type": "stream",
     "text": [
      "{1, 2, 3, 4}\n"
     ]
    }
   ],
   "source": [
    "example_set =  {1,2,3,4}\n",
    "print(example_set)"
   ]
  },
  {
   "cell_type": "markdown",
   "id": "be73d426-dedb-47d3-aa2a-86b44bd40179",
   "metadata": {},
   "source": [
    "# duplicate remove "
   ]
  },
  {
   "cell_type": "code",
   "execution_count": 11,
   "id": "77ba8f3e-4811-4241-b9de-7ae9ea4c1fcc",
   "metadata": {},
   "outputs": [
    {
     "name": "stdout",
     "output_type": "stream",
     "text": [
      "{1, 2, 3}\n"
     ]
    }
   ],
   "source": [
    "example_set = {1,1,2,3,3}\n",
    "print(example_set)"
   ]
  },
  {
   "cell_type": "markdown",
   "id": "3a13e088-0cbd-471e-8126-d809fea5ca17",
   "metadata": {},
   "source": [
    "# how to remove duplicate in list or tuple"
   ]
  },
  {
   "cell_type": "code",
   "execution_count": 3,
   "id": "8815dfe5-0580-4b7e-a569-99e58e3888e6",
   "metadata": {},
   "outputs": [
    {
     "name": "stdout",
     "output_type": "stream",
     "text": [
      "[1, 2, 3]\n"
     ]
    }
   ],
   "source": [
    "list_items = [1,2,2,3,3]\n",
    "unique_items = set(list_items)\n",
    "print(list(unique_items))"
   ]
  },
  {
   "cell_type": "markdown",
   "id": "59c077c5-e0e1-4edf-b869-03483d8fcab0",
   "metadata": {},
   "source": [
    "# mutable or not? immutable"
   ]
  },
  {
   "cell_type": "code",
   "execution_count": 16,
   "id": "ca9e1e30-115c-4146-b17d-227b8011615a",
   "metadata": {},
   "outputs": [
    {
     "ename": "TypeError",
     "evalue": "'set' object does not support item assignment",
     "output_type": "error",
     "traceback": [
      "\u001b[1;31m---------------------------------------------------------------------------\u001b[0m",
      "\u001b[1;31mTypeError\u001b[0m                                 Traceback (most recent call last)",
      "Cell \u001b[1;32mIn[16], line 2\u001b[0m\n\u001b[0;32m      1\u001b[0m example_set \u001b[38;5;241m=\u001b[39m {\u001b[38;5;241m1\u001b[39m,\u001b[38;5;241m2\u001b[39m,\u001b[38;5;241m3\u001b[39m,\u001b[38;5;241m4\u001b[39m}\n\u001b[1;32m----> 2\u001b[0m \u001b[43mexample_set\u001b[49m\u001b[43m[\u001b[49m\u001b[38;5;241;43m0\u001b[39;49m\u001b[43m]\u001b[49m \u001b[38;5;241m=\u001b[39m \u001b[38;5;241m10\u001b[39m\n\u001b[0;32m      3\u001b[0m \u001b[38;5;28mprint\u001b[39m(example_set)\n",
      "\u001b[1;31mTypeError\u001b[0m: 'set' object does not support item assignment"
     ]
    }
   ],
   "source": [
    "example_set = {1,2,3,4}\n",
    "example_set[0] = 10\n",
    "print(example_set)"
   ]
  },
  {
   "cell_type": "markdown",
   "id": "10938202-231a-42a7-a438-b4b16dbe8cd2",
   "metadata": {},
   "source": [
    "# Ordered or not? Unordered"
   ]
  },
  {
   "cell_type": "code",
   "execution_count": 24,
   "id": "621fe8c8-3791-4b7b-b650-45715b7d78d0",
   "metadata": {},
   "outputs": [
    {
     "ename": "TypeError",
     "evalue": "'set' object is not subscriptable",
     "output_type": "error",
     "traceback": [
      "\u001b[1;31m---------------------------------------------------------------------------\u001b[0m",
      "\u001b[1;31mTypeError\u001b[0m                                 Traceback (most recent call last)",
      "Cell \u001b[1;32mIn[24], line 2\u001b[0m\n\u001b[0;32m      1\u001b[0m example_set \u001b[38;5;241m=\u001b[39m {\u001b[38;5;241m1\u001b[39m,\u001b[38;5;241m2\u001b[39m,\u001b[38;5;241m3\u001b[39m,\u001b[38;5;241m4\u001b[39m}\n\u001b[1;32m----> 2\u001b[0m \u001b[38;5;28mprint\u001b[39m(\u001b[43mexample_set\u001b[49m\u001b[43m[\u001b[49m\u001b[38;5;241;43m0\u001b[39;49m\u001b[43m]\u001b[49m)\n",
      "\u001b[1;31mTypeError\u001b[0m: 'set' object is not subscriptable"
     ]
    }
   ],
   "source": [
    "example_set = {1,2,3,4}\n",
    "print(example_set[0])"
   ]
  },
  {
   "cell_type": "markdown",
   "id": "c6da17f6-1972-48ce-a26a-bab604584601",
   "metadata": {},
   "source": [
    "# Iterable or not? Iterable"
   ]
  },
  {
   "cell_type": "code",
   "execution_count": 20,
   "id": "fef6ebb9-2e06-4604-95d3-1f0985c67558",
   "metadata": {},
   "outputs": [
    {
     "name": "stdout",
     "output_type": "stream",
     "text": [
      "1\n",
      "2\n",
      "3\n",
      "4\n"
     ]
    }
   ],
   "source": [
    "example_set = {1,2,3,4}\n",
    "for i in example_set:\n",
    "    print(i)"
   ]
  },
  {
   "cell_type": "markdown",
   "id": "03ebbb2e-02f1-4a7a-94f5-29a45d45e57e",
   "metadata": {},
   "source": [
    "# how to add a element to set"
   ]
  },
  {
   "cell_type": "code",
   "execution_count": 25,
   "id": "b601ddb7-a68e-48e2-80a3-6a5234bbe701",
   "metadata": {},
   "outputs": [
    {
     "name": "stdout",
     "output_type": "stream",
     "text": [
      "{1, 2, 3, 4, 5}\n"
     ]
    }
   ],
   "source": [
    "example_set = {1,2,3,4}\n",
    "example_set.add(5)\n",
    "print(example_set)"
   ]
  },
  {
   "cell_type": "markdown",
   "id": "602db6ba-fcd9-4d01-9109-6c532cff7776",
   "metadata": {},
   "source": [
    "# how to remove a element from set"
   ]
  },
  {
   "cell_type": "code",
   "execution_count": 26,
   "id": "0f0bdbf6-fd3d-4015-b56d-b64ea8c023fa",
   "metadata": {},
   "outputs": [
    {
     "name": "stdout",
     "output_type": "stream",
     "text": [
      "{2, 3, 4}\n"
     ]
    }
   ],
   "source": [
    "example_set = {1,2,3,4}\n",
    "example_set.remove(1)\n",
    "print(example_set)"
   ]
  },
  {
   "cell_type": "markdown",
   "id": "20ab5ca3-db82-4807-9784-73dc9d2344f8",
   "metadata": {},
   "source": [
    "# union"
   ]
  },
  {
   "cell_type": "code",
   "execution_count": 27,
   "id": "b0d623b0-3e0b-4509-83b8-71a7b754d773",
   "metadata": {},
   "outputs": [
    {
     "name": "stdout",
     "output_type": "stream",
     "text": [
      "{1, 2, 3, 4, 5, 6}\n"
     ]
    }
   ],
   "source": [
    "example_set1 = {1,2,3,4}\n",
    "example_set2 = {1,2,5,6}\n",
    "union_set =  example_set1.union(example_set2)\n",
    "print(union_set)"
   ]
  },
  {
   "cell_type": "markdown",
   "id": "a05febc1-fccd-4053-9489-b991f404c2c4",
   "metadata": {},
   "source": [
    "# Intersection"
   ]
  },
  {
   "cell_type": "code",
   "execution_count": 28,
   "id": "5ad4d538-198e-448a-8aa7-37abe2cd97c8",
   "metadata": {},
   "outputs": [
    {
     "name": "stdout",
     "output_type": "stream",
     "text": [
      "{1, 2}\n"
     ]
    }
   ],
   "source": [
    "example_set1 = {1,2,3,4}\n",
    "example_set2 = {1,2,5,6}\n",
    "union_set =  example_set1.intersection(example_set2)\n",
    "print(union_set)"
   ]
  },
  {
   "cell_type": "markdown",
   "id": "5b973bf1-f202-4cd4-bdf0-83065b9c806c",
   "metadata": {},
   "source": [
    "# pop\n",
    "\n",
    "deletes random number in set. Note: Since set is immutable, indexing is not available\n"
   ]
  },
  {
   "cell_type": "code",
   "execution_count": 5,
   "id": "dab99974-3d6d-4384-ae36-d92ae9fa2bba",
   "metadata": {},
   "outputs": [
    {
     "name": "stdout",
     "output_type": "stream",
     "text": [
      "1\n",
      "2\n",
      "3\n",
      "4\n"
     ]
    }
   ],
   "source": [
    "example_set = {1,2,3,4}\n",
    "print(example_set.pop())\n",
    "print(example_set.pop())\n",
    "print(example_set.pop())\n",
    "print(example_set.pop())"
   ]
  },
  {
   "cell_type": "code",
   "execution_count": null,
   "id": "4b0a63ff-0010-41e7-97f3-518a791ef7b9",
   "metadata": {},
   "outputs": [],
   "source": []
  }
 ],
 "metadata": {
  "kernelspec": {
   "display_name": "Python 3 (ipykernel)",
   "language": "python",
   "name": "python3"
  },
  "language_info": {
   "codemirror_mode": {
    "name": "ipython",
    "version": 3
   },
   "file_extension": ".py",
   "mimetype": "text/x-python",
   "name": "python",
   "nbconvert_exporter": "python",
   "pygments_lexer": "ipython3",
   "version": "3.10.9"
  }
 },
 "nbformat": 4,
 "nbformat_minor": 5
}
