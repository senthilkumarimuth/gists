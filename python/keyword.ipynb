{
 "cells": [
  {
   "cell_type": "markdown",
   "id": "bc09a024-7a18-4b3d-a090-844a277e1334",
   "metadata": {},
   "source": [
    "# and"
   ]
  },
  {
   "cell_type": "code",
   "execution_count": 2,
   "id": "b78c0471-02f5-418a-a3f4-84092b6f9ee9",
   "metadata": {},
   "outputs": [
    {
     "name": "stdout",
     "output_type": "stream",
     "text": [
      "You are eligible for a student discount.\n"
     ]
    }
   ],
   "source": [
    "age = 18\n",
    "is_student = True\n",
    "\n",
    "if age <= 22 and is_student:\n",
    "    print(\"You are eligible for a student discount.\")\n",
    "else:\n",
    "    print(\"You are not eligible for a student discount.\")"
   ]
  },
  {
   "cell_type": "markdown",
   "id": "e59288ad-3a79-434a-b85d-09779005aec6",
   "metadata": {},
   "source": [
    "# or"
   ]
  },
  {
   "cell_type": "code",
   "execution_count": 3,
   "id": "7b82b50e-37ed-4d2e-b2b0-363e4f001c2b",
   "metadata": {},
   "outputs": [
    {
     "name": "stdout",
     "output_type": "stream",
     "text": [
      "It's a good day to stay indoors.\n"
     ]
    }
   ],
   "source": [
    "temperature = 28\n",
    "is_raining = True\n",
    "\n",
    "if temperature > 30 or is_raining:\n",
    "    print(\"It's a good day to stay indoors.\")\n",
    "else:\n",
    "    print(\"Let's go outside and enjoy the day!\")"
   ]
  },
  {
   "cell_type": "markdown",
   "id": "c4e23344-66de-47c7-bdc4-bc56426171c4",
   "metadata": {},
   "source": [
    "# assert"
   ]
  },
  {
   "cell_type": "code",
   "execution_count": 15,
   "id": "337b31a7-eaa6-4e44-85ee-7b681a77c599",
   "metadata": {},
   "outputs": [
    {
     "name": "stdout",
     "output_type": "stream",
     "text": [
      "assertion is successful\n"
     ]
    }
   ],
   "source": [
    "a = 11\n",
    "assert a==11\n",
    "print('assertion is successful')"
   ]
  },
  {
   "cell_type": "code",
   "execution_count": 16,
   "id": "e7e62f28-8743-415d-adea-e3c41a7d490d",
   "metadata": {},
   "outputs": [
    {
     "ename": "AssertionError",
     "evalue": "a is not equal to 10",
     "output_type": "error",
     "traceback": [
      "\u001b[1;31m---------------------------------------------------------------------------\u001b[0m",
      "\u001b[1;31mAssertionError\u001b[0m                            Traceback (most recent call last)",
      "Cell \u001b[1;32mIn[16], line 2\u001b[0m\n\u001b[0;32m      1\u001b[0m a \u001b[38;5;241m=\u001b[39m \u001b[38;5;241m11\u001b[39m\n\u001b[1;32m----> 2\u001b[0m \u001b[38;5;28;01massert\u001b[39;00m a\u001b[38;5;241m==\u001b[39m\u001b[38;5;241m10\u001b[39m, \u001b[38;5;124m'\u001b[39m\u001b[38;5;124ma is not equal to 10\u001b[39m\u001b[38;5;124m'\u001b[39m\n",
      "\u001b[1;31mAssertionError\u001b[0m: a is not equal to 10"
     ]
    }
   ],
   "source": [
    "a = 11\n",
    "assert a==10, 'a is not equal to 10'"
   ]
  },
  {
   "cell_type": "markdown",
   "id": "cd77fd2a-a57f-4cf6-83a6-c4e8de5d2600",
   "metadata": {},
   "source": [
    "# not"
   ]
  },
  {
   "cell_type": "code",
   "execution_count": 20,
   "id": "a43b20cc-6b0d-496f-afd7-afb4530442cb",
   "metadata": {},
   "outputs": [
    {
     "name": "stdout",
     "output_type": "stream",
     "text": [
      "i am inside else condition\n"
     ]
    }
   ],
   "source": [
    "flag = True\n",
    "if not flag:\n",
    "    print('i am inside if condition')\n",
    "else:\n",
    "    print('i am inside else condition')"
   ]
  },
  {
   "cell_type": "markdown",
   "id": "dee39905-6728-47d4-b332-f4a7341c0c3f",
   "metadata": {},
   "source": [
    "# break\n"
   ]
  },
  {
   "cell_type": "code",
   "execution_count": 30,
   "id": "a6cc1199-5e0b-446e-b795-7d6eae94c19e",
   "metadata": {},
   "outputs": [
    {
     "name": "stdout",
     "output_type": "stream",
     "text": [
      "senthi\n",
      "kumar\n",
      "praveen\n",
      "The control is here now\n"
     ]
    }
   ],
   "source": [
    "sample_list = ['senthi','kumar','praveen', 'preetha']\n",
    "for i in sample_list:\n",
    "    print(i)\n",
    "    if i == 'praveen':\n",
    "        break  # break the loop altogether\n",
    "print('The control is here now')      "
   ]
  },
  {
   "cell_type": "markdown",
   "id": "bc5f3ddc-5338-4985-9f8b-1459b7e8186a",
   "metadata": {},
   "source": [
    "# continue"
   ]
  },
  {
   "cell_type": "code",
   "execution_count": 33,
   "id": "0a6917a8-9d9f-487c-b71c-1c0deeb13652",
   "metadata": {},
   "outputs": [
    {
     "name": "stdout",
     "output_type": "stream",
     "text": [
      "senthil\n",
      "kumar\n",
      "preetha\n"
     ]
    }
   ],
   "source": [
    "sample_list = ['senthil','kumar','praveen', 'preetha']\n",
    "for i in sample_list:\n",
    "    if i == 'praveen': \n",
    "        continue # continou the loop instead of going below\n",
    "    print(i)"
   ]
  },
  {
   "cell_type": "markdown",
   "id": "bdffb099-74d3-4c33-85c8-8213501778a9",
   "metadata": {},
   "source": [
    "# pass"
   ]
  },
  {
   "cell_type": "code",
   "execution_count": 39,
   "id": "5a8e2cf4-b848-4304-affb-0c6dc269db70",
   "metadata": {},
   "outputs": [],
   "source": [
    "class calculater():\n",
    "    def add(a, b):\n",
    "        return a+b\n",
    "    def substract(a,b):\n",
    "        pass # dummy code"
   ]
  },
  {
   "cell_type": "markdown",
   "id": "eac0339b-36e5-43d0-918b-e246dda831a9",
   "metadata": {},
   "source": [
    "# class"
   ]
  },
  {
   "cell_type": "code",
   "execution_count": 41,
   "id": "fda6ba6c-9360-4ee8-92b5-42ac7f97d2d6",
   "metadata": {},
   "outputs": [
    {
     "name": "stdout",
     "output_type": "stream",
     "text": [
      "3\n"
     ]
    }
   ],
   "source": [
    "# blueprint for creating objects\n",
    "class calculator():\n",
    "    def add(a, b):\n",
    "        return a+b\n",
    "    def substract(a,b):\n",
    "        return a-b\n",
    "obj = calculator.add(1,2)\n",
    "print(obj)"
   ]
  },
  {
   "cell_type": "markdown",
   "id": "c450dd97-3b33-48ac-b795-92b55da9fd08",
   "metadata": {},
   "source": [
    "# def"
   ]
  },
  {
   "cell_type": "code",
   "execution_count": null,
   "id": "3c759ef5-50a6-4ffc-9dde-2e65c292a71c",
   "metadata": {},
   "outputs": [],
   "source": [
    "# function or method is called def"
   ]
  },
  {
   "cell_type": "code",
   "execution_count": 42,
   "id": "48b08cb6-65d6-441e-abaa-b7f72e31c489",
   "metadata": {},
   "outputs": [
    {
     "name": "stdout",
     "output_type": "stream",
     "text": [
      "3\n"
     ]
    }
   ],
   "source": [
    "# function\n",
    "def add(a, b):\n",
    "    return a+b\n",
    "\n",
    "\n",
    "c = add(1,2)\n",
    "print(c)"
   ]
  },
  {
   "cell_type": "markdown",
   "id": "aa563cc1-cf50-42d3-8b71-337a435a5539",
   "metadata": {},
   "source": [
    "# del"
   ]
  },
  {
   "cell_type": "code",
   "execution_count": 46,
   "id": "acfcbfea-c24d-4c75-8015-cc688333bdf9",
   "metadata": {},
   "outputs": [
    {
     "name": "stdout",
     "output_type": "stream",
     "text": [
      "before deletion [1, 2, 3]\n"
     ]
    },
    {
     "ename": "NameError",
     "evalue": "name 'list1' is not defined",
     "output_type": "error",
     "traceback": [
      "\u001b[1;31m---------------------------------------------------------------------------\u001b[0m",
      "\u001b[1;31mNameError\u001b[0m                                 Traceback (most recent call last)",
      "Cell \u001b[1;32mIn[46], line 4\u001b[0m\n\u001b[0;32m      2\u001b[0m \u001b[38;5;28mprint\u001b[39m(\u001b[38;5;124m'\u001b[39m\u001b[38;5;124mbefore deletion\u001b[39m\u001b[38;5;124m'\u001b[39m,list1)\n\u001b[0;32m      3\u001b[0m \u001b[38;5;28;01mdel\u001b[39;00m list1\n\u001b[1;32m----> 4\u001b[0m \u001b[38;5;28mprint\u001b[39m(\u001b[43mlist1\u001b[49m)\n",
      "\u001b[1;31mNameError\u001b[0m: name 'list1' is not defined"
     ]
    }
   ],
   "source": [
    "list1 = [1,2,3]\n",
    "print('before deletion',list1)\n",
    "del list1\n",
    "print(list1)"
   ]
  },
  {
   "cell_type": "markdown",
   "id": "2729e906-6edf-4020-a3a6-92ceb68e6d9b",
   "metadata": {},
   "source": [
    "# if, else"
   ]
  },
  {
   "cell_type": "code",
   "execution_count": 49,
   "id": "70705e0d-1643-4238-9bee-cb0c52b152d9",
   "metadata": {},
   "outputs": [
    {
     "name": "stdout",
     "output_type": "stream",
     "text": [
      "a is 10\n"
     ]
    }
   ],
   "source": [
    "# when only one if condition is needed\n",
    "a = 10\n",
    "if a==10:\n",
    "    print('a is 10')\n",
    "else:\n",
    "    print('a is not 10')"
   ]
  },
  {
   "cell_type": "markdown",
   "id": "8fff6686-2b5b-4f88-8251-8622ea25918b",
   "metadata": {},
   "source": [
    "# elif"
   ]
  },
  {
   "cell_type": "code",
   "execution_count": 52,
   "id": "2fc4bd23-880c-4027-838a-ad529aa446c8",
   "metadata": {},
   "outputs": [
    {
     "name": "stdout",
     "output_type": "stream",
     "text": [
      "a is 5\n"
     ]
    }
   ],
   "source": [
    "# when more than one if condition is needed\n",
    "a = 5\n",
    "if a==10:\n",
    "    print('a is 10')\n",
    "elif a==5:\n",
    "    print('a is 5')\n",
    "else:\n",
    "    print('a is not 10')"
   ]
  },
  {
   "cell_type": "markdown",
   "id": "5f5472b5-b72f-410e-8190-50cf466c5fbd",
   "metadata": {},
   "source": [
    "# try, except"
   ]
  },
  {
   "cell_type": "code",
   "execution_count": 63,
   "id": "811c931c-bd5d-42d3-b54c-de46f673bb98",
   "metadata": {},
   "outputs": [
    {
     "name": "stdout",
     "output_type": "stream",
     "text": [
      "can not divide by zero\n"
     ]
    }
   ],
   "source": [
    "# To handle errors\n",
    "a = 0\n",
    "try: \n",
    "    c = 10/a  # example open file here\n",
    "except:\n",
    "    print('can not divide by zero')  # print the error when file is not read successfully\n",
    "finally:\n",
    "    pass  # example close the file once read"
   ]
  },
  {
   "cell_type": "markdown",
   "id": "0badce36-a8ff-4a40-b9d3-a86181b8e5d2",
   "metadata": {},
   "source": [
    "# from"
   ]
  },
  {
   "cell_type": "code",
   "execution_count": 65,
   "id": "c3439075-0b0f-41ea-a296-4dae5245e796",
   "metadata": {},
   "outputs": [
    {
     "name": "stdout",
     "output_type": "stream",
     "text": [
      "after sleeping, i am here\n"
     ]
    }
   ],
   "source": [
    "#with from\n",
    "from time import sleep  # take only sleep function from time.py\n",
    "sleep(5)\n",
    "print('after sleeping, i am here')\n"
   ]
  },
  {
   "cell_type": "code",
   "execution_count": 66,
   "id": "ade11067-b632-4b06-ad55-118c9f2ee52f",
   "metadata": {},
   "outputs": [
    {
     "name": "stdout",
     "output_type": "stream",
     "text": [
      "after sleeping, i am here\n"
     ]
    }
   ],
   "source": [
    "#without from\n",
    "import time  # take all functions from time.py\n",
    "time.sleep(5)\n",
    "print('after sleeping, i am here')"
   ]
  },
  {
   "cell_type": "markdown",
   "id": "92652e05-a844-4fdf-862b-34074a8cd84a",
   "metadata": {},
   "source": [
    "# exec"
   ]
  },
  {
   "cell_type": "code",
   "execution_count": 67,
   "id": "83280d1a-b020-4433-a949-88ba35d93cef",
   "metadata": {},
   "outputs": [
    {
     "name": "stdout",
     "output_type": "stream",
     "text": [
      "Hello, world!\n"
     ]
    }
   ],
   "source": [
    "# when a python code is a string\n",
    "code_to_execute = \"print('Hello, world!')\"\n",
    "exec(code_to_execute)"
   ]
  },
  {
   "cell_type": "markdown",
   "id": "5bfb94a0-d0d8-43db-a2db-3d7ecad83a9d",
   "metadata": {},
   "source": [
    "# global\n"
   ]
  },
  {
   "cell_type": "code",
   "execution_count": 79,
   "id": "40937126-6e3e-423c-b9f2-67cb515ca921",
   "metadata": {},
   "outputs": [
    {
     "name": "stdout",
     "output_type": "stream",
     "text": [
      "15\n"
     ]
    }
   ],
   "source": [
    "a = 10\n",
    "\n",
    "def printer():\n",
    "    global a  # Convert a local variable to global variable\n",
    "    a = 15   \n",
    "\n",
    "printer()   \n",
    "print(a)"
   ]
  },
  {
   "cell_type": "code",
   "execution_count": 68,
   "id": "d9ed1331-b79a-49df-b6ec-514185e2809d",
   "metadata": {},
   "outputs": [
    {
     "name": "stdout",
     "output_type": "stream",
     "text": [
      "15\n"
     ]
    }
   ],
   "source": [
    "a = 10\n",
    "a = 15\n",
    "print(a)"
   ]
  },
  {
   "cell_type": "markdown",
   "id": "07bc4048-bce1-401c-b340-f4ec9a70e4de",
   "metadata": {},
   "source": [
    "# for"
   ]
  },
  {
   "cell_type": "code",
   "execution_count": 1,
   "id": "f3b8a9b6-9450-420a-a41a-06419c48de2e",
   "metadata": {},
   "outputs": [
    {
     "name": "stdout",
     "output_type": "stream",
     "text": [
      "p\n",
      "r\n",
      "a\n",
      "v\n",
      "e\n",
      "e\n",
      "n\n"
     ]
    }
   ],
   "source": [
    "for i in 'praveen':  # To iterate\n",
    "    print(i)"
   ]
  },
  {
   "cell_type": "markdown",
   "id": "980d77f8-e0f2-44ec-a9d5-dc88d9012765",
   "metadata": {},
   "source": [
    "# import "
   ]
  },
  {
   "cell_type": "code",
   "execution_count": 2,
   "id": "a45d1300-9214-4313-be89-17f047dd6f1b",
   "metadata": {},
   "outputs": [],
   "source": [
    "import time # .py"
   ]
  },
  {
   "cell_type": "code",
   "execution_count": 3,
   "id": "8597c27c-af8a-4204-b838-e1e23a062481",
   "metadata": {},
   "outputs": [],
   "source": [
    "from time import sleep # class, function, variable"
   ]
  },
  {
   "cell_type": "markdown",
   "id": "f7c85616-aa85-4507-91dc-3305b1675d3a",
   "metadata": {},
   "source": [
    "# in"
   ]
  },
  {
   "cell_type": "code",
   "execution_count": 10,
   "id": "d73dc310-3733-4622-9600-59bae59274c4",
   "metadata": {},
   "outputs": [
    {
     "name": "stdout",
     "output_type": "stream",
     "text": [
      "False\n"
     ]
    }
   ],
   "source": [
    "a = 'kumar'\n",
    "name_list = ['senthil', 'praveen', 'preetha']\n",
    "print(a in name_list)"
   ]
  },
  {
   "cell_type": "markdown",
   "id": "d6ffac40-0769-4f72-927e-9d515bd96e4e",
   "metadata": {},
   "source": [
    "# is "
   ]
  },
  {
   "cell_type": "markdown",
   "id": "b61bd064-e066-4cc2-911e-7cd8909ba9f7",
   "metadata": {},
   "source": [
    "#### for mutable object"
   ]
  },
  {
   "cell_type": "code",
   "execution_count": 22,
   "id": "9d21472d-e313-4e1e-86e8-74e89e38bd64",
   "metadata": {},
   "outputs": [
    {
     "name": "stdout",
     "output_type": "stream",
     "text": [
      "True\n",
      "1427510859760\n",
      "1427510859760\n",
      "True\n"
     ]
    }
   ],
   "source": [
    "a = 'senthil'\n",
    "b = 'senthil'\n",
    "z = a\n",
    "print(a is b)\n",
    "print(id(a))\n",
    "print(id(b))\n",
    "print(b is z)"
   ]
  },
  {
   "cell_type": "markdown",
   "id": "194bafc7-b5b3-4cf4-ab7e-1e4e5ea8bf29",
   "metadata": {},
   "source": [
    "#### for immutable objects"
   ]
  },
  {
   "cell_type": "code",
   "execution_count": 3,
   "id": "b7ce9816-1a76-48a9-935b-9c51eab2058d",
   "metadata": {},
   "outputs": [
    {
     "name": "stdout",
     "output_type": "stream",
     "text": [
      "2083917754560\n",
      "2083917754560\n",
      "2083918179968\n",
      "True\n",
      "False\n"
     ]
    }
   ],
   "source": [
    "x = [1, 2, 3]\n",
    "y = x  # Both x and y reference the same list object\n",
    "\n",
    "z = [1, 2, 3]  # A new list object with the same values as x\n",
    "\n",
    "print(id(x))\n",
    "print(id(y))\n",
    "print(id(z))\n",
    "print(x is y)  # Output: True, x and y reference the same object\n",
    "print(x is z)  # Output: False, x and z are different objects in memory"
   ]
  },
  {
   "cell_type": "markdown",
   "id": "0a73b614-ab62-4447-9267-fa873f7dfcc9",
   "metadata": {},
   "source": [
    "#### what is the difference b.w 'is' and == \n",
    "\n",
    "#### is - it checks if objects memory address(id) are same or not\n",
    "#### == - it checks if objects values are same or not"
   ]
  },
  {
   "cell_type": "code",
   "execution_count": 28,
   "id": "51d699a0-2e4c-40fb-a95e-72384c201c31",
   "metadata": {},
   "outputs": [
    {
     "name": "stdout",
     "output_type": "stream",
     "text": [
      "True\n"
     ]
    }
   ],
   "source": [
    "print(x == z)"
   ]
  },
  {
   "cell_type": "markdown",
   "id": "85abe36a-4c4c-4df8-a05a-a44c2e716f49",
   "metadata": {},
   "source": [
    "# lambda"
   ]
  },
  {
   "cell_type": "code",
   "execution_count": 41,
   "id": "712ee78e-4640-4883-83f0-497ee8e848ec",
   "metadata": {},
   "outputs": [
    {
     "name": "stdout",
     "output_type": "stream",
     "text": [
      "[2, 3, 4]\n"
     ]
    }
   ],
   "source": [
    "# inline function\n",
    "result = list(map(lambda x: x+1, [1,2,3]))\n",
    "print(result)"
   ]
  },
  {
   "cell_type": "code",
   "execution_count": 42,
   "id": "08dfc9f8-f843-4d53-9b96-c7487f7734eb",
   "metadata": {},
   "outputs": [
    {
     "name": "stdout",
     "output_type": "stream",
     "text": [
      "[2, 3, 4]\n"
     ]
    }
   ],
   "source": [
    "# multi line function\n",
    "\n",
    "def addition(x):\n",
    "    c = x + 1\n",
    "    return c\n",
    "    \n",
    "input_value = [1,2,3]\n",
    "temp_list = []\n",
    "for i in input_value:\n",
    "    result = addition(i)\n",
    "    temp_list.append(result)\n",
    "print(temp_list)"
   ]
  },
  {
   "cell_type": "markdown",
   "id": "c1f3bea4-1fd3-4881-8b44-453d48f04113",
   "metadata": {},
   "source": [
    "# print"
   ]
  },
  {
   "cell_type": "code",
   "execution_count": 43,
   "id": "79128341-bdf3-4908-898d-8fccc72f06cc",
   "metadata": {},
   "outputs": [
    {
     "name": "stdout",
     "output_type": "stream",
     "text": [
      "senthil\n"
     ]
    }
   ],
   "source": [
    "print('senthil')"
   ]
  },
  {
   "cell_type": "code",
   "execution_count": 44,
   "id": "ee038215-f66f-474e-bfca-c511882d6f6e",
   "metadata": {},
   "outputs": [
    {
     "name": "stdout",
     "output_type": "stream",
     "text": [
      "the value is 10\n"
     ]
    }
   ],
   "source": [
    "a =  10\n",
    "print('the value is', a)"
   ]
  },
  {
   "cell_type": "markdown",
   "id": "fe1f64d5-fa21-4058-a204-bb486bfc26a1",
   "metadata": {},
   "source": [
    "# raise"
   ]
  },
  {
   "cell_type": "code",
   "execution_count": 47,
   "id": "0b243961-58fc-4285-9200-c1ae347783db",
   "metadata": {},
   "outputs": [
    {
     "ename": "ValueError",
     "evalue": "my custom error",
     "output_type": "error",
     "traceback": [
      "\u001b[1;31m---------------------------------------------------------------------------\u001b[0m",
      "\u001b[1;31mValueError\u001b[0m                                Traceback (most recent call last)",
      "Cell \u001b[1;32mIn[47], line 1\u001b[0m\n\u001b[1;32m----> 1\u001b[0m \u001b[38;5;28;01mraise\u001b[39;00m \u001b[38;5;167;01mValueError\u001b[39;00m(\u001b[38;5;124m'\u001b[39m\u001b[38;5;124mmy custom error\u001b[39m\u001b[38;5;124m'\u001b[39m)\n",
      "\u001b[1;31mValueError\u001b[0m: my custom error"
     ]
    }
   ],
   "source": [
    "raise ValueError('my custom error')"
   ]
  },
  {
   "cell_type": "markdown",
   "id": "ae7827d8-56db-4a94-8d2e-f4ffd10b4756",
   "metadata": {},
   "source": [
    "# return"
   ]
  },
  {
   "cell_type": "code",
   "execution_count": 61,
   "id": "c892d022-9c3f-4d9d-9cae-8e71544952fe",
   "metadata": {},
   "outputs": [
    {
     "name": "stdout",
     "output_type": "stream",
     "text": [
      "2\n"
     ]
    }
   ],
   "source": [
    "def addtion(a, b):\n",
    "    c = a + b\n",
    "    return c\n",
    "\n",
    "print(addtion(1,1))\n"
   ]
  },
  {
   "cell_type": "code",
   "execution_count": 62,
   "id": "959ed9da-19d7-46de-a96d-eb59a84b41cb",
   "metadata": {},
   "outputs": [],
   "source": [
    "# global is for variable name\n",
    "# return is for function result(value)"
   ]
  },
  {
   "cell_type": "markdown",
   "id": "5ac29a24-6729-4487-8d9d-0919e69ec010",
   "metadata": {},
   "source": [
    "# while"
   ]
  },
  {
   "cell_type": "code",
   "execution_count": 2,
   "id": "cf1630d2-4a25-45b6-8ccc-d5c2fa90e9db",
   "metadata": {},
   "outputs": [
    {
     "name": "stdout",
     "output_type": "stream",
     "text": [
      "hello\n",
      "hello\n",
      "hello\n",
      "hello\n",
      "hello\n",
      "hello\n",
      "hello\n",
      "hello\n",
      "hello\n",
      "hello\n"
     ]
    }
   ],
   "source": [
    "a = 10\n",
    "while a>0:\n",
    "    print('hello')\n",
    "    a = a - 1\n",
    "    "
   ]
  },
  {
   "cell_type": "markdown",
   "id": "86f5e57b-2076-4915-b7ad-0ae0c99539a0",
   "metadata": {},
   "source": [
    "# with "
   ]
  },
  {
   "cell_type": "code",
   "execution_count": 3,
   "id": "11ff1837-d48c-4a79-9c32-5db8d392b57b",
   "metadata": {},
   "outputs": [
    {
     "ename": "FileNotFoundError",
     "evalue": "[Errno 2] No such file or directory: 'myfile.txt'",
     "output_type": "error",
     "traceback": [
      "\u001b[1;31m---------------------------------------------------------------------------\u001b[0m",
      "\u001b[1;31mFileNotFoundError\u001b[0m                         Traceback (most recent call last)",
      "Cell \u001b[1;32mIn[3], line 2\u001b[0m\n\u001b[0;32m      1\u001b[0m \u001b[38;5;66;03m# Using 'with' to automatically close a file after reading\u001b[39;00m\n\u001b[1;32m----> 2\u001b[0m \u001b[38;5;28;01mwith\u001b[39;00m \u001b[38;5;28;43mopen\u001b[39;49m\u001b[43m(\u001b[49m\u001b[38;5;124;43m\"\u001b[39;49m\u001b[38;5;124;43mmyfile.txt\u001b[39;49m\u001b[38;5;124;43m\"\u001b[39;49m\u001b[43m,\u001b[49m\u001b[43m \u001b[49m\u001b[38;5;124;43m\"\u001b[39;49m\u001b[38;5;124;43mr\u001b[39;49m\u001b[38;5;124;43m\"\u001b[39;49m\u001b[43m)\u001b[49m \u001b[38;5;28;01mas\u001b[39;00m file:\n\u001b[0;32m      3\u001b[0m     content \u001b[38;5;241m=\u001b[39m file\u001b[38;5;241m.\u001b[39mread()\n\u001b[0;32m      4\u001b[0m     \u001b[38;5;66;03m# Perform operations on 'content'\u001b[39;00m\n\u001b[0;32m      5\u001b[0m \n\u001b[0;32m      6\u001b[0m \u001b[38;5;66;03m# 'file' is automatically closed outside the 'with' block\u001b[39;00m\n",
      "File \u001b[1;32mC:\\Python\\lib\\site-packages\\IPython\\core\\interactiveshell.py:282\u001b[0m, in \u001b[0;36m_modified_open\u001b[1;34m(file, *args, **kwargs)\u001b[0m\n\u001b[0;32m    275\u001b[0m \u001b[38;5;28;01mif\u001b[39;00m file \u001b[38;5;129;01min\u001b[39;00m {\u001b[38;5;241m0\u001b[39m, \u001b[38;5;241m1\u001b[39m, \u001b[38;5;241m2\u001b[39m}:\n\u001b[0;32m    276\u001b[0m     \u001b[38;5;28;01mraise\u001b[39;00m \u001b[38;5;167;01mValueError\u001b[39;00m(\n\u001b[0;32m    277\u001b[0m         \u001b[38;5;124mf\u001b[39m\u001b[38;5;124m\"\u001b[39m\u001b[38;5;124mIPython won\u001b[39m\u001b[38;5;124m'\u001b[39m\u001b[38;5;124mt let you open fd=\u001b[39m\u001b[38;5;132;01m{\u001b[39;00mfile\u001b[38;5;132;01m}\u001b[39;00m\u001b[38;5;124m by default \u001b[39m\u001b[38;5;124m\"\u001b[39m\n\u001b[0;32m    278\u001b[0m         \u001b[38;5;124m\"\u001b[39m\u001b[38;5;124mas it is likely to crash IPython. If you know what you are doing, \u001b[39m\u001b[38;5;124m\"\u001b[39m\n\u001b[0;32m    279\u001b[0m         \u001b[38;5;124m\"\u001b[39m\u001b[38;5;124myou can use builtins\u001b[39m\u001b[38;5;124m'\u001b[39m\u001b[38;5;124m open.\u001b[39m\u001b[38;5;124m\"\u001b[39m\n\u001b[0;32m    280\u001b[0m     )\n\u001b[1;32m--> 282\u001b[0m \u001b[38;5;28;01mreturn\u001b[39;00m io_open(file, \u001b[38;5;241m*\u001b[39margs, \u001b[38;5;241m*\u001b[39m\u001b[38;5;241m*\u001b[39mkwargs)\n",
      "\u001b[1;31mFileNotFoundError\u001b[0m: [Errno 2] No such file or directory: 'myfile.txt'"
     ]
    }
   ],
   "source": [
    "# Using 'with' to automatically close a file after reading\n",
    "with open(\"myfile.txt\", \"r\") as file:\n",
    "    content = file.read()\n",
    "    # Perform operations on 'content'\n",
    "\n",
    "# 'file' is automatically closed outside the 'with' block"
   ]
  },
  {
   "cell_type": "markdown",
   "id": "4d4034b0-b8e5-426f-bfd8-90a4aac69c3c",
   "metadata": {},
   "source": [
    "# yeild"
   ]
  },
  {
   "cell_type": "code",
   "execution_count": 7,
   "id": "da57d108-5b0a-4af1-9167-54832d59d52d",
   "metadata": {},
   "outputs": [],
   "source": [
    "list = [1,2,3]\n",
    "def square(list_temp):\n",
    "    for i in list_temp:\n",
    "        yield i **2\n",
    "\n",
    "result = square(list)"
   ]
  },
  {
   "cell_type": "code",
   "execution_count": 10,
   "id": "4d8d3c0b-1d80-433b-aa99-5d0d0a4a0f68",
   "metadata": {},
   "outputs": [
    {
     "data": {
      "text/plain": [
       "9"
      ]
     },
     "execution_count": 10,
     "metadata": {},
     "output_type": "execute_result"
    }
   ],
   "source": [
    "next(result)"
   ]
  }
 ],
 "metadata": {
  "kernelspec": {
   "display_name": "Python 3 (ipykernel)",
   "language": "python",
   "name": "python3"
  },
  "language_info": {
   "codemirror_mode": {
    "name": "ipython",
    "version": 3
   },
   "file_extension": ".py",
   "mimetype": "text/x-python",
   "name": "python",
   "nbconvert_exporter": "python",
   "pygments_lexer": "ipython3",
   "version": "3.10.9"
  }
 },
 "nbformat": 4,
 "nbformat_minor": 5
}
