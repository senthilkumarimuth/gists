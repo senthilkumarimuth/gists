{
 "cells": [
  {
   "cell_type": "markdown",
   "id": "34a46077",
   "metadata": {},
   "source": [
    "# Lazy loading"
   ]
  },
  {
   "cell_type": "markdown",
   "id": "fc4cddaa",
   "metadata": {},
   "source": [
    "Spark's Lazy Evaluation:\n",
    "\n",
    "Spark, the engine powering Databricks, uses lazy evaluation for DataFrame operations. This means that transformations (e.g., filter, join, groupBy) are not executed immediately when defined. Instead, Spark builds a logical execution plan (a directed acyclic graph, or DAG) and defers computation until an action is triggered.\n",
    "\n",
    "Actions are operations that force Spark to execute the plan and produce a result. Examples include collect(), count(), show(), and display()."
   ]
  },
  {
   "cell_type": "markdown",
   "id": "81b154e1",
   "metadata": {},
   "source": [
    "# Best Practice"
   ]
  },
  {
   "cell_type": "markdown",
   "id": "7f960246",
   "metadata": {},
   "source": [
    "- use windows function to partition so as to avoid loops or agg functions.\n",
    "- use variable explorer in databricks to view variables instead of using print statement or display everywhere\n",
    "- use debug option in databricks to debug\n",
    "- variables are overidden with error message object when there is an error instead 'variable not found' or displaying previous state of the variable.\n",
    "- to use profiling, use restart python option after installing ydata\n",
    "\n",
    "    !pip install ydata-profiling[pyspark]\n",
    "\n",
    "    !pip install --upgrade pandas\n",
    "\n",
    "    %restart_python\n",
    "\n",
    "-- drop might cause for empty df when drop from pyspark. please handle drop with caustion, especially when the column is used for join and also gets dropped after join.\n"
   ]
  },
  {
   "cell_type": "markdown",
   "id": "22370738",
   "metadata": {},
   "source": []
  },
  {
   "cell_type": "code",
   "execution_count": null,
   "id": "dc121ab0",
   "metadata": {
    "vscode": {
     "languageId": "plaintext"
    }
   },
   "outputs": [],
   "source": []
  }
 ],
 "metadata": {
  "language_info": {
   "name": "python"
  }
 },
 "nbformat": 4,
 "nbformat_minor": 5
}
