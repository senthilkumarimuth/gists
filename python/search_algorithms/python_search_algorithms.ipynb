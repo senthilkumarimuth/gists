{
 "cells": [
  {
   "cell_type": "markdown",
   "id": "e33774c1-1d93-4db9-851f-4fe29de1bb8e",
   "metadata": {},
   "source": [
    "# linear search"
   ]
  },
  {
   "cell_type": "code",
   "execution_count": 1,
   "id": "6c54fbda-930d-42ab-a447-de5ace7f51fa",
   "metadata": {},
   "outputs": [
    {
     "name": "stdout",
     "output_type": "stream",
     "text": [
      "Target 7 found at index 2.\n"
     ]
    }
   ],
   "source": [
    "def linear_search(arr, target):\n",
    "    \"\"\"\n",
    "    Perform linear search to find the target in the given array.\n",
    "\n",
    "    Parameters:\n",
    "    - arr (list): The list to be searched.\n",
    "    - target: The value to be found.\n",
    "\n",
    "    Returns:\n",
    "    - index: The index of the target value if found, otherwise -1.\n",
    "    \"\"\"\n",
    "    for i in range(len(arr)):\n",
    "        if arr[i] == target:\n",
    "            return i  # Return the index where target is found\n",
    "    return -1  # Target not found\n",
    "\n",
    "# Example usage:\n",
    "my_list = [4, 2, 7, 1, 9, 5]\n",
    "target_value = 7\n",
    "index = linear_search(my_list, target_value)\n",
    "\n",
    "if index != -1:\n",
    "    print(f\"Target {target_value} found at index {index}.\")\n",
    "else:\n",
    "    print(f\"Target {target_value} not found.\")\n"
   ]
  },
  {
   "cell_type": "markdown",
   "id": "945e0fb4-4516-4d9b-a4b5-f97b7de2d2af",
   "metadata": {},
   "source": [
    "# binary search"
   ]
  },
  {
   "cell_type": "code",
   "execution_count": 2,
   "id": "6e253b06-d6a8-49e9-940a-2160266f00cf",
   "metadata": {},
   "outputs": [
    {
     "name": "stdout",
     "output_type": "stream",
     "text": [
      "Target 7 found at index 6.\n"
     ]
    }
   ],
   "source": [
    "def binary_search(arr, target):\n",
    "    \"\"\"\n",
    "    Perform binary search to find the target in the given sorted array.\n",
    "\n",
    "    Parameters:\n",
    "    - arr (list): The sorted list to be searched.\n",
    "    - target: The value to be found.\n",
    "\n",
    "    Returns:\n",
    "    - index: The index of the target value if found, otherwise -1.\n",
    "    \"\"\"\n",
    "    low = 0\n",
    "    high = len(arr) - 1\n",
    "\n",
    "    while low <= high:\n",
    "        mid = (low + high) // 2\n",
    "        mid_value = arr[mid]\n",
    "\n",
    "        if mid_value == target:\n",
    "            return mid  # Return the index where target is found\n",
    "        elif mid_value < target:\n",
    "            low = mid + 1  # Search in the right half\n",
    "        else:\n",
    "            high = mid - 1  # Search in the left half\n",
    "\n",
    "    return -1  # Target not found\n",
    "\n",
    "# Example usage:\n",
    "sorted_list = [1, 2, 3, 4, 5, 6, 7, 8, 9, 10]\n",
    "target_value = 7\n",
    "index = binary_search(sorted_list, target_value)\n",
    "\n",
    "if index != -1:\n",
    "    print(f\"Target {target_value} found at index {index}.\")\n",
    "else:\n",
    "    print(f\"Target {target_value} not found.\")\n"
   ]
  },
  {
   "cell_type": "markdown",
   "id": "55912b37-abb4-492c-a5ff-b16761d744ac",
   "metadata": {},
   "source": [
    "# Depth-First Search"
   ]
  },
  {
   "cell_type": "code",
   "execution_count": 3,
   "id": "caabccf0-9b30-45c0-bc17-a7b7a163646e",
   "metadata": {},
   "outputs": [
    {
     "name": "stdout",
     "output_type": "stream",
     "text": [
      "DFS traversal starting from node A : ['A', 'B', 'D', 'E', 'F', 'C']\n"
     ]
    }
   ],
   "source": [
    "def dfs(graph, start, visited=None):\n",
    "    \"\"\"\n",
    "    Perform Depth-First Search (DFS) on a graph represented using an adjacency list.\n",
    "\n",
    "    Parameters:\n",
    "    - graph (dict): The graph represented as an adjacency list.\n",
    "    - start: The starting node for DFS traversal.\n",
    "    - visited (set): A set to keep track of visited nodes. (optional)\n",
    "\n",
    "    Returns:\n",
    "    - visited_nodes (list): The list of visited nodes in the order of traversal.\n",
    "    \"\"\"\n",
    "    if visited is None:\n",
    "        visited = set()\n",
    "\n",
    "    visited.add(start)\n",
    "    visited_nodes = [start]\n",
    "\n",
    "    for neighbor in graph.get(start, []):\n",
    "        if neighbor not in visited:\n",
    "            visited_nodes.extend(dfs(graph, neighbor, visited))\n",
    "\n",
    "    return visited_nodes\n",
    "\n",
    "# Example usage:\n",
    "graph = {\n",
    "    'A': ['B', 'C'],\n",
    "    'B': ['D', 'E'],\n",
    "    'C': ['F'],\n",
    "    'D': [],\n",
    "    'E': ['F'],\n",
    "    'F': []\n",
    "}\n",
    "start_node = 'A'\n",
    "visited_nodes = dfs(graph, start_node)\n",
    "\n",
    "print(\"DFS traversal starting from node\", start_node, \":\", visited_nodes)\n"
   ]
  },
  {
   "cell_type": "code",
   "execution_count": null,
   "id": "36d43d71-03c5-4e5a-9554-6ff3514cdbb0",
   "metadata": {},
   "outputs": [],
   "source": []
  }
 ],
 "metadata": {
  "kernelspec": {
   "display_name": "Python 3 (ipykernel)",
   "language": "python",
   "name": "python3"
  },
  "language_info": {
   "codemirror_mode": {
    "name": "ipython",
    "version": 3
   },
   "file_extension": ".py",
   "mimetype": "text/x-python",
   "name": "python",
   "nbconvert_exporter": "python",
   "pygments_lexer": "ipython3",
   "version": "3.10.9"
  }
 },
 "nbformat": 4,
 "nbformat_minor": 5
}
