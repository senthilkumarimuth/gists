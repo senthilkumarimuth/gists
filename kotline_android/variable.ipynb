{
 "cells": [
  {
   "cell_type": "markdown",
   "id": "32cf8689-b4a4-4788-862d-b81243744717",
   "metadata": {},
   "source": [
    "# var or val"
   ]
  },
  {
   "cell_type": "code",
   "execution_count": 2,
   "id": "ad39a075-36d9-4122-a171-7731f462a7da",
   "metadata": {},
   "outputs": [
    {
     "name": "stdout",
     "output_type": "stream",
     "text": [
      "10\n",
      "20\n"
     ]
    }
   ],
   "source": [
    "// To create a varaible var or val can be used\n",
    "\n",
    "// The difference between var and val is that variables declared with the var keyword can be changed/modified, while val variables cannot.\n",
    "\n",
    "var a = 10\n",
    "var b = 20\n",
    "println(a)\n",
    "println(b)\n",
    "\n",
    "/* Unlike many other programming languages, variables in Kotlin do not need to be declared with a specified type \n",
    "(like \"String\" for text or \"Int\" for numbers, if you are familiar with those). */"
   ]
  },
  {
   "cell_type": "markdown",
   "id": "7f10b128-2349-4e78-bbb1-bb1532c23d37",
   "metadata": {},
   "source": [
    "# we can assing type of variable if we want"
   ]
  },
  {
   "cell_type": "code",
   "execution_count": 3,
   "id": "69c5b586-8e47-4a09-9cfd-f2af638f14f1",
   "metadata": {},
   "outputs": [
    {
     "name": "stdout",
     "output_type": "stream",
     "text": [
      "John\n"
     ]
    }
   ],
   "source": [
    "// You can also declare a variable without assigning the value, and assign the value later. However, this is only possible when you specify the type:\n",
    "\n",
    "var name: String\n",
    "name = \"John\"\n",
    "println(name)"
   ]
  },
  {
   "cell_type": "code",
   "execution_count": 4,
   "id": "1afec415-b86a-49c5-85dd-184240551d76",
   "metadata": {},
   "outputs": [
    {
     "name": "stderr",
     "output_type": "stream",
     "text": [
      "Line_3.jupyter.kts (3:1 - 9) This property must either have a type annotation, be initialized or be delegated\n",
      "Line_3.jupyter.kts (5:1 - 8) Overload resolution ambiguity: \n",
      "public inline fun println(message: Any?): Unit defined in kotlin.io\n",
      "public inline fun println(message: Boolean): Unit defined in kotlin.io\n",
      "public inline fun println(message: Byte): Unit defined in kotlin.io\n",
      "public inline fun println(message: Char): Unit defined in kotlin.io\n",
      "public inline fun println(message: CharArray): Unit defined in kotlin.io\n",
      "public inline fun println(message: Double): Unit defined in kotlin.io\n",
      "public inline fun println(message: Float): Unit defined in kotlin.io\n",
      "public inline fun println(message: Int): Unit defined in kotlin.io\n",
      "public inline fun println(message: Long): Unit defined in kotlin.io\n",
      "public inline fun println(message: Short): Unit defined in kotlin.io"
     ]
    }
   ],
   "source": [
    "// This is not possible\n",
    "\n",
    "var name\n",
    "name = \"John\"\n",
    "println(name)"
   ]
  },
  {
   "cell_type": "markdown",
   "id": "facf7e91-f21b-4d7e-8405-b1a5d24dc1db",
   "metadata": {},
   "source": [
    "# Best practices for variable name"
   ]
  },
  {
   "cell_type": "markdown",
   "id": "fcdde6db-7f44-450d-819c-9b1101f1fc41",
   "metadata": {},
   "source": [
    "A variable can have a short name (like x and y) or more descriptive names (age, sum, totalVolume).\n",
    "\n",
    "The general rule for Kotlin variables are:\n",
    "\n",
    "    Names can contain letters, digits, underscores, and dollar signs\n",
    "    \n",
    "    Names should start with a letter\n",
    "    \n",
    "    Names can also begin with $ and _ (but we will not use it in this tutorial)\n",
    "    \n",
    "    Names are case sensitive (\"myVar\" and \"myvar\" are different variables)\n",
    "    \n",
    "    Names should start with a lowercase letter and it cannot contain whitespace\n",
    "    \n",
    "    Reserved words (like Kotlin keywords, such as var or String) cannot be used as names"
   ]
  },
  {
   "cell_type": "code",
   "execution_count": null,
   "id": "33bbf01b-d404-4c08-93be-847160919bca",
   "metadata": {},
   "outputs": [],
   "source": []
  }
 ],
 "metadata": {
  "kernelspec": {
   "display_name": "Kotlin",
   "language": "kotlin",
   "name": "kotlin"
  },
  "language_info": {
   "codemirror_mode": "text/x-kotlin",
   "file_extension": ".kt",
   "mimetype": "text/x-kotlin",
   "name": "kotlin",
   "nbconvert_exporter": "",
   "pygments_lexer": "kotlin",
   "version": "1.8.20"
  }
 },
 "nbformat": 4,
 "nbformat_minor": 5
}
