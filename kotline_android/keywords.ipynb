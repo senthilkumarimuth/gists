{
 "cells": [
  {
   "cell_type": "markdown",
   "id": "ad6603c3-e1bf-41f2-85f8-6ec89666c917",
   "metadata": {},
   "source": [
    "# fun"
   ]
  },
  {
   "cell_type": "code",
   "execution_count": 9,
   "id": "0a052c15-3d42-49ed-a7cb-be3ecbb3f47f",
   "metadata": {},
   "outputs": [
    {
     "name": "stdout",
     "output_type": "stream",
     "text": [
      "hello world\n"
     ]
    }
   ],
   "source": [
    "fun main1() {\n",
    "    println(\"hello world\")\n",
    "}\n",
    "\n",
    "main1()"
   ]
  },
  {
   "cell_type": "markdown",
   "id": "92d336df-3893-4d06-96f1-104daece98ab",
   "metadata": {},
   "source": [
    "# println"
   ]
  },
  {
   "cell_type": "code",
   "execution_count": 7,
   "id": "6738ce3a-3d98-4ee8-8a5f-1fca9fa9dc58",
   "metadata": {},
   "outputs": [
    {
     "name": "stdout",
     "output_type": "stream",
     "text": [
      "The value of x is 10\n"
     ]
    }
   ],
   "source": [
    "val x = 10\n",
    "println(\"The value of x is $x\")\n"
   ]
  },
  {
   "cell_type": "code",
   "execution_count": null,
   "id": "7d99259c-ca26-4267-b0f4-f23ed8004f21",
   "metadata": {},
   "outputs": [],
   "source": [
    "// you can add varaible inside print as below\n",
    "println('My name is'"
   ]
  },
  {
   "cell_type": "code",
   "execution_count": 14,
   "id": "98ce3a44-5c6a-43f1-9155-d2d52283e0ec",
   "metadata": {},
   "outputs": [
    {
     "name": "stdout",
     "output_type": "stream",
     "text": [
      "20\n"
     ]
    }
   ],
   "source": [
    "// you can do math inside print\n",
    "println(10 + 10)"
   ]
  },
  {
   "cell_type": "markdown",
   "id": "9756a3b0-4caf-4810-8dcd-4b2dd4c658f3",
   "metadata": {},
   "source": [
    "# //"
   ]
  },
  {
   "cell_type": "code",
   "execution_count": 11,
   "id": "a61ecd7f-d4dc-4e15-8803-b554275dcded",
   "metadata": {},
   "outputs": [
    {
     "name": "stdout",
     "output_type": "stream",
     "text": [
      "This is example for //\n"
     ]
    }
   ],
   "source": [
    "// applies comment. similar to # in python\n",
    "println(\"This is example for //\")"
   ]
  },
  {
   "cell_type": "markdown",
   "id": "7ac10cf6-21e3-4b54-8593-a9bab6ab282f",
   "metadata": {},
   "source": [
    "# /* */"
   ]
  },
  {
   "cell_type": "code",
   "execution_count": 13,
   "id": "ddbb2ec1-6bbb-4f7b-b764-54274d4a67b4",
   "metadata": {},
   "outputs": [
    {
     "name": "stdout",
     "output_type": "stream",
     "text": [
      "This is example for /**/\n"
     ]
    }
   ],
   "source": [
    "/* applies comment. line 1\n",
    "This is line 2 */\n",
    "\n",
    "println(\"This is example for /**/\")"
   ]
  },
  {
   "cell_type": "code",
   "execution_count": null,
   "id": "af8c59f0-1e30-4d5f-9848-d70e399fc291",
   "metadata": {},
   "outputs": [],
   "source": []
  }
 ],
 "metadata": {
  "kernelspec": {
   "display_name": "Kotlin",
   "language": "kotlin",
   "name": "kotlin"
  },
  "language_info": {
   "codemirror_mode": "text/x-kotlin",
   "file_extension": ".kt",
   "mimetype": "text/x-kotlin",
   "name": "kotlin",
   "nbconvert_exporter": "",
   "pygments_lexer": "kotlin",
   "version": "1.8.20"
  }
 },
 "nbformat": 4,
 "nbformat_minor": 5
}
