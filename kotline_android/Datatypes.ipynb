{
 "cells": [
  {
   "attachments": {},
   "cell_type": "markdown",
   "id": "49985dac-253d-429f-91c0-d53c5081caf5",
   "metadata": {},
   "source": [
    "# Following are the data types availablerays"
   ]
  },
  {
   "cell_type": "markdown",
   "id": "bcdede27-69bd-439e-9aaf-d8f0d80171cd",
   "metadata": {},
   "source": [
    "Numbers\n",
    "\n",
    "Characters\n",
    "\n",
    "Booleans\n",
    "\n",
    "Strings\n",
    "\n",
    "Arrays"
   ]
  },
  {
   "cell_type": "markdown",
   "id": "a3ef9dd5-5553-4ec3-bd36-2d7f920c75c4",
   "metadata": {},
   "source": [
    "# Numbers"
   ]
  },
  {
   "cell_type": "markdown",
   "id": "4ed5f956-be6c-430a-81a9-ac6468e9802e",
   "metadata": {},
   "source": [
    "Number types are divided into two groups:\n",
    "\n",
    "Integer types store whole numbers, positive or negative (such as 123 or -456), without decimals. Valid types are\n",
    ">Byte, Short, Int and Long.\n",
    "\n",
    "Floating point types represent numbers with a fractional part, containing one or more decimals. There are two types: \n",
    ">Float and Double."
   ]
  },
  {
   "cell_type": "markdown",
   "id": "0d5685d4-982b-4cb9-863b-d441c798b3ce",
   "metadata": {},
   "source": [
    "Note: If you don't specify the type for a numeric variable, it is most often returned as Int for whole numbers and Double for floating point numbers."
   ]
  },
  {
   "cell_type": "markdown",
   "id": "1e4335d6-5c0b-4c15-8d8e-5fd592924212",
   "metadata": {},
   "source": [
    "### Integer Types\n",
    "Byte\n",
    "\n",
    "The Byte data type can store whole numbers from -128 to 127. This can be used instead of Int or other integer types to save memory when you are certain that the value will be within -128 and 127:"
   ]
  },
  {
   "cell_type": "code",
   "execution_count": 4,
   "id": "08c4ed16-b7cb-4044-b82c-8701e36c7a7d",
   "metadata": {},
   "outputs": [
    {
     "name": "stdout",
     "output_type": "stream",
     "text": [
      "100\n"
     ]
    }
   ],
   "source": [
    "var x: Byte = 100\n",
    "println(x)"
   ]
  },
  {
   "cell_type": "markdown",
   "id": "edc582b3-4ac2-4cd9-bd67-db362d37a1ac",
   "metadata": {},
   "source": [
    "Short\n",
    "\n",
    "The Short data type can store whole numbers from -32768 to 32767:\r",
    "\r\n"
   ]
  },
  {
   "cell_type": "code",
   "execution_count": 6,
   "id": "5cbdb027-02dd-4511-a234-b28ec9616160",
   "metadata": {},
   "outputs": [
    {
     "name": "stdout",
     "output_type": "stream",
     "text": [
      "5000\n"
     ]
    }
   ],
   "source": [
    "val myNum: Short = 5000\n",
    "println(myNum)"
   ]
  },
  {
   "cell_type": "markdown",
   "id": "65b1426c-4974-47ca-a3a8-ef140264d969",
   "metadata": {},
   "source": [
    "Int\n",
    "\n",
    "The Int data type can store whole numbers from -2147483648 to 2147483647:\n"
   ]
  },
  {
   "cell_type": "code",
   "execution_count": 9,
   "id": "62ba0c02-8103-4ea1-aea3-c40a42fa63d9",
   "metadata": {},
   "outputs": [
    {
     "name": "stdout",
     "output_type": "stream",
     "text": [
      "100000\n"
     ]
    }
   ],
   "source": [
    "val myNum: Int = 100000\r\n",
    "println(myNum)"
   ]
  },
  {
   "cell_type": "markdown",
   "id": "a4129482-8847-4fc9-bb8f-451e248bf485",
   "metadata": {},
   "source": [
    "Long\n",
    "\n",
    "The Long data type can store whole numbers from -9223372036854775807 to 9223372036854775807. This is used when Int is not large enough to store the value. Optionally, you can end the value with an \"L\":"
   ]
  },
  {
   "cell_type": "code",
   "execution_count": 8,
   "id": "8e93240e-2b6a-4286-a781-d7c058112f2a",
   "metadata": {},
   "outputs": [
    {
     "name": "stdout",
     "output_type": "stream",
     "text": [
      "15000000000\n"
     ]
    }
   ],
   "source": [
    "val myNum: Long = 15000000000L\n",
    "println(myNum)"
   ]
  },
  {
   "cell_type": "markdown",
   "id": "20d27f02-2d2a-48c8-8157-e9705cc9a4c2",
   "metadata": {},
   "source": [
    "Difference Between Int and Long:\n",
    "\r\n",
    "A whole number is an Int as long as it is up to 2147483647. If it goes beyond that, it is defined as Long:"
   ]
  },
  {
   "cell_type": "code",
   "execution_count": 10,
   "id": "0fad0d43-d421-4c9c-ace5-3f55cfeb95de",
   "metadata": {},
   "outputs": [],
   "source": [
    "val myNum1 = 2147483647  // Int\n",
    "val myNum2 = 2147483648  // Long"
   ]
  },
  {
   "cell_type": "markdown",
   "id": "71ab7fbf-8647-4b6d-9de4-23f802f1db1d",
   "metadata": {},
   "source": [
    "### Floating Point Types"
   ]
  },
  {
   "cell_type": "markdown",
   "id": "36cc8812-dac5-4fe7-a0d6-0225ac042c40",
   "metadata": {},
   "source": [
    "The Float and Double data types can store fractional numbers:\n"
   ]
  },
  {
   "cell_type": "code",
   "execution_count": 11,
   "id": "9ac009b4-a0ec-4a73-b41a-83cc786823df",
   "metadata": {},
   "outputs": [
    {
     "name": "stdout",
     "output_type": "stream",
     "text": [
      "5.75\n"
     ]
    }
   ],
   "source": [
    "val myNum: Float = 5.75F\n",
    "println(myNum)"
   ]
  },
  {
   "cell_type": "markdown",
   "id": "a0a08920-04b9-41c7-a73f-b7c5f17c774b",
   "metadata": {},
   "source": [
    "Note that you should end the value of a Float type with an \"F\"."
   ]
  },
  {
   "cell_type": "code",
   "execution_count": 12,
   "id": "32394134-dc48-493f-a61d-6f8a30a454dd",
   "metadata": {},
   "outputs": [
    {
     "name": "stdout",
     "output_type": "stream",
     "text": [
      "19.99\n"
     ]
    }
   ],
   "source": [
    "val myNum: Double = 19.99\n",
    "println(myNum)"
   ]
  },
  {
   "cell_type": "markdown",
   "id": "2c4895d5-0c86-4d55-a314-03c75156911c",
   "metadata": {},
   "source": [
    "Use Float or Double?\n",
    "\n",
    "The precision of a floating point value indicates how many digits the value can have after the decimal point. The precision of Float is only six or seven decimal digits, while Double variables have a precision of about 15 digits. Therefore it is safer to use Double for most calculations."
   ]
  },
  {
   "cell_type": "markdown",
   "id": "49641883-e77b-4ba5-8b42-168db259420f",
   "metadata": {},
   "source": [
    "Scientific Numbers\n",
    "\n",
    "A floating point number can also be a scientific number with an \"e\" or \"E\" to indicate the power of 10:\r\n",
    "\r\n"
   ]
  },
  {
   "cell_type": "code",
   "execution_count": 14,
   "id": "c9cb32f6-15b5-4536-9627-64cb2a5bb995",
   "metadata": {},
   "outputs": [
    {
     "name": "stdout",
     "output_type": "stream",
     "text": [
      "35000.0\n",
      "120000.0\n"
     ]
    }
   ],
   "source": [
    "val myNum1: Float = 35E3F\n",
    "val myNum2: Double = 12E4\n",
    "println(myNum1)\n",
    "println(myNum2)"
   ]
  },
  {
   "cell_type": "markdown",
   "id": "6f5f87f9-136f-457f-94a3-26efc0a161e2",
   "metadata": {},
   "source": [
    "# Booleans\n",
    "The Boolean data type and can only take the values true or false:"
   ]
  },
  {
   "cell_type": "code",
   "execution_count": 15,
   "id": "88a08a4b-f41b-4984-a371-f32c7e00e112",
   "metadata": {},
   "outputs": [
    {
     "name": "stdout",
     "output_type": "stream",
     "text": [
      "true\n",
      "false\n"
     ]
    }
   ],
   "source": [
    "val isKotlinFun: Boolean = true\n",
    "val isFishTasty: Boolean = false\n",
    "println(isKotlinFun)   // Outputs true\n",
    "println(isFishTasty)   // Outputs false "
   ]
  },
  {
   "cell_type": "markdown",
   "id": "a74b2617-6401-415d-9232-35bfe168f03e",
   "metadata": {},
   "source": [
    "# Characters\n",
    "\r\n",
    "The Char data type is used to store a single character. A char value must be surrounded by single quotes, like 'A' or 'c':"
   ]
  },
  {
   "cell_type": "code",
   "execution_count": 16,
   "id": "d9c982f4-496f-4f09-bf6c-405578946a38",
   "metadata": {},
   "outputs": [
    {
     "name": "stdout",
     "output_type": "stream",
     "text": [
      "B\n"
     ]
    }
   ],
   "source": [
    "val myGrade: Char = 'B'\n",
    "println(myGrade)"
   ]
  },
  {
   "cell_type": "markdown",
   "id": "c5cc7a30-57da-4228-8ea4-05fb96c9cd47",
   "metadata": {},
   "source": [
    "Note: Unlike Java, you cannot use ASCII values to display certain characters. The value 66 would output a \"B\" in Java, but will generate an error in Kotlin"
   ]
  },
  {
   "cell_type": "code",
   "execution_count": 17,
   "id": "aa2f3960-6c2a-48e6-a82c-7cc014e23aa7",
   "metadata": {},
   "outputs": [
    {
     "name": "stderr",
     "output_type": "stream",
     "text": [
      "Line_16.jupyter.kts (1:22 - 24) The integer literal does not conform to the expected type Char"
     ]
    }
   ],
   "source": [
    "val myLetter: Char = 66\n",
    "println(myLetter) // Error"
   ]
  },
  {
   "cell_type": "markdown",
   "id": "ff09dc50-02c2-4cbc-a876-799131af1dc7",
   "metadata": {},
   "source": [
    "# Strings\n",
    "\r\n",
    "The String data type is used to store a sequence of characters (text). String values must be surrounded by double quotes:"
   ]
  },
  {
   "cell_type": "code",
   "execution_count": 18,
   "id": "844279ae-f724-4c20-84cc-518e888135bc",
   "metadata": {},
   "outputs": [
    {
     "name": "stdout",
     "output_type": "stream",
     "text": [
      "Hello World\n"
     ]
    }
   ],
   "source": [
    "val myText: String = \"Hello World\"\n",
    "println(myText)"
   ]
  },
  {
   "cell_type": "markdown",
   "id": "89ddc815-b76a-41d6-84e8-d9631554be89",
   "metadata": {},
   "source": [
    "# Arrays\n",
    "\n",
    "Arrays are used to store multiple values in a single variable, instead of declaring separate variables for each value."
   ]
  },
  {
   "cell_type": "markdown",
   "id": "829adb07-81c4-4b2f-94ba-19e49047cbb0",
   "metadata": {},
   "source": [
    "# Type Conversion\n",
    "\n",
    "Type conversion is when you convert the value of one data type to another type.\n",
    "\n",
    "In Kotlin, numeric type conversion is different from Java. For example, it is not possible to convert an Int type to a Long type with the following code:"
   ]
  },
  {
   "cell_type": "code",
   "execution_count": 19,
   "id": "b3167a54-1ec8-4946-81fd-28fc4eff592a",
   "metadata": {},
   "outputs": [
    {
     "name": "stderr",
     "output_type": "stream",
     "text": [
      "Line_18.jupyter.kts (2:15 - 16) Type mismatch: inferred type is Int but Long was expected"
     ]
    }
   ],
   "source": [
    "val x: Int = 5\n",
    "val y: Long = x\n",
    "println(y) // Error: Type mismatch "
   ]
  },
  {
   "cell_type": "markdown",
   "id": "bee7e0be-866c-457f-b3d1-bb1369aff51a",
   "metadata": {},
   "source": [
    "To convert a numeric data type to another type, you must use one of the following functions: toByte(), toShort(), toInt(), toLong(), toFloat(), toDouble() or toChar():"
   ]
  },
  {
   "cell_type": "code",
   "execution_count": 20,
   "id": "6b314154-9e4c-4041-b108-4d85e7255efd",
   "metadata": {},
   "outputs": [
    {
     "name": "stdout",
     "output_type": "stream",
     "text": [
      "5\n"
     ]
    }
   ],
   "source": [
    "val x: Int = 5\n",
    "val y: Long = x.toLong()\n",
    "println(y)"
   ]
  },
  {
   "cell_type": "code",
   "execution_count": null,
   "id": "2bd4cf2c-df5f-4a7b-8618-2716ff8e451e",
   "metadata": {},
   "outputs": [],
   "source": []
  },
  {
   "cell_type": "code",
   "execution_count": null,
   "id": "da4389af-6a85-4104-9289-513b9baee119",
   "metadata": {},
   "outputs": [],
   "source": []
  },
  {
   "cell_type": "code",
   "execution_count": null,
   "id": "bf331a19-3935-49a3-9aba-e98cc561461f",
   "metadata": {},
   "outputs": [],
   "source": []
  }
 ],
 "metadata": {
  "kernelspec": {
   "display_name": "Kotlin",
   "language": "kotlin",
   "name": "kotlin"
  },
  "language_info": {
   "codemirror_mode": "text/x-kotlin",
   "file_extension": ".kt",
   "mimetype": "text/x-kotlin",
   "name": "kotlin",
   "nbconvert_exporter": "",
   "pygments_lexer": "kotlin",
   "version": "1.8.20"
  }
 },
 "nbformat": 4,
 "nbformat_minor": 5
}
